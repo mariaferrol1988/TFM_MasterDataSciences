{
 "cells": [
  {
   "cell_type": "code",
   "execution_count": 20,
   "metadata": {
    "scrolled": false
   },
   "outputs": [
    {
     "data": {
      "text/html": [
       "<div>\n",
       "<style scoped>\n",
       "    .dataframe tbody tr th:only-of-type {\n",
       "        vertical-align: middle;\n",
       "    }\n",
       "\n",
       "    .dataframe tbody tr th {\n",
       "        vertical-align: top;\n",
       "    }\n",
       "\n",
       "    .dataframe thead th {\n",
       "        text-align: right;\n",
       "    }\n",
       "</style>\n",
       "<table border=\"1\" class=\"dataframe\">\n",
       "  <thead>\n",
       "    <tr style=\"text-align: right;\">\n",
       "      <th></th>\n",
       "      <th>Year</th>\n",
       "      <th>AREMonth</th>\n",
       "      <th>vhRentaa</th>\n",
       "      <th>CHealth</th>\n",
       "      <th>HHHolidays_Yes</th>\n",
       "      <th>HHFood_Yes</th>\n",
       "      <th>HHReserves_Yes</th>\n",
       "      <th>HHComputer_Yes</th>\n",
       "      <th>HHCar_Yes</th>\n",
       "      <th>HousingCost_HighImpactHH</th>\n",
       "      <th>HousingCost_MediumImpactHH</th>\n",
       "      <th>HHHeath_Yes</th>\n",
       "      <th>vhPobreza_vhPobreza_Yes</th>\n",
       "      <th>vhMATDEP_vhMATDEP_Yes</th>\n",
       "      <th>CrConditions_NChronic</th>\n",
       "      <th>HLimitations_NoLimited</th>\n",
       "      <th>LifeSatisfaction0</th>\n",
       "      <th>LifeSatisfaction2</th>\n",
       "    </tr>\n",
       "  </thead>\n",
       "  <tbody>\n",
       "    <tr>\n",
       "      <th>267835</th>\n",
       "      <td>2013</td>\n",
       "      <td>5.0</td>\n",
       "      <td>88450.00</td>\n",
       "      <td>1.0</td>\n",
       "      <td>1</td>\n",
       "      <td>1</td>\n",
       "      <td>1</td>\n",
       "      <td>1</td>\n",
       "      <td>1</td>\n",
       "      <td>1</td>\n",
       "      <td>0</td>\n",
       "      <td>1</td>\n",
       "      <td>0</td>\n",
       "      <td>0</td>\n",
       "      <td>1</td>\n",
       "      <td>1</td>\n",
       "      <td>8.0</td>\n",
       "      <td>8.000000</td>\n",
       "    </tr>\n",
       "    <tr>\n",
       "      <th>267836</th>\n",
       "      <td>2013</td>\n",
       "      <td>5.0</td>\n",
       "      <td>88450.00</td>\n",
       "      <td>2.0</td>\n",
       "      <td>1</td>\n",
       "      <td>1</td>\n",
       "      <td>1</td>\n",
       "      <td>1</td>\n",
       "      <td>1</td>\n",
       "      <td>1</td>\n",
       "      <td>0</td>\n",
       "      <td>1</td>\n",
       "      <td>0</td>\n",
       "      <td>0</td>\n",
       "      <td>1</td>\n",
       "      <td>1</td>\n",
       "      <td>8.0</td>\n",
       "      <td>8.000000</td>\n",
       "    </tr>\n",
       "    <tr>\n",
       "      <th>267837</th>\n",
       "      <td>2013</td>\n",
       "      <td>5.0</td>\n",
       "      <td>88450.00</td>\n",
       "      <td>2.0</td>\n",
       "      <td>1</td>\n",
       "      <td>1</td>\n",
       "      <td>1</td>\n",
       "      <td>1</td>\n",
       "      <td>1</td>\n",
       "      <td>1</td>\n",
       "      <td>0</td>\n",
       "      <td>1</td>\n",
       "      <td>0</td>\n",
       "      <td>0</td>\n",
       "      <td>1</td>\n",
       "      <td>1</td>\n",
       "      <td>6.5</td>\n",
       "      <td>6.728170</td>\n",
       "    </tr>\n",
       "    <tr>\n",
       "      <th>267838</th>\n",
       "      <td>2013</td>\n",
       "      <td>3.0</td>\n",
       "      <td>30558.69</td>\n",
       "      <td>1.0</td>\n",
       "      <td>0</td>\n",
       "      <td>1</td>\n",
       "      <td>1</td>\n",
       "      <td>1</td>\n",
       "      <td>1</td>\n",
       "      <td>0</td>\n",
       "      <td>1</td>\n",
       "      <td>1</td>\n",
       "      <td>0</td>\n",
       "      <td>0</td>\n",
       "      <td>1</td>\n",
       "      <td>1</td>\n",
       "      <td>8.5</td>\n",
       "      <td>8.540183</td>\n",
       "    </tr>\n",
       "    <tr>\n",
       "      <th>267839</th>\n",
       "      <td>2013</td>\n",
       "      <td>3.0</td>\n",
       "      <td>30558.69</td>\n",
       "      <td>2.0</td>\n",
       "      <td>0</td>\n",
       "      <td>1</td>\n",
       "      <td>1</td>\n",
       "      <td>1</td>\n",
       "      <td>1</td>\n",
       "      <td>0</td>\n",
       "      <td>1</td>\n",
       "      <td>1</td>\n",
       "      <td>0</td>\n",
       "      <td>0</td>\n",
       "      <td>1</td>\n",
       "      <td>1</td>\n",
       "      <td>7.5</td>\n",
       "      <td>7.996524</td>\n",
       "    </tr>\n",
       "  </tbody>\n",
       "</table>\n",
       "</div>"
      ],
      "text/plain": [
       "        Year  AREMonth  vhRentaa  CHealth  HHHolidays_Yes  HHFood_Yes  \\\n",
       "267835  2013       5.0  88450.00      1.0               1           1   \n",
       "267836  2013       5.0  88450.00      2.0               1           1   \n",
       "267837  2013       5.0  88450.00      2.0               1           1   \n",
       "267838  2013       3.0  30558.69      1.0               0           1   \n",
       "267839  2013       3.0  30558.69      2.0               0           1   \n",
       "\n",
       "        HHReserves_Yes  HHComputer_Yes  HHCar_Yes  HousingCost_HighImpactHH  \\\n",
       "267835               1               1          1                         1   \n",
       "267836               1               1          1                         1   \n",
       "267837               1               1          1                         1   \n",
       "267838               1               1          1                         0   \n",
       "267839               1               1          1                         0   \n",
       "\n",
       "        HousingCost_MediumImpactHH  HHHeath_Yes  vhPobreza_vhPobreza_Yes  \\\n",
       "267835                           0            1                        0   \n",
       "267836                           0            1                        0   \n",
       "267837                           0            1                        0   \n",
       "267838                           1            1                        0   \n",
       "267839                           1            1                        0   \n",
       "\n",
       "        vhMATDEP_vhMATDEP_Yes  CrConditions_NChronic  HLimitations_NoLimited  \\\n",
       "267835                      0                      1                       1   \n",
       "267836                      0                      1                       1   \n",
       "267837                      0                      1                       1   \n",
       "267838                      0                      1                       1   \n",
       "267839                      0                      1                       1   \n",
       "\n",
       "        LifeSatisfaction0  LifeSatisfaction2  \n",
       "267835                8.0           8.000000  \n",
       "267836                8.0           8.000000  \n",
       "267837                6.5           6.728170  \n",
       "267838                8.5           8.540183  \n",
       "267839                7.5           7.996524  "
      ]
     },
     "execution_count": 20,
     "metadata": {},
     "output_type": "execute_result"
    }
   ],
   "source": [
    "import pandas as pd\n",
    "import numpy as np\n",
    "pd.set_option(\"display.max_columns\", None) \n",
    "pd.set_option(\"display.max_rows\", None)\n",
    "\n",
    "model_var = ['Year','HHHolidays_Yes', 'HHFood_Yes', 'HHReserves_Yes', 'HHComputer_Yes', 'HHCar_Yes', 'HousingCost_HighImpactHH',\n",
    "             'HousingCost_MediumImpactHH', 'HHHeath_Yes', 'vhPobreza_vhPobreza_Yes', 'vhMATDEP_vhMATDEP_Yes','vhRentaa',\n",
    "             'CHealth','AREMonth', 'CrConditions_NChronic','HLimitations_NoLimited','LifeSatisfaction0','LifeSatisfaction2']\n",
    "\n",
    "\n",
    "df = pd.read_csv('./Files/ECV_2004_2018.csv.gz', sep = ';', compression='gzip', usecols = model_var).dropna()\n",
    "df_model = df[(df['Year'] == 2018) | (df['Year'] == 2013)]\n",
    "\n",
    "df_model.head()"
   ]
  },
  {
   "cell_type": "markdown",
   "metadata": {},
   "source": [
    "# Librerías"
   ]
  },
  {
   "cell_type": "code",
   "execution_count": 5,
   "metadata": {},
   "outputs": [],
   "source": [
    "# Modelos\n",
    "from sklearn.linear_model import LinearRegression\n",
    "from sklearn.neighbors import KNeighborsRegressor\n",
    "from sklearn.tree import DecisionTreeRegressor\n",
    "from sklearn.ensemble import RandomForestRegressor\n",
    "\n",
    "# Métricas\n",
    "from sklearn.metrics import mean_absolute_error\n",
    "from sklearn.metrics import mean_squared_error\n",
    "from sklearn.metrics import r2_score\n",
    "\n",
    "# Selección de variables\n",
    "import statsmodels.api as sm\n",
    "\n",
    "# Hyperparameter tunning \n",
    "from sklearn.model_selection import GridSearchCV\n",
    "from sklearn.model_selection import RandomizedSearchCV\n",
    "\n",
    "# Validación \n",
    "from sklearn.model_selection import train_test_split\n",
    "from sklearn.model_selection import cross_val_score"
   ]
  },
  {
   "cell_type": "markdown",
   "metadata": {},
   "source": [
    "# Variables "
   ]
  },
  {
   "cell_type": "code",
   "execution_count": 21,
   "metadata": {},
   "outputs": [],
   "source": [
    "# Variables\n",
    "X = df_model[['HHHolidays_Yes', 'HHFood_Yes', 'HHReserves_Yes', 'HHComputer_Yes', 'HHCar_Yes', 'HousingCost_HighImpactHH',\n",
    "              'HousingCost_MediumImpactHH', 'HHHeath_Yes', 'vhPobreza_vhPobreza_Yes', 'vhMATDEP_vhMATDEP_Yes','vhRentaa',\n",
    "              'CrConditions_NChronic','HLimitations_NoLimited','CHealth','AREMonth']]\n",
    "\n",
    "# variable output con media aritmética\n",
    "y1 = df_model['LifeSatisfaction0']\n",
    "# variable output con predominio de variables de satisfacción con la vida\n",
    "y2 = df_model['LifeSatisfaction2']"
   ]
  },
  {
   "cell_type": "markdown",
   "metadata": {},
   "source": [
    "# Modelos"
   ]
  },
  {
   "cell_type": "code",
   "execution_count": 22,
   "metadata": {},
   "outputs": [],
   "source": [
    "# Train - Test Split y1\n",
    "X_train1, X_test1, y_train1, y_test1 = train_test_split(\n",
    "    X,y1, test_size = 0.2, random_state = 42)\n",
    "# Train - Test Split y2\n",
    "X_train2, X_test2, y_train2, y_test2 = train_test_split(\n",
    "    X,y2, test_size = 0.2, random_state = 42)"
   ]
  },
  {
   "cell_type": "markdown",
   "metadata": {},
   "source": [
    "* ### Linear Regression"
   ]
  },
  {
   "cell_type": "markdown",
   "metadata": {},
   "source": [
    "#### a) Variable y1"
   ]
  },
  {
   "cell_type": "code",
   "execution_count": 23,
   "metadata": {},
   "outputs": [],
   "source": [
    "# Instancia\n",
    "reg1 = LinearRegression()\n",
    "# Fit del modelo\n",
    "reg1.fit(X_train1, y_train1)\n",
    "# Predicción de los valores en test\n",
    "pred1=reg1.predict(X_test1)"
   ]
  },
  {
   "cell_type": "markdown",
   "metadata": {},
   "source": [
    "#### b) Variable y2"
   ]
  },
  {
   "cell_type": "code",
   "execution_count": 24,
   "metadata": {},
   "outputs": [],
   "source": [
    "# Instancia\n",
    "reg2 = LinearRegression()\n",
    "# Fit del modelo\n",
    "reg2.fit(X_train2, y_train2)\n",
    "# Predicción de los valores en test\n",
    "pred2=reg2.predict(X_test2)"
   ]
  },
  {
   "cell_type": "markdown",
   "metadata": {},
   "source": [
    "* ### Kneighbors"
   ]
  },
  {
   "cell_type": "markdown",
   "metadata": {},
   "source": [
    "#### a) Variable y1"
   ]
  },
  {
   "cell_type": "code",
   "execution_count": 25,
   "metadata": {},
   "outputs": [],
   "source": [
    "# Instancia\n",
    "regk_1 = KNeighborsRegressor(n_neighbors=298)\n",
    "\n",
    "# Fit del modelo\n",
    "regk_1.fit(X_train1, y_train1)\n",
    "\n",
    "# Predicción de los valores en test\n",
    "predK1=regk_1.predict(X_test1)"
   ]
  },
  {
   "cell_type": "markdown",
   "metadata": {},
   "source": [
    "#### b) Variable y2"
   ]
  },
  {
   "cell_type": "code",
   "execution_count": 26,
   "metadata": {},
   "outputs": [],
   "source": [
    "# Instancia\n",
    "regk_2 = KNeighborsRegressor(n_neighbors=298)\n",
    "\n",
    "# Fit del modelo\n",
    "regk_2.fit(X_train2, y_train2)\n",
    "\n",
    "# Predicción de los valores en test\n",
    "predk2=regk_2.predict(X_test2)"
   ]
  },
  {
   "cell_type": "markdown",
   "metadata": {},
   "source": [
    "* ### Decision Tree"
   ]
  },
  {
   "cell_type": "markdown",
   "metadata": {},
   "source": [
    "#### a) Variable y1"
   ]
  },
  {
   "cell_type": "code",
   "execution_count": 27,
   "metadata": {},
   "outputs": [],
   "source": [
    "# Instancia\n",
    "regd_1 = DecisionTreeRegressor(min_samples_split = 6,\n",
    "                             max_depth = 12,\n",
    "                             min_samples_leaf = 4)\n",
    "\n",
    "# Fit del modelo\n",
    "regd_1.fit(X_train1, y_train1)\n",
    "\n",
    "# Predicción de los valores en test\n",
    "predd1=regd_1.predict(X_test1)"
   ]
  },
  {
   "cell_type": "markdown",
   "metadata": {},
   "source": [
    "#### b) Variable y2"
   ]
  },
  {
   "cell_type": "code",
   "execution_count": 28,
   "metadata": {},
   "outputs": [],
   "source": [
    "# Instancia\n",
    "regd_2 = DecisionTreeRegressor(min_samples_split = 6,\n",
    "                             max_depth = 11,\n",
    "                             min_samples_leaf = 12)\n",
    "\n",
    "# Fit del modelo\n",
    "regd_2.fit(X_train2, y_train2)\n",
    "\n",
    "# Predicción de los valores en test\n",
    "predd2=regd_2.predict(X_test2)"
   ]
  },
  {
   "cell_type": "markdown",
   "metadata": {},
   "source": [
    "* ### Random Forest"
   ]
  },
  {
   "cell_type": "markdown",
   "metadata": {},
   "source": [
    "#### a) Variable y1"
   ]
  },
  {
   "cell_type": "code",
   "execution_count": 29,
   "metadata": {},
   "outputs": [],
   "source": [
    "# Instancia\n",
    "rdfreg1 = RandomForestRegressor(n_estimators = 100, \n",
    "                               min_samples_split = 30, \n",
    "                               min_samples_leaf = 60, \n",
    "                               max_depth = 10)\n",
    "# Fit del modelo\n",
    "rdfreg1.fit(X_train1, y_train1)\n",
    "\n",
    "# Predicción de los valores en test\n",
    "predrdf1=rdfreg1.predict(X_test1)"
   ]
  },
  {
   "cell_type": "markdown",
   "metadata": {},
   "source": [
    "#### b) Variable y2"
   ]
  },
  {
   "cell_type": "code",
   "execution_count": 30,
   "metadata": {},
   "outputs": [],
   "source": [
    "rdfreg2 = RandomForestRegressor(n_estimators = 100, \n",
    "                               min_samples_split = 30, \n",
    "                               min_samples_leaf = 60, \n",
    "                               max_depth = 10)\n",
    "# Fit del modelo\n",
    "rdfreg2.fit(X_train2, y_train2)\n",
    "\n",
    "# Predicción de los valores en test\n",
    "predrdf2=rdfreg2.predict(X_test2)"
   ]
  },
  {
   "cell_type": "markdown",
   "metadata": {},
   "source": [
    "# Resultados"
   ]
  },
  {
   "cell_type": "code",
   "execution_count": 31,
   "metadata": {},
   "outputs": [
    {
     "name": "stdout",
     "output_type": "stream",
     "text": [
      "Resultados Regresión Lineal con variable de Satisfacción 0:\n",
      "MAPE: 0.9865638849308722\n",
      "MAE: 0.9865638849308732\n",
      "RMSE: 1.27069016481389\n",
      "correlation coefficient: 0.5310483664550603\n",
      "R2_score: 0.28126389047407496\n",
      "-------------\n",
      "Resultados Regresión Lineal con variable de Satisfacción 2:\n",
      "MAPE: 0.9781555415583661\n",
      "MAE: 0.9781555415583668\n",
      "RMSE: 1.2707319416569327\n",
      "correlation coefficient: 0.5648195017266774\n",
      "R2_score: 0.31841627632611713\n",
      "----------------------------\n",
      "----------------------------\n",
      "Resultados Kneighbors con variable de Satisfacción 0:\n",
      "MAPE: 1.126348775164632\n",
      "MAE: 1.126348775164633\n",
      "RMSE: 1.4490189288398527\n",
      "-------------\n",
      "Resultados Kneighbors con variable de Satisfacción 1:\n",
      "MAPE: 1.1352512101996934\n",
      "MAE: 1.135251210199695\n",
      "RMSE: 1.474600701264951\n",
      "----------------------------\n",
      "----------------------------\n",
      "Resultados Decision Tree con variable de Satisfacción 0:\n",
      "MAPE: 1.0239223160037918\n",
      "MAE: 1.0239223160037925\n",
      "RMSE: 1.3181105901421115\n",
      "-------------\n",
      "Resultados Decision Tree con variable de Satisfacción 1:\n",
      "MAPE: 0.9959680204133737\n",
      "MAE: 0.9959680204133757\n",
      "RMSE: 1.2979043925713933\n",
      "----------------------------\n",
      "----------------------------\n",
      "Resultados Random Forest con variable de Satisfacción 0:\n",
      "MAPE: 0.9845178607500807\n",
      "MAE: 0.9845178607500756\n",
      "RMSE: 1.2676879442057092\n",
      "-------------\n",
      "Resultados Random Forest con variable de Satisfacción 1:\n",
      "MAPE: 0.972931630402821\n",
      "MAE: 0.9729316304028217\n",
      "RMSE: 1.2654814461734574\n"
     ]
    }
   ],
   "source": [
    "# Regresión Lineal variable 1\n",
    "print('Resultados Regresión Lineal con variable de Satisfacción 0:')\n",
    "print('MAPE: ' + str(np.mean(np.abs(y_test1-pred1))))\n",
    "print('MAE: ' + str(mean_absolute_error(y_test1,pred1)))\n",
    "print('RMSE: ' + str(np.sqrt(mean_squared_error(reg1.predict((X_test1)),y_test1))))\n",
    "print('correlation coefficient: ' + str(np.corrcoef(reg1.predict(X_test1), y_test1)[0][1]))\n",
    "print('R2_score: ' + str(r2_score(y_test1,pred1,multioutput='variance_weighted')))\n",
    "print('-------------')\n",
    "# Regresión Lineal variable 2 \n",
    "print('Resultados Regresión Lineal con variable de Satisfacción 2:')\n",
    "print('MAPE: ' + str(np.mean(np.abs(y_test2-pred2))))\n",
    "print('MAE: ' + str(mean_absolute_error(y_test2,pred2)))\n",
    "print('RMSE: ' + str(np.sqrt(mean_squared_error(reg2.predict((X_test2)),y_test2))))\n",
    "print('correlation coefficient: ' + str(np.corrcoef(reg2.predict(X_test2), y_test2)[0][1]))\n",
    "print('R2_score: ' + str(r2_score(y_test2,pred2,multioutput='variance_weighted')))\n",
    "print('----------------------------')\n",
    "print('----------------------------')\n",
    "# Kneighbors variable 1\n",
    "print('Resultados Kneighbors con variable de Satisfacción 0:')\n",
    "print('MAPE: ' + str(np.mean(np.abs(y_test1-predK1))))\n",
    "print('MAE: ' + str(mean_absolute_error(y_test1,predK1)))\n",
    "print('RMSE: ' + str(np.sqrt(mean_squared_error(regk_1.predict((X_test1)),y_test1))))\n",
    "print('-------------')\n",
    "# Kneighbors variable 2\n",
    "print('Resultados Kneighbors con variable de Satisfacción 1:')\n",
    "print('MAPE: ' + str(np.mean(np.abs(y_test2-predk2))))\n",
    "print('MAE: ' + str(mean_absolute_error(y_test2,predk2)))\n",
    "print('RMSE: ' + str(np.sqrt(mean_squared_error(regk_2.predict((X_test2)),y_test2))))\n",
    "print('----------------------------')\n",
    "print('----------------------------')\n",
    "# Decision tree variable 1\n",
    "print('Resultados Decision Tree con variable de Satisfacción 0:')\n",
    "print('MAPE: ' + str(np.mean(np.abs(y_test1-predd1))))\n",
    "print('MAE: ' + str(mean_absolute_error(y_test1,predd1)))\n",
    "print('RMSE: ' + str(np.sqrt(mean_squared_error(regd_1.predict((X_test1)),y_test1))))\n",
    "print('-------------')\n",
    "# Decision tree variable 2\n",
    "print('Resultados Decision Tree con variable de Satisfacción 1:')\n",
    "print('MAPE: ' + str(np.mean(np.abs(y_test2-predd2))))\n",
    "print('MAE: ' + str(mean_absolute_error(y_test2,predd2)))\n",
    "print('RMSE: ' + str(np.sqrt(mean_squared_error(regd_2.predict((X_test2)),y_test2))))\n",
    "# Random Forest variable 1\n",
    "print('----------------------------')\n",
    "print('----------------------------')\n",
    "print('Resultados Random Forest con variable de Satisfacción 0:')\n",
    "print('MAPE: ' + str(np.mean(np.abs(y_test1-predrdf1))))\n",
    "print('MAE: ' + str(mean_absolute_error(y_test1,predrdf1)))\n",
    "print('RMSE: ' + str(np.sqrt(mean_squared_error(rdfreg1.predict((X_test1)),y_test1))))\n",
    "print('-------------')\n",
    "# Random Forest variable 1\n",
    "print('Resultados Random Forest con variable de Satisfacción 1:')\n",
    "print('MAPE: ' + str(np.mean(np.abs(y_test2-predrdf2))))\n",
    "print('MAE: ' + str(mean_absolute_error(y_test2,predrdf2)))\n",
    "print('RMSE: ' + str(np.sqrt(mean_squared_error(rdfreg2.predict((X_test2)),y_test2))))"
   ]
  },
  {
   "cell_type": "markdown",
   "metadata": {},
   "source": [
    "# Feature Selection "
   ]
  },
  {
   "cell_type": "markdown",
   "metadata": {},
   "source": [
    "# Hyperparameter tuning"
   ]
  },
  {
   "cell_type": "markdown",
   "metadata": {},
   "source": [
    "### Kneighbors"
   ]
  },
  {
   "cell_type": "markdown",
   "metadata": {},
   "source": [
    "##### Kneighbors y1"
   ]
  },
  {
   "cell_type": "code",
   "execution_count": null,
   "metadata": {},
   "outputs": [],
   "source": [
    "%%time\n",
    "regk1 = GridSearchCV(KNeighborsRegressor(),\n",
    "                  param_grid={\"n_neighbors\":np.arange(4,300)},\n",
    "                  cv=5,\n",
    "                  scoring=\"neg_mean_absolute_error\")\n",
    "\n",
    "\n",
    "regk1.fit(X,y1)\n",
    "\n",
    "print(regk1.best_params_)"
   ]
  },
  {
   "cell_type": "markdown",
   "metadata": {},
   "source": [
    "##### Kneighbors y2"
   ]
  },
  {
   "cell_type": "code",
   "execution_count": null,
   "metadata": {},
   "outputs": [],
   "source": [
    "%%time\n",
    "regk2 = GridSearchCV(KNeighborsRegressor(),\n",
    "                  param_grid={\"n_neighbors\":np.arange(4,300)},\n",
    "                  cv=5,\n",
    "                  scoring=\"neg_mean_absolute_error\")\n",
    "\n",
    "\n",
    "regk2.fit(X,y2)\n",
    "\n",
    "print(regk2.best_params_)"
   ]
  },
  {
   "cell_type": "markdown",
   "metadata": {},
   "source": [
    "### Decision Tree"
   ]
  },
  {
   "cell_type": "markdown",
   "metadata": {},
   "source": [
    "##### Decision Tree y1"
   ]
  },
  {
   "cell_type": "code",
   "execution_count": null,
   "metadata": {},
   "outputs": [],
   "source": [
    "%%time\n",
    "\n",
    "regd1 = GridSearchCV(DecisionTreeRegressor(),\n",
    "                  param_grid={\"min_samples_split\":np.arange(4,15),\n",
    "                              \"max_depth\":np.arange(4,15),\n",
    "                             'min_samples_leaf':np.arange(4,15)},\n",
    "                  cv=5,\n",
    "                  scoring=\"neg_mean_absolute_error\")\n",
    "\n",
    "\n",
    "regd1.fit(X,y1)\n",
    "\n",
    "print(regd1.best_params_)"
   ]
  },
  {
   "cell_type": "markdown",
   "metadata": {},
   "source": [
    "##### Decision Tree y2"
   ]
  },
  {
   "cell_type": "code",
   "execution_count": null,
   "metadata": {},
   "outputs": [],
   "source": [
    "%%time\n",
    "\n",
    "regd2 = GridSearchCV(DecisionTreeRegressor(),\n",
    "                  param_grid={\"min_samples_split\":np.arange(4,15),\n",
    "                              \"max_depth\":np.arange(4,15),\n",
    "                             'min_samples_leaf':np.arange(4,15)},\n",
    "                  cv=5,\n",
    "                  scoring=\"neg_mean_absolute_error\")\n",
    "\n",
    "\n",
    "regd2.fit(X,y2)\n",
    "\n",
    "print(regd2.best_params_)"
   ]
  },
  {
   "cell_type": "markdown",
   "metadata": {},
   "source": [
    "### Random Forest"
   ]
  },
  {
   "cell_type": "code",
   "execution_count": 19,
   "metadata": {},
   "outputs": [],
   "source": [
    "# Hiperparametros\n",
    "# n_estimators - number of intances - Number of trees\n",
    "n_estimators = [50,100,200,400,600]\n",
    "\n",
    "# max_depth: Maximun number of levels in the tree\n",
    "max_depth = [10,20,30,40,50]\n",
    "\n",
    "# min_sample_split: Min number of samples to split a node\n",
    "min_samples_split = [20,30,40,50,60]\n",
    "\n",
    "# min_sample_leaf: Min number of samples at each leaf node\n",
    "min_samples_leaf = [20,30,40,50,60]\n",
    "\n",
    "# min_sample_leaf: Min number of samples at each leaf node\n",
    "grid_param = {'n_estimators':n_estimators, 'max_depth':max_depth, 'min_samples_split': min_samples_split,\n",
    "              'min_samples_leaf':min_samples_leaf}"
   ]
  },
  {
   "cell_type": "markdown",
   "metadata": {},
   "source": [
    "##### Random Forest y1"
   ]
  },
  {
   "cell_type": "code",
   "execution_count": null,
   "metadata": {},
   "outputs": [],
   "source": [
    "%%time\n",
    "\n",
    "rscv1 = RandomizedSearchCV(estimator = RandomForestRegressor(), param_distributions = grid_param, \n",
    "                        n_iter = 100, cv = 5, verbose = 2, random_state = 33, \n",
    "                        n_jobs = -1)\n",
    "\n",
    "rscv1.fit(X,y1)\n",
    "\n",
    "print(rscv1.best_params_)"
   ]
  },
  {
   "cell_type": "markdown",
   "metadata": {},
   "source": [
    "##### Random Forest y2"
   ]
  },
  {
   "cell_type": "code",
   "execution_count": null,
   "metadata": {},
   "outputs": [],
   "source": [
    "%%time\n",
    "\n",
    "rscv1 = RandomizedSearchCV(estimator = RandomForestRegressor(), param_distributions = grid_param, \n",
    "                        n_iter = 100, cv = 5, verbose = 2, random_state = 33, \n",
    "                        n_jobs = -1)\n",
    "\n",
    "rscv2.fit(X,y2)\n",
    "\n",
    "print(rscv2.best_params_)"
   ]
  }
 ],
 "metadata": {
  "kernelspec": {
   "display_name": "Python 3",
   "language": "python",
   "name": "python3"
  },
  "language_info": {
   "codemirror_mode": {
    "name": "ipython",
    "version": 3
   },
   "file_extension": ".py",
   "mimetype": "text/x-python",
   "name": "python",
   "nbconvert_exporter": "python",
   "pygments_lexer": "ipython3",
   "version": "3.7.4"
  }
 },
 "nbformat": 4,
 "nbformat_minor": 2
}
