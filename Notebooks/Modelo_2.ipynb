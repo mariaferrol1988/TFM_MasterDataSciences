{
 "cells": [
  {
   "cell_type": "code",
   "execution_count": 17,
   "metadata": {
    "scrolled": false
   },
   "outputs": [
    {
     "data": {
      "text/html": [
       "<div>\n",
       "<style scoped>\n",
       "    .dataframe tbody tr th:only-of-type {\n",
       "        vertical-align: middle;\n",
       "    }\n",
       "\n",
       "    .dataframe tbody tr th {\n",
       "        vertical-align: top;\n",
       "    }\n",
       "\n",
       "    .dataframe thead th {\n",
       "        text-align: right;\n",
       "    }\n",
       "</style>\n",
       "<table border=\"1\" class=\"dataframe\">\n",
       "  <thead>\n",
       "    <tr style=\"text-align: right;\">\n",
       "      <th></th>\n",
       "      <th>Year</th>\n",
       "      <th>AREMonth</th>\n",
       "      <th>vhRentaa</th>\n",
       "      <th>CHealth</th>\n",
       "      <th>HHHolidays_Yes</th>\n",
       "      <th>HHFood_Yes</th>\n",
       "      <th>HHReserves_Yes</th>\n",
       "      <th>HHComputer_Yes</th>\n",
       "      <th>HHCar_Yes</th>\n",
       "      <th>HousingCost_HighImpactHH</th>\n",
       "      <th>HousingCost_MediumImpactHH</th>\n",
       "      <th>HHHeath_Yes</th>\n",
       "      <th>vhPobreza_vhPobreza_Yes</th>\n",
       "      <th>vhMATDEP_vhMATDEP_Yes</th>\n",
       "      <th>LifeSatisfaction0</th>\n",
       "      <th>LifeSatisfaction2</th>\n",
       "    </tr>\n",
       "  </thead>\n",
       "  <tbody>\n",
       "    <tr>\n",
       "      <th>267835</th>\n",
       "      <td>2013</td>\n",
       "      <td>5.0</td>\n",
       "      <td>88450.00</td>\n",
       "      <td>1.0</td>\n",
       "      <td>1</td>\n",
       "      <td>1</td>\n",
       "      <td>1</td>\n",
       "      <td>1</td>\n",
       "      <td>1</td>\n",
       "      <td>1</td>\n",
       "      <td>0</td>\n",
       "      <td>1</td>\n",
       "      <td>0</td>\n",
       "      <td>0</td>\n",
       "      <td>8.0</td>\n",
       "      <td>8.000000</td>\n",
       "    </tr>\n",
       "    <tr>\n",
       "      <th>267836</th>\n",
       "      <td>2013</td>\n",
       "      <td>5.0</td>\n",
       "      <td>88450.00</td>\n",
       "      <td>2.0</td>\n",
       "      <td>1</td>\n",
       "      <td>1</td>\n",
       "      <td>1</td>\n",
       "      <td>1</td>\n",
       "      <td>1</td>\n",
       "      <td>1</td>\n",
       "      <td>0</td>\n",
       "      <td>1</td>\n",
       "      <td>0</td>\n",
       "      <td>0</td>\n",
       "      <td>8.0</td>\n",
       "      <td>8.000000</td>\n",
       "    </tr>\n",
       "    <tr>\n",
       "      <th>267837</th>\n",
       "      <td>2013</td>\n",
       "      <td>5.0</td>\n",
       "      <td>88450.00</td>\n",
       "      <td>2.0</td>\n",
       "      <td>1</td>\n",
       "      <td>1</td>\n",
       "      <td>1</td>\n",
       "      <td>1</td>\n",
       "      <td>1</td>\n",
       "      <td>1</td>\n",
       "      <td>0</td>\n",
       "      <td>1</td>\n",
       "      <td>0</td>\n",
       "      <td>0</td>\n",
       "      <td>6.5</td>\n",
       "      <td>6.728170</td>\n",
       "    </tr>\n",
       "    <tr>\n",
       "      <th>267838</th>\n",
       "      <td>2013</td>\n",
       "      <td>3.0</td>\n",
       "      <td>30558.69</td>\n",
       "      <td>1.0</td>\n",
       "      <td>0</td>\n",
       "      <td>1</td>\n",
       "      <td>1</td>\n",
       "      <td>1</td>\n",
       "      <td>1</td>\n",
       "      <td>0</td>\n",
       "      <td>1</td>\n",
       "      <td>1</td>\n",
       "      <td>0</td>\n",
       "      <td>0</td>\n",
       "      <td>8.5</td>\n",
       "      <td>8.540183</td>\n",
       "    </tr>\n",
       "    <tr>\n",
       "      <th>267839</th>\n",
       "      <td>2013</td>\n",
       "      <td>3.0</td>\n",
       "      <td>30558.69</td>\n",
       "      <td>2.0</td>\n",
       "      <td>0</td>\n",
       "      <td>1</td>\n",
       "      <td>1</td>\n",
       "      <td>1</td>\n",
       "      <td>1</td>\n",
       "      <td>0</td>\n",
       "      <td>1</td>\n",
       "      <td>1</td>\n",
       "      <td>0</td>\n",
       "      <td>0</td>\n",
       "      <td>7.5</td>\n",
       "      <td>7.996524</td>\n",
       "    </tr>\n",
       "  </tbody>\n",
       "</table>\n",
       "</div>"
      ],
      "text/plain": [
       "        Year  AREMonth  vhRentaa  CHealth  HHHolidays_Yes  HHFood_Yes  \\\n",
       "267835  2013       5.0  88450.00      1.0               1           1   \n",
       "267836  2013       5.0  88450.00      2.0               1           1   \n",
       "267837  2013       5.0  88450.00      2.0               1           1   \n",
       "267838  2013       3.0  30558.69      1.0               0           1   \n",
       "267839  2013       3.0  30558.69      2.0               0           1   \n",
       "\n",
       "        HHReserves_Yes  HHComputer_Yes  HHCar_Yes  HousingCost_HighImpactHH  \\\n",
       "267835               1               1          1                         1   \n",
       "267836               1               1          1                         1   \n",
       "267837               1               1          1                         1   \n",
       "267838               1               1          1                         0   \n",
       "267839               1               1          1                         0   \n",
       "\n",
       "        HousingCost_MediumImpactHH  HHHeath_Yes  vhPobreza_vhPobreza_Yes  \\\n",
       "267835                           0            1                        0   \n",
       "267836                           0            1                        0   \n",
       "267837                           0            1                        0   \n",
       "267838                           1            1                        0   \n",
       "267839                           1            1                        0   \n",
       "\n",
       "        vhMATDEP_vhMATDEP_Yes  LifeSatisfaction0  LifeSatisfaction2  \n",
       "267835                      0                8.0           8.000000  \n",
       "267836                      0                8.0           8.000000  \n",
       "267837                      0                6.5           6.728170  \n",
       "267838                      0                8.5           8.540183  \n",
       "267839                      0                7.5           7.996524  "
      ]
     },
     "execution_count": 17,
     "metadata": {},
     "output_type": "execute_result"
    }
   ],
   "source": [
    "import pandas as pd\n",
    "import numpy as np\n",
    "pd.set_option(\"display.max_columns\", None) \n",
    "pd.set_option(\"display.max_rows\", None)\n",
    "\n",
    "model_var = ['Year','HHHolidays_Yes', 'HHFood_Yes', 'HHReserves_Yes', 'HHComputer_Yes', 'HHCar_Yes', 'HousingCost_HighImpactHH',\n",
    "             'HousingCost_MediumImpactHH', 'HHHeath_Yes', 'vhPobreza_vhPobreza_Yes', 'vhMATDEP_vhMATDEP_Yes','vhRentaa',\n",
    "             'CHealth','AREMonth', 'LifeSatisfaction0','LifeSatisfaction2']\n",
    "\n",
    "\n",
    "df = pd.read_csv('./Files/ECV_2004_2018.csv.gz', sep = ';', compression='gzip', usecols = model_var).dropna()\n",
    "df_model = df[(df['Year'] == 2018) | (df['Year'] == 2013)]\n",
    "\n",
    "df_model.head()"
   ]
  },
  {
   "cell_type": "markdown",
   "metadata": {},
   "source": [
    "# a) Linear Regression"
   ]
  },
  {
   "cell_type": "code",
   "execution_count": 18,
   "metadata": {},
   "outputs": [],
   "source": [
    "# Librerías\n",
    "from sklearn.linear_model import LinearRegression\n",
    "from sklearn.model_selection import train_test_split"
   ]
  },
  {
   "cell_type": "markdown",
   "metadata": {},
   "source": [
    "##### Modelo con variable de Satisfacción con la vida 0"
   ]
  },
  {
   "cell_type": "code",
   "execution_count": 19,
   "metadata": {},
   "outputs": [],
   "source": [
    "# Versión con la variable 1 de satisfacción con la vida\n",
    "# Variables \n",
    "\n",
    "X = df_model[['HHHolidays_Yes', 'HHFood_Yes', 'HHReserves_Yes', 'HHComputer_Yes', 'HHCar_Yes', 'HousingCost_HighImpactHH',\n",
    "             'HousingCost_MediumImpactHH', 'HHHeath_Yes', 'vhPobreza_vhPobreza_Yes', 'vhMATDEP_vhMATDEP_Yes','vhRentaa',\n",
    "             'CHealth','AREMonth']]\n",
    "\n",
    "y1 = df_model['LifeSatisfaction0']\n",
    "\n",
    "# Train - Test Split\n",
    "X_train1, X_test1, y_train1, y_test1 = train_test_split(\n",
    "    X,y1, test_size = 0.2, random_state = 55)\n",
    "\n",
    "\n",
    "# Instancia\n",
    "reg = LinearRegression()\n",
    "\n",
    "# Fit del modelo\n",
    "reg.fit(X_train1, y_train1)\n",
    "\n",
    "# Predicción de los valores en test\n",
    "pred1=reg.predict(X_test1)"
   ]
  },
  {
   "cell_type": "markdown",
   "metadata": {},
   "source": [
    "##### Modelo con variable de Satisfacción con la vida 2"
   ]
  },
  {
   "cell_type": "code",
   "execution_count": 20,
   "metadata": {},
   "outputs": [],
   "source": [
    "# Versión con la variable 2 de satisfacción con la vida\n",
    "# Variables \n",
    "\n",
    "X = df_model[['HHHolidays_Yes', 'HHFood_Yes', 'HHReserves_Yes', 'HHComputer_Yes', 'HHCar_Yes', 'HousingCost_HighImpactHH',\n",
    "             'HousingCost_MediumImpactHH', 'HHHeath_Yes', 'vhPobreza_vhPobreza_Yes', 'vhMATDEP_vhMATDEP_Yes','vhRentaa',\n",
    "             'CHealth','AREMonth']]\n",
    "\n",
    "\n",
    "y2 = df_model['LifeSatisfaction2']\n",
    "\n",
    "# Train - Test Split\n",
    "X_train2, X_test2, y_train2, y_test2 = train_test_split(\n",
    "    X,y2, test_size = 0.2, random_state = 55)\n",
    "\n",
    "\n",
    "# Instancia\n",
    "reg = LinearRegression()\n",
    "\n",
    "# Fit del modelo\n",
    "reg.fit(X_train2, y_train2)\n",
    "\n",
    "# Predicción de los valores en test\n",
    "pred2=reg.predict(X_test2)"
   ]
  },
  {
   "cell_type": "markdown",
   "metadata": {},
   "source": [
    "* ### Resultados"
   ]
  },
  {
   "cell_type": "code",
   "execution_count": 22,
   "metadata": {},
   "outputs": [],
   "source": [
    "from sklearn.metrics import mean_absolute_error\n",
    "from sklearn.metrics import mean_squared_error\n",
    "from sklearn.metrics import r2_score"
   ]
  },
  {
   "cell_type": "markdown",
   "metadata": {},
   "source": [
    "##### Modelo con variable de Satisfacción con la vida 0"
   ]
  },
  {
   "cell_type": "code",
   "execution_count": 23,
   "metadata": {},
   "outputs": [
    {
     "name": "stdout",
     "output_type": "stream",
     "text": [
      "Modelo con variable de Satisfacción 0:\n",
      "MAPE: 0.9625324024093023\n",
      "MAE: 0.9625324024093074\n",
      "RMSE: 1.2471346709713906\n",
      "correlation coefficient: 0.5363816213456722\n",
      "R2_score: 0.28950082174886405\n"
     ]
    }
   ],
   "source": [
    "# Modelo con variable de satisfacción 0 \n",
    "print('Modelo con variable de Satisfacción 0:')\n",
    "print('MAPE: ' + str(np.mean(np.abs(y_test1-pred1))))\n",
    "print('MAE: ' + str(mean_absolute_error(y_test1,pred1)))\n",
    "print('RMSE: ' + str(np.sqrt(mean_squared_error(reg.predict((X_test1)),y_test1))))\n",
    "print('correlation coefficient: ' + str(np.corrcoef(reg.predict(X_test1), y_test1)[0][1]))\n",
    "print('R2_score: ' + str(r2_score(y_test1,pred1,multioutput='variance_weighted')))"
   ]
  },
  {
   "cell_type": "markdown",
   "metadata": {},
   "source": [
    "##### Modelo con variable de Satisfacción con la vida 2"
   ]
  },
  {
   "cell_type": "code",
   "execution_count": 26,
   "metadata": {},
   "outputs": [
    {
     "name": "stdout",
     "output_type": "stream",
     "text": [
      "Modelo con variable de Satisfacción 2:\n",
      "MAPE: 0.9553194038057741\n",
      "MAE: 0.9553194038057732\n",
      "RMSE: 1.2437143912196618\n",
      "correlation coefficient: 0.5727024907901481\n",
      "R2_score: 0.3277093824923545\n"
     ]
    }
   ],
   "source": [
    "# Modelo con variable de satisfacción 2 \n",
    "print('Modelo con variable de Satisfacción 2:')\n",
    "print('MAPE: ' + str(np.mean(np.abs(y_test2-pred2))))\n",
    "print('MAE: ' + str(mean_absolute_error(y_test2,pred2)))\n",
    "print('RMSE: ' + str(np.sqrt(mean_squared_error(reg.predict((X_test2)),y_test2))))\n",
    "print('correlation coefficient: ' + str(np.corrcoef(reg.predict(X_test2), y_test2)[0][1]))\n",
    "print('R2_score: ' + str(r2_score(y_test2,pred2,multioutput='variance_weighted')))"
   ]
  },
  {
   "cell_type": "markdown",
   "metadata": {},
   "source": [
    "# b) K - Neighbours"
   ]
  },
  {
   "cell_type": "code",
   "execution_count": 27,
   "metadata": {},
   "outputs": [],
   "source": [
    "from sklearn.neighbors import KNeighborsRegressor\n",
    "from sklearn.model_selection import cross_val_score\n",
    "from sklearn.model_selection import GridSearchCV"
   ]
  },
  {
   "cell_type": "markdown",
   "metadata": {},
   "source": [
    "##### Modelo con variable de Satisfacción con la vida 0"
   ]
  },
  {
   "cell_type": "code",
   "execution_count": 28,
   "metadata": {},
   "outputs": [
    {
     "name": "stdout",
     "output_type": "stream",
     "text": [
      "CPU times: user 17min 32s, sys: 11.8 s, total: 17min 44s\n",
      "Wall time: 17min 57s\n"
     ]
    },
    {
     "data": {
      "text/plain": [
       "GridSearchCV(cv=5, error_score=nan,\n",
       "             estimator=KNeighborsRegressor(algorithm='auto', leaf_size=30,\n",
       "                                           metric='minkowski',\n",
       "                                           metric_params=None, n_jobs=None,\n",
       "                                           n_neighbors=5, p=2,\n",
       "                                           weights='uniform'),\n",
       "             iid='deprecated', n_jobs=None,\n",
       "             param_grid={'n_neighbors': array([  4,   5,   6,   7,   8,   9,  10,  11,  12,  13,  14,  15,  16,\n",
       "        17,  18,  19,  20,  21,  22,  23,  24,  25,  26,  27,  28,  29,\n",
       "        30,  31,  32,  33,  34,  35,  36,  37,  38,  39,  40,  41...\n",
       "       238, 239, 240, 241, 242, 243, 244, 245, 246, 247, 248, 249, 250,\n",
       "       251, 252, 253, 254, 255, 256, 257, 258, 259, 260, 261, 262, 263,\n",
       "       264, 265, 266, 267, 268, 269, 270, 271, 272, 273, 274, 275, 276,\n",
       "       277, 278, 279, 280, 281, 282, 283, 284, 285, 286, 287, 288, 289,\n",
       "       290, 291, 292, 293, 294, 295, 296, 297, 298, 299])},\n",
       "             pre_dispatch='2*n_jobs', refit=True, return_train_score=False,\n",
       "             scoring='neg_mean_absolute_error', verbose=0)"
      ]
     },
     "execution_count": 28,
     "metadata": {},
     "output_type": "execute_result"
    }
   ],
   "source": [
    "%%time\n",
    "regk1 = GridSearchCV(KNeighborsRegressor(),\n",
    "                  param_grid={\"n_neighbors\":np.arange(4,300)},\n",
    "                  cv=5,\n",
    "                  scoring=\"neg_mean_absolute_error\")\n",
    "\n",
    "\n",
    "regk1.fit(X,y1)"
   ]
  },
  {
   "cell_type": "code",
   "execution_count": 29,
   "metadata": {},
   "outputs": [
    {
     "data": {
      "text/plain": [
       "{'n_neighbors': 298}"
      ]
     },
     "execution_count": 29,
     "metadata": {},
     "output_type": "execute_result"
    }
   ],
   "source": [
    "regk1.best_params_"
   ]
  },
  {
   "cell_type": "code",
   "execution_count": 30,
   "metadata": {},
   "outputs": [],
   "source": [
    "# Versión con la variable 1 de satisfacción con la vida\n",
    "# Variables - ya especificadas anteriormente\n",
    "\n",
    "# Instancia\n",
    "regk_1 = KNeighborsRegressor(n_neighbors=298)\n",
    "\n",
    "# Fit del modelo\n",
    "regk_1.fit(X_train1, y_train1)\n",
    "\n",
    "# Predicción de los valores en test\n",
    "predK1=regk_1.predict(X_test1)"
   ]
  },
  {
   "cell_type": "markdown",
   "metadata": {},
   "source": [
    "##### Modelo con variable de Satisfacción con la vida 2"
   ]
  },
  {
   "cell_type": "code",
   "execution_count": 32,
   "metadata": {},
   "outputs": [
    {
     "name": "stdout",
     "output_type": "stream",
     "text": [
      "CPU times: user 7min 12s, sys: 1.77 s, total: 7min 14s\n",
      "Wall time: 7min 15s\n"
     ]
    },
    {
     "data": {
      "text/plain": [
       "GridSearchCV(cv=5, error_score=nan,\n",
       "             estimator=KNeighborsRegressor(algorithm='auto', leaf_size=30,\n",
       "                                           metric='minkowski',\n",
       "                                           metric_params=None, n_jobs=None,\n",
       "                                           n_neighbors=5, p=2,\n",
       "                                           weights='uniform'),\n",
       "             iid='deprecated', n_jobs=None,\n",
       "             param_grid={'n_neighbors': array([  4,   5,   6,   7,   8,   9,  10,  11,  12,  13,  14,  15,  16,\n",
       "        17,  18,  19,  20,  21,  22,  23,  24,  25,  26,  27,  28,  29,\n",
       "        30,  31,  32,  33,  34,  35,  36,  37,  38,  39,  40,  41...\n",
       "       238, 239, 240, 241, 242, 243, 244, 245, 246, 247, 248, 249, 250,\n",
       "       251, 252, 253, 254, 255, 256, 257, 258, 259, 260, 261, 262, 263,\n",
       "       264, 265, 266, 267, 268, 269, 270, 271, 272, 273, 274, 275, 276,\n",
       "       277, 278, 279, 280, 281, 282, 283, 284, 285, 286, 287, 288, 289,\n",
       "       290, 291, 292, 293, 294, 295, 296, 297, 298, 299])},\n",
       "             pre_dispatch='2*n_jobs', refit=True, return_train_score=False,\n",
       "             scoring='neg_mean_absolute_error', verbose=0)"
      ]
     },
     "execution_count": 32,
     "metadata": {},
     "output_type": "execute_result"
    }
   ],
   "source": [
    "%%time\n",
    "regk2 = GridSearchCV(KNeighborsRegressor(),\n",
    "                  param_grid={\"n_neighbors\":np.arange(4,300)},\n",
    "                  cv=5,\n",
    "                  scoring=\"neg_mean_absolute_error\")\n",
    "\n",
    "\n",
    "regk2.fit(X,y2)"
   ]
  },
  {
   "cell_type": "code",
   "execution_count": 33,
   "metadata": {},
   "outputs": [
    {
     "data": {
      "text/plain": [
       "{'n_neighbors': 298}"
      ]
     },
     "execution_count": 33,
     "metadata": {},
     "output_type": "execute_result"
    }
   ],
   "source": [
    "regk2.best_params_"
   ]
  },
  {
   "cell_type": "code",
   "execution_count": 34,
   "metadata": {},
   "outputs": [],
   "source": [
    "# Versión con la variable 1 de satisfacción con la vida\n",
    "# Variables - ya especificadas anteriormente\n",
    "\n",
    "# Instancia\n",
    "regk_2 = KNeighborsRegressor(n_neighbors=298)\n",
    "\n",
    "# Fit del modelo\n",
    "regk_2.fit(X_train2, y_train2)\n",
    "\n",
    "# Predicción de los valores en test\n",
    "predk2=regk_2.predict(X_test2)"
   ]
  },
  {
   "cell_type": "markdown",
   "metadata": {},
   "source": [
    "* ### Resultados"
   ]
  },
  {
   "cell_type": "markdown",
   "metadata": {},
   "source": [
    "##### Modelo con variable de Satisfacción con la vida 0"
   ]
  },
  {
   "cell_type": "code",
   "execution_count": 31,
   "metadata": {},
   "outputs": [
    {
     "name": "stdout",
     "output_type": "stream",
     "text": [
      "Modelo con variable de Satisfacción 0:\n",
      "MAPE: 1.1045478845128265\n",
      "MAE: 1.104547884512821\n",
      "RMSE: 1.4284254135931043\n"
     ]
    }
   ],
   "source": [
    "# Modelo con variable de satisfacción 0 \n",
    "print('Modelo con variable de Satisfacción 0:')\n",
    "print('MAPE: ' + str(np.mean(np.abs(y_test1-predK1))))\n",
    "print('MAE: ' + str(mean_absolute_error(y_test1,predK1)))\n",
    "print('RMSE: ' + str(np.sqrt(mean_squared_error(regk_1.predict((X_test1)),y_test1))))"
   ]
  },
  {
   "cell_type": "markdown",
   "metadata": {},
   "source": [
    "##### Modelo con variable de Satisfacción con la vida 2"
   ]
  },
  {
   "cell_type": "code",
   "execution_count": 41,
   "metadata": {},
   "outputs": [
    {
     "name": "stdout",
     "output_type": "stream",
     "text": [
      "Modelo con variable de Satisfacción 0:\n",
      "MAPE: 1.1203898264747414\n",
      "MAE: 1.120389826474732\n",
      "RMSE: 1.4557330520543859\n"
     ]
    }
   ],
   "source": [
    "# Modelo con variable de satisfacción 2 \n",
    "print('Modelo con variable de Satisfacción 0:')\n",
    "print('MAPE: ' + str(np.mean(np.abs(y_test2-predk2))))\n",
    "print('MAE: ' + str(mean_absolute_error(y_test2,predk2)))\n",
    "print('RMSE: ' + str(np.sqrt(mean_squared_error(regk_2.predict((X_test2)),y_test2))))"
   ]
  },
  {
   "cell_type": "markdown",
   "metadata": {},
   "source": [
    "# c) Decision Tree"
   ]
  },
  {
   "cell_type": "code",
   "execution_count": 43,
   "metadata": {},
   "outputs": [],
   "source": [
    "from sklearn.tree import DecisionTreeRegressor"
   ]
  },
  {
   "cell_type": "markdown",
   "metadata": {},
   "source": [
    "##### Modelo con variable de Satisfacción con la vida 0"
   ]
  },
  {
   "cell_type": "code",
   "execution_count": 48,
   "metadata": {},
   "outputs": [
    {
     "name": "stdout",
     "output_type": "stream",
     "text": [
      "CPU times: user 6min 8s, sys: 125 ms, total: 6min 8s\n",
      "Wall time: 6min 9s\n"
     ]
    },
    {
     "data": {
      "text/plain": [
       "GridSearchCV(cv=5, error_score=nan,\n",
       "             estimator=DecisionTreeRegressor(ccp_alpha=0.0, criterion='mse',\n",
       "                                             max_depth=None, max_features=None,\n",
       "                                             max_leaf_nodes=None,\n",
       "                                             min_impurity_decrease=0.0,\n",
       "                                             min_impurity_split=None,\n",
       "                                             min_samples_leaf=1,\n",
       "                                             min_samples_split=2,\n",
       "                                             min_weight_fraction_leaf=0.0,\n",
       "                                             presort='deprecated',\n",
       "                                             random_state=None,\n",
       "                                             splitter='best'),\n",
       "             iid='deprecated', n_jobs=None,\n",
       "             param_grid={'max_depth': array([ 4,  5,  6,  7,  8,  9, 10, 11, 12, 13, 14]),\n",
       "                         'min_samples_leaf': array([ 4,  5,  6,  7,  8,  9, 10, 11, 12, 13, 14]),\n",
       "                         'min_samples_split': array([ 4,  5,  6,  7,  8,  9, 10, 11, 12, 13, 14])},\n",
       "             pre_dispatch='2*n_jobs', refit=True, return_train_score=False,\n",
       "             scoring='neg_mean_absolute_error', verbose=0)"
      ]
     },
     "execution_count": 48,
     "metadata": {},
     "output_type": "execute_result"
    }
   ],
   "source": [
    "%%time\n",
    "\n",
    "regd1 = GridSearchCV(DecisionTreeRegressor(),\n",
    "                  param_grid={\"min_samples_split\":np.arange(4,15),\n",
    "                              \"max_depth\":np.arange(4,15),\n",
    "                             'min_samples_leaf':np.arange(4,15)},\n",
    "                  cv=5,\n",
    "                  scoring=\"neg_mean_absolute_error\")\n",
    "\n",
    "\n",
    "regd1.fit(X,y1)"
   ]
  },
  {
   "cell_type": "code",
   "execution_count": 49,
   "metadata": {},
   "outputs": [
    {
     "data": {
      "text/plain": [
       "{'max_depth': 6, 'min_samples_leaf': 12, 'min_samples_split': 4}"
      ]
     },
     "execution_count": 49,
     "metadata": {},
     "output_type": "execute_result"
    }
   ],
   "source": [
    "regd1.best_params_"
   ]
  },
  {
   "cell_type": "code",
   "execution_count": 51,
   "metadata": {},
   "outputs": [],
   "source": [
    "# Versión con la variable 1 de satisfacción con la vida\n",
    "# Variables - ya especificadas anteriormente\n",
    "\n",
    "# Instancia\n",
    "regd_1 = DecisionTreeRegressor(min_samples_split = 6,\n",
    "                             max_depth = 12,\n",
    "                             min_samples_leaf = 4)\n",
    "\n",
    "# Fit del modelo\n",
    "regd_1.fit(X_train1, y_train1)\n",
    "\n",
    "# Predicción de los valores en test\n",
    "predd1=regd_1.predict(X_test1)"
   ]
  },
  {
   "cell_type": "markdown",
   "metadata": {},
   "source": [
    "##### Modelo con variable de Satisfacción con la vida 2"
   ]
  },
  {
   "cell_type": "code",
   "execution_count": null,
   "metadata": {},
   "outputs": [],
   "source": [
    "%%time\n",
    "\n",
    "regd2 = GridSearchCV(DecisionTreeRegressor(),\n",
    "                  param_grid={\"min_samples_split\":np.arange(4,15),\n",
    "                              \"max_depth\":np.arange(4,15),\n",
    "                             'min_samples_leaf':np.arange(4,15)},\n",
    "                  cv=5,\n",
    "                  scoring=\"neg_mean_absolute_error\")\n",
    "\n",
    "\n",
    "regd1.fit(X,y2)"
   ]
  },
  {
   "cell_type": "code",
   "execution_count": null,
   "metadata": {},
   "outputs": [],
   "source": [
    "regd2.best_params_"
   ]
  },
  {
   "cell_type": "code",
   "execution_count": null,
   "metadata": {},
   "outputs": [],
   "source": [
    "# Versión con la variable 1 de satisfacción con la vida\n",
    "# Variables - ya especificadas anteriormente\n",
    "\n",
    "# Instancia\n",
    "regd_2 = DecisionTreeRegressor(min_samples_split = 6,\n",
    "                             max_depth = 12,\n",
    "                             min_samples_leaf = 4)\n",
    "\n",
    "# Fit del modelo\n",
    "regd_2.fit(X_train2, y_train2)\n",
    "\n",
    "# Predicción de los valores en test\n",
    "predd2=regd_2.predict(X_test2)"
   ]
  },
  {
   "cell_type": "code",
   "execution_count": null,
   "metadata": {},
   "outputs": [],
   "source": []
  },
  {
   "cell_type": "code",
   "execution_count": null,
   "metadata": {},
   "outputs": [],
   "source": []
  },
  {
   "cell_type": "code",
   "execution_count": null,
   "metadata": {},
   "outputs": [],
   "source": []
  },
  {
   "cell_type": "markdown",
   "metadata": {},
   "source": [
    "* ### Resultados"
   ]
  },
  {
   "cell_type": "markdown",
   "metadata": {},
   "source": [
    "##### Modelo con variable de Satisfacción con la vida 0"
   ]
  },
  {
   "cell_type": "code",
   "execution_count": 53,
   "metadata": {},
   "outputs": [
    {
     "name": "stdout",
     "output_type": "stream",
     "text": [
      "Modelo con variable de Satisfacción 0:\n",
      "MAPE: 0.9868320448524354\n",
      "MAE: 0.9868320448524338\n",
      "RMSE: 1.2887822302693377\n"
     ]
    }
   ],
   "source": [
    "# Modelo con variable de satisfacción 0 \n",
    "print('Modelo con variable de Satisfacción 0:')\n",
    "print('MAPE: ' + str(np.mean(np.abs(y_test1-predd1))))\n",
    "print('MAE: ' + str(mean_absolute_error(y_test1,predd1)))\n",
    "print('RMSE: ' + str(np.sqrt(mean_squared_error(regd_1.predict((X_test1)),y_test1))))"
   ]
  },
  {
   "cell_type": "markdown",
   "metadata": {},
   "source": [
    "##### Modelo con variable de Satisfacción con la vida 2"
   ]
  },
  {
   "cell_type": "code",
   "execution_count": null,
   "metadata": {},
   "outputs": [],
   "source": [
    "# Modelo con variable de satisfacción 0 \n",
    "print('Modelo con variable de Satisfacción 0:')\n",
    "print('MAPE: ' + str(np.mean(np.abs(y_test2-predd2))))\n",
    "print('MAE: ' + str(mean_absolute_error(y_test2,predd2)))\n",
    "print('RMSE: ' + str(np.sqrt(mean_squared_error(regd_2.predict((X_test2)),y_test2))))"
   ]
  },
  {
   "cell_type": "markdown",
   "metadata": {},
   "source": [
    "# d) Random Forest"
   ]
  },
  {
   "cell_type": "markdown",
   "metadata": {},
   "source": [
    "##### Modelo con variable de Satisfacción con la vida 0"
   ]
  },
  {
   "cell_type": "markdown",
   "metadata": {},
   "source": [
    "##### Modelo con variable de Satisfacción con la vida 2"
   ]
  },
  {
   "cell_type": "markdown",
   "metadata": {},
   "source": [
    "##### Modelo con variable de Satisfacción con la vida 0"
   ]
  },
  {
   "cell_type": "markdown",
   "metadata": {},
   "source": [
    "##### Modelo con variable de Satisfacción con la vida 2"
   ]
  }
 ],
 "metadata": {
  "kernelspec": {
   "display_name": "Python 3",
   "language": "python",
   "name": "python3"
  },
  "language_info": {
   "codemirror_mode": {
    "name": "ipython",
    "version": 3
   },
   "file_extension": ".py",
   "mimetype": "text/x-python",
   "name": "python",
   "nbconvert_exporter": "python",
   "pygments_lexer": "ipython3",
   "version": "3.7.4"
  }
 },
 "nbformat": 4,
 "nbformat_minor": 2
}
