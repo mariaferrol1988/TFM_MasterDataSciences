{
 "cells": [
  {
   "cell_type": "code",
   "execution_count": 7,
   "metadata": {
    "scrolled": false
   },
   "outputs": [
    {
     "data": {
      "text/html": [
       "<div>\n",
       "<style scoped>\n",
       "    .dataframe tbody tr th:only-of-type {\n",
       "        vertical-align: middle;\n",
       "    }\n",
       "\n",
       "    .dataframe tbody tr th {\n",
       "        vertical-align: top;\n",
       "    }\n",
       "\n",
       "    .dataframe thead th {\n",
       "        text-align: right;\n",
       "    }\n",
       "</style>\n",
       "<table border=\"1\" class=\"dataframe\">\n",
       "  <thead>\n",
       "    <tr style=\"text-align: right;\">\n",
       "      <th></th>\n",
       "      <th>Year</th>\n",
       "      <th>AREMonth</th>\n",
       "      <th>vhRentaa</th>\n",
       "      <th>CHealth</th>\n",
       "      <th>HHHolidays_Yes</th>\n",
       "      <th>HHFood_Yes</th>\n",
       "      <th>HHReserves_Yes</th>\n",
       "      <th>HHComputer_Yes</th>\n",
       "      <th>HHCar_Yes</th>\n",
       "      <th>HousingCost_HighImpactHH</th>\n",
       "      <th>HousingCost_MediumImpactHH</th>\n",
       "      <th>HHHeath_Yes</th>\n",
       "      <th>vhPobreza_vhPobreza_Yes</th>\n",
       "      <th>vhMATDEP_vhMATDEP_Yes</th>\n",
       "      <th>CrConditions_NChronic</th>\n",
       "      <th>HLimitations_NoLimited</th>\n",
       "      <th>LifeSatisfaction0</th>\n",
       "      <th>LifeSatisfaction2</th>\n",
       "    </tr>\n",
       "  </thead>\n",
       "  <tbody>\n",
       "    <tr>\n",
       "      <th>267835</th>\n",
       "      <td>2013</td>\n",
       "      <td>5.0</td>\n",
       "      <td>88450.00</td>\n",
       "      <td>1.0</td>\n",
       "      <td>1</td>\n",
       "      <td>1</td>\n",
       "      <td>1</td>\n",
       "      <td>1</td>\n",
       "      <td>1</td>\n",
       "      <td>1</td>\n",
       "      <td>0</td>\n",
       "      <td>1</td>\n",
       "      <td>0</td>\n",
       "      <td>0</td>\n",
       "      <td>1</td>\n",
       "      <td>1</td>\n",
       "      <td>8.0</td>\n",
       "      <td>8.000000</td>\n",
       "    </tr>\n",
       "    <tr>\n",
       "      <th>267836</th>\n",
       "      <td>2013</td>\n",
       "      <td>5.0</td>\n",
       "      <td>88450.00</td>\n",
       "      <td>2.0</td>\n",
       "      <td>1</td>\n",
       "      <td>1</td>\n",
       "      <td>1</td>\n",
       "      <td>1</td>\n",
       "      <td>1</td>\n",
       "      <td>1</td>\n",
       "      <td>0</td>\n",
       "      <td>1</td>\n",
       "      <td>0</td>\n",
       "      <td>0</td>\n",
       "      <td>1</td>\n",
       "      <td>1</td>\n",
       "      <td>8.0</td>\n",
       "      <td>8.000000</td>\n",
       "    </tr>\n",
       "    <tr>\n",
       "      <th>267837</th>\n",
       "      <td>2013</td>\n",
       "      <td>5.0</td>\n",
       "      <td>88450.00</td>\n",
       "      <td>2.0</td>\n",
       "      <td>1</td>\n",
       "      <td>1</td>\n",
       "      <td>1</td>\n",
       "      <td>1</td>\n",
       "      <td>1</td>\n",
       "      <td>1</td>\n",
       "      <td>0</td>\n",
       "      <td>1</td>\n",
       "      <td>0</td>\n",
       "      <td>0</td>\n",
       "      <td>1</td>\n",
       "      <td>1</td>\n",
       "      <td>6.5</td>\n",
       "      <td>6.728170</td>\n",
       "    </tr>\n",
       "    <tr>\n",
       "      <th>267838</th>\n",
       "      <td>2013</td>\n",
       "      <td>3.0</td>\n",
       "      <td>30558.69</td>\n",
       "      <td>1.0</td>\n",
       "      <td>0</td>\n",
       "      <td>1</td>\n",
       "      <td>1</td>\n",
       "      <td>1</td>\n",
       "      <td>1</td>\n",
       "      <td>0</td>\n",
       "      <td>1</td>\n",
       "      <td>1</td>\n",
       "      <td>0</td>\n",
       "      <td>0</td>\n",
       "      <td>1</td>\n",
       "      <td>1</td>\n",
       "      <td>8.5</td>\n",
       "      <td>8.540183</td>\n",
       "    </tr>\n",
       "    <tr>\n",
       "      <th>267839</th>\n",
       "      <td>2013</td>\n",
       "      <td>3.0</td>\n",
       "      <td>30558.69</td>\n",
       "      <td>2.0</td>\n",
       "      <td>0</td>\n",
       "      <td>1</td>\n",
       "      <td>1</td>\n",
       "      <td>1</td>\n",
       "      <td>1</td>\n",
       "      <td>0</td>\n",
       "      <td>1</td>\n",
       "      <td>1</td>\n",
       "      <td>0</td>\n",
       "      <td>0</td>\n",
       "      <td>1</td>\n",
       "      <td>1</td>\n",
       "      <td>7.5</td>\n",
       "      <td>7.996524</td>\n",
       "    </tr>\n",
       "  </tbody>\n",
       "</table>\n",
       "</div>"
      ],
      "text/plain": [
       "        Year  AREMonth  vhRentaa  CHealth  HHHolidays_Yes  HHFood_Yes  \\\n",
       "267835  2013       5.0  88450.00      1.0               1           1   \n",
       "267836  2013       5.0  88450.00      2.0               1           1   \n",
       "267837  2013       5.0  88450.00      2.0               1           1   \n",
       "267838  2013       3.0  30558.69      1.0               0           1   \n",
       "267839  2013       3.0  30558.69      2.0               0           1   \n",
       "\n",
       "        HHReserves_Yes  HHComputer_Yes  HHCar_Yes  HousingCost_HighImpactHH  \\\n",
       "267835               1               1          1                         1   \n",
       "267836               1               1          1                         1   \n",
       "267837               1               1          1                         1   \n",
       "267838               1               1          1                         0   \n",
       "267839               1               1          1                         0   \n",
       "\n",
       "        HousingCost_MediumImpactHH  HHHeath_Yes  vhPobreza_vhPobreza_Yes  \\\n",
       "267835                           0            1                        0   \n",
       "267836                           0            1                        0   \n",
       "267837                           0            1                        0   \n",
       "267838                           1            1                        0   \n",
       "267839                           1            1                        0   \n",
       "\n",
       "        vhMATDEP_vhMATDEP_Yes  CrConditions_NChronic  HLimitations_NoLimited  \\\n",
       "267835                      0                      1                       1   \n",
       "267836                      0                      1                       1   \n",
       "267837                      0                      1                       1   \n",
       "267838                      0                      1                       1   \n",
       "267839                      0                      1                       1   \n",
       "\n",
       "        LifeSatisfaction0  LifeSatisfaction2  \n",
       "267835                8.0           8.000000  \n",
       "267836                8.0           8.000000  \n",
       "267837                6.5           6.728170  \n",
       "267838                8.5           8.540183  \n",
       "267839                7.5           7.996524  "
      ]
     },
     "execution_count": 7,
     "metadata": {},
     "output_type": "execute_result"
    }
   ],
   "source": [
    "import pandas as pd\n",
    "import numpy as np\n",
    "import matplotlib.pyplot as plt\n",
    "import seaborn as sns\n",
    "pd.set_option(\"display.max_columns\", None) \n",
    "pd.set_option(\"display.max_rows\", None)\n",
    "\n",
    "model_var = ['Year','HHHolidays_Yes', 'HHFood_Yes', 'HHReserves_Yes', 'HHComputer_Yes', 'HHCar_Yes', 'HousingCost_HighImpactHH',\n",
    "             'HousingCost_MediumImpactHH', 'HHHeath_Yes', 'vhPobreza_vhPobreza_Yes', 'vhMATDEP_vhMATDEP_Yes','vhRentaa',\n",
    "             'CHealth','AREMonth', 'CrConditions_NChronic','HLimitations_NoLimited','LifeSatisfaction0','LifeSatisfaction2']\n",
    "\n",
    "\n",
    "df = pd.read_csv('./Files/ECV_2004_2018.csv.gz', sep = ';', compression='gzip', usecols = model_var).dropna()\n",
    "df_model = df[(df['Year'] == 2018) | (df['Year'] == 2013)]\n",
    "\n",
    "df_model.head()"
   ]
  },
  {
   "cell_type": "markdown",
   "metadata": {},
   "source": [
    "# Librerías"
   ]
  },
  {
   "cell_type": "code",
   "execution_count": 2,
   "metadata": {},
   "outputs": [],
   "source": [
    "# Modelos\n",
    "from sklearn.linear_model import LinearRegression\n",
    "from sklearn.neighbors import KNeighborsRegressor\n",
    "from sklearn.tree import DecisionTreeRegressor\n",
    "from sklearn.ensemble import RandomForestRegressor\n",
    "\n",
    "# Métricas\n",
    "from sklearn.metrics import mean_absolute_error\n",
    "from sklearn.metrics import mean_squared_error\n",
    "from sklearn.metrics import r2_score\n",
    "\n",
    "# Selección de variables\n",
    "import statsmodels.api as sm\n",
    "\n",
    "# Hyperparameter tunning \n",
    "from sklearn.model_selection import GridSearchCV\n",
    "from sklearn.model_selection import RandomizedSearchCV\n",
    "from scipy.stats import randint as sp_randInt\n",
    "\n",
    "# Validación \n",
    "from sklearn.model_selection import train_test_split\n",
    "from sklearn.model_selection import cross_val_score"
   ]
  },
  {
   "cell_type": "markdown",
   "metadata": {},
   "source": [
    "# Variables "
   ]
  },
  {
   "cell_type": "code",
   "execution_count": 3,
   "metadata": {},
   "outputs": [],
   "source": [
    "# Variables\n",
    "X = df_model[['HHHolidays_Yes', 'HHFood_Yes', 'HHReserves_Yes', 'HHComputer_Yes', 'HHCar_Yes', 'HousingCost_HighImpactHH',\n",
    "              'HousingCost_MediumImpactHH', 'HHHeath_Yes', 'vhPobreza_vhPobreza_Yes', 'vhMATDEP_vhMATDEP_Yes','vhRentaa',\n",
    "              'CrConditions_NChronic','HLimitations_NoLimited','CHealth','AREMonth']]\n",
    "\n",
    "# variable output con media aritmética\n",
    "y1 = df_model['LifeSatisfaction0']\n",
    "# variable output con predominio de variables de satisfacción con la vida\n",
    "y2 = df_model['LifeSatisfaction2']"
   ]
  },
  {
   "cell_type": "code",
   "execution_count": 9,
   "metadata": {},
   "outputs": [
    {
     "data": {
      "text/plain": [
       "(17.0, 0.0)"
      ]
     },
     "execution_count": 9,
     "metadata": {},
     "output_type": "execute_result"
    },
    {
     "data": {
      "image/png": "[encoded data removed]",
      "text/plain": [
       "<Figure size 864x720 with 2 Axes>"
      ]
     },
     "metadata": {
      "needs_background": "light"
     },
     "output_type": "display_data"
    }
   ],
   "source": [
    "vars_corr = df_model[['HHHolidays_Yes', 'HHFood_Yes', 'HHReserves_Yes', 'HHComputer_Yes', 'HHCar_Yes', 'HousingCost_HighImpactHH',\n",
    "              'HousingCost_MediumImpactHH', 'HHHeath_Yes', 'vhPobreza_vhPobreza_Yes', 'vhMATDEP_vhMATDEP_Yes','vhRentaa',\n",
    "              'CrConditions_NChronic','HLimitations_NoLimited','CHealth','AREMonth',\n",
    "                      'LifeSatisfaction0','LifeSatisfaction2']].corr()\n",
    "#my_chart = sns.heatmap(X_corr,  vmax=1, annot=True, xticklabels=True, yticklabels=True)\n",
    "plt.figure(figsize=(12,10))\n",
    "ax = sns.heatmap(vars_corr, annot=True) #notation: \"annot\" not \"annote\"\n",
    "bottom, top = ax.get_ylim()\n",
    "ax.set_ylim(bottom + 0.5, top - 0.5)"
   ]
  },
  {
   "cell_type": "markdown",
   "metadata": {},
   "source": [
    "# Modelos"
   ]
  },
  {
   "cell_type": "code",
   "execution_count": 12,
   "metadata": {},
   "outputs": [],
   "source": [
    "# Train - Test Split y1\n",
    "X_train1, X_test1, y_train1, y_test1 = train_test_split(\n",
    "    X,y1, test_size = 0.2, random_state = 33)\n",
    "# Train - Test Split y2\n",
    "X_train2, X_test2, y_train2, y_test2 = train_test_split(\n",
    "    X,y2, test_size = 0.2, random_state = 33)"
   ]
  },
  {
   "cell_type": "markdown",
   "metadata": {},
   "source": [
    "* ### Linear Regression"
   ]
  },
  {
   "cell_type": "markdown",
   "metadata": {},
   "source": [
    "#### a) Variable y1"
   ]
  },
  {
   "cell_type": "code",
   "execution_count": 16,
   "metadata": {},
   "outputs": [
    {
     "name": "stdout",
     "output_type": "stream",
     "text": [
      "HHHolidays_Yes: 0.37153304598434617\n",
      "HHFood_Yes: 0.12541449969662027\n",
      "HHReserves_Yes: 0.11220204693056866\n",
      "HHComputer_Yes: -0.09655692099231478\n",
      "HHCar_Yes: 0.015176371601416558\n",
      "HousingCost_HighImpactHH: -0.057647285726511684\n",
      "HousingCost_MediumImpactHH: 0.03170953385904254\n",
      "HHHeath_Yes: 0.1477217552912567\n",
      "vhPobreza_vhPobreza_Yes: -0.1347944019675421\n",
      "vhMATDEP_vhMATDEP_Yes: -0.345643859501148\n",
      "vhRentaa: 8.621300964795076e-07\n",
      "CrConditions_NChronic: -0.17414365556608036\n",
      "HLimitations_NoLimited: 0.04804226523269239\n",
      "CHealth: -0.4628173287819382\n",
      "AREMonth: 0.28465288475069694\n"
     ]
    }
   ],
   "source": [
    "counter = 0\n",
    "for counter in range(len(list(X.columns))):\n",
    "    print(str(list(X.columns)[counter]) + ': ' + str((list(reg1.coef_))[counter]))\n",
    "    counter += 1"
   ]
  },
  {
   "cell_type": "markdown",
   "metadata": {},
   "source": [
    "#### b) Variable y2"
   ]
  },
  {
   "cell_type": "code",
   "execution_count": 24,
   "metadata": {},
   "outputs": [],
   "source": [
    "# Instancia\n",
    "reg2 = LinearRegression()\n",
    "# Fit del modelo\n",
    "reg2.fit(X_train2, y_train2)\n",
    "# Predicción de los valores en test\n",
    "pred2=reg2.predict(X_test2)"
   ]
  },
  {
   "cell_type": "markdown",
   "metadata": {},
   "source": [
    "* ### Kneighbors"
   ]
  },
  {
   "cell_type": "markdown",
   "metadata": {},
   "source": [
    "#### a) Variable y1"
   ]
  },
  {
   "cell_type": "code",
   "execution_count": 25,
   "metadata": {},
   "outputs": [],
   "source": [
    "# Instancia\n",
    "regk_1 = KNeighborsRegressor(n_neighbors=298)\n",
    "\n",
    "# Fit del modelo\n",
    "regk_1.fit(X_train1, y_train1)\n",
    "\n",
    "# Predicción de los valores en test\n",
    "predK1=regk_1.predict(X_test1)"
   ]
  },
  {
   "cell_type": "markdown",
   "metadata": {},
   "source": [
    "#### b) Variable y2"
   ]
  },
  {
   "cell_type": "code",
   "execution_count": 26,
   "metadata": {},
   "outputs": [],
   "source": [
    "# Instancia\n",
    "regk_2 = KNeighborsRegressor(n_neighbors=298)\n",
    "\n",
    "# Fit del modelo\n",
    "regk_2.fit(X_train2, y_train2)\n",
    "\n",
    "# Predicción de los valores en test\n",
    "predk2=regk_2.predict(X_test2)"
   ]
  },
  {
   "cell_type": "markdown",
   "metadata": {},
   "source": [
    "* ### Decision Tree"
   ]
  },
  {
   "cell_type": "markdown",
   "metadata": {},
   "source": [
    "#### a) Variable y1"
   ]
  },
  {
   "cell_type": "code",
   "execution_count": 27,
   "metadata": {},
   "outputs": [],
   "source": [
    "# Instancia\n",
    "regd_1 = DecisionTreeRegressor(min_samples_split = 6,\n",
    "                             max_depth = 12,\n",
    "                             min_samples_leaf = 4)\n",
    "\n",
    "# Fit del modelo\n",
    "regd_1.fit(X_train1, y_train1)\n",
    "\n",
    "# Predicción de los valores en test\n",
    "predd1=regd_1.predict(X_test1)"
   ]
  },
  {
   "cell_type": "markdown",
   "metadata": {},
   "source": [
    "#### b) Variable y2"
   ]
  },
  {
   "cell_type": "code",
   "execution_count": 28,
   "metadata": {},
   "outputs": [],
   "source": [
    "# Instancia\n",
    "regd_2 = DecisionTreeRegressor(min_samples_split = 6,\n",
    "                             max_depth = 11,\n",
    "                             min_samples_leaf = 12)\n",
    "\n",
    "# Fit del modelo\n",
    "regd_2.fit(X_train2, y_train2)\n",
    "\n",
    "# Predicción de los valores en test\n",
    "predd2=regd_2.predict(X_test2)"
   ]
  },
  {
   "cell_type": "markdown",
   "metadata": {},
   "source": [
    "* ### Random Forest"
   ]
  },
  {
   "cell_type": "markdown",
   "metadata": {},
   "source": [
    "#### a) Variable y1"
   ]
  },
  {
   "cell_type": "code",
   "execution_count": 29,
   "metadata": {},
   "outputs": [],
   "source": [
    "# Instancia\n",
    "rdfreg1 = RandomForestRegressor(n_estimators = 100, \n",
    "                               min_samples_split = 30, \n",
    "                               min_samples_leaf = 60, \n",
    "                               max_depth = 10)\n",
    "# Fit del modelo\n",
    "rdfreg1.fit(X_train1, y_train1)\n",
    "\n",
    "# Predicción de los valores en test\n",
    "predrdf1=rdfreg1.predict(X_test1)"
   ]
  },
  {
   "cell_type": "markdown",
   "metadata": {},
   "source": [
    "#### b) Variable y2"
   ]
  },
  {
   "cell_type": "code",
   "execution_count": 30,
   "metadata": {},
   "outputs": [],
   "source": [
    "rdfreg2 = RandomForestRegressor(n_estimators = 100, \n",
    "                               min_samples_split = 30, \n",
    "                               min_samples_leaf = 60, \n",
    "                               max_depth = 10)\n",
    "# Fit del modelo\n",
    "rdfreg2.fit(X_train2, y_train2)\n",
    "\n",
    "# Predicción de los valores en test\n",
    "predrdf2=rdfreg2.predict(X_test2)"
   ]
  },
  {
   "cell_type": "markdown",
   "metadata": {},
   "source": [
    "# Resultados"
   ]
  },
  {
   "cell_type": "code",
   "execution_count": 31,
   "metadata": {},
   "outputs": [
    {
     "name": "stdout",
     "output_type": "stream",
     "text": [
      "Resultados Regresión Lineal con variable de Satisfacción 0:\n",
      "MAPE: 0.9865638849308722\n",
      "MAE: 0.9865638849308732\n",
      "RMSE: 1.27069016481389\n",
      "correlation coefficient: 0.5310483664550603\n",
      "R2_score: 0.28126389047407496\n",
      "-------------\n",
      "Resultados Regresión Lineal con variable de Satisfacción 2:\n",
      "MAPE: 0.9781555415583661\n",
      "MAE: 0.9781555415583668\n",
      "RMSE: 1.2707319416569327\n",
      "correlation coefficient: 0.5648195017266774\n",
      "R2_score: 0.31841627632611713\n",
      "----------------------------\n",
      "----------------------------\n",
      "Resultados Kneighbors con variable de Satisfacción 0:\n",
      "MAPE: 1.126348775164632\n",
      "MAE: 1.126348775164633\n",
      "RMSE: 1.4490189288398527\n",
      "-------------\n",
      "Resultados Kneighbors con variable de Satisfacción 1:\n",
      "MAPE: 1.1352512101996934\n",
      "MAE: 1.135251210199695\n",
      "RMSE: 1.474600701264951\n",
      "----------------------------\n",
      "----------------------------\n",
      "Resultados Decision Tree con variable de Satisfacción 0:\n",
      "MAPE: 1.0239223160037918\n",
      "MAE: 1.0239223160037925\n",
      "RMSE: 1.3181105901421115\n",
      "-------------\n",
      "Resultados Decision Tree con variable de Satisfacción 1:\n",
      "MAPE: 0.9959680204133737\n",
      "MAE: 0.9959680204133757\n",
      "RMSE: 1.2979043925713933\n",
      "----------------------------\n",
      "----------------------------\n",
      "Resultados Random Forest con variable de Satisfacción 0:\n",
      "MAPE: 0.9845178607500807\n",
      "MAE: 0.9845178607500756\n",
      "RMSE: 1.2676879442057092\n",
      "-------------\n",
      "Resultados Random Forest con variable de Satisfacción 1:\n",
      "MAPE: 0.972931630402821\n",
      "MAE: 0.9729316304028217\n",
      "RMSE: 1.2654814461734574\n"
     ]
    }
   ],
   "source": [
    "# Regresión Lineal variable 1\n",
    "print('Resultados Regresión Lineal con variable de Satisfacción 0:')\n",
    "print('MAPE: ' + str(np.mean(np.abs(y_test1-pred1))))\n",
    "print('MAE: ' + str(mean_absolute_error(y_test1,pred1)))\n",
    "print('RMSE: ' + str(np.sqrt(mean_squared_error(reg1.predict((X_test1)),y_test1))))\n",
    "print('correlation coefficient: ' + str(np.corrcoef(reg1.predict(X_test1), y_test1)[0][1]))\n",
    "print('R2_score: ' + str(r2_score(y_test1,pred1,multioutput='variance_weighted')))\n",
    "print('-------------')\n",
    "# Regresión Lineal variable 2 \n",
    "print('Resultados Regresión Lineal con variable de Satisfacción 2:')\n",
    "print('MAPE: ' + str(np.mean(np.abs(y_test2-pred2))))\n",
    "print('MAE: ' + str(mean_absolute_error(y_test2,pred2)))\n",
    "print('RMSE: ' + str(np.sqrt(mean_squared_error(reg2.predict((X_test2)),y_test2))))\n",
    "print('correlation coefficient: ' + str(np.corrcoef(reg2.predict(X_test2), y_test2)[0][1]))\n",
    "print('R2_score: ' + str(r2_score(y_test2,pred2,multioutput='variance_weighted')))\n",
    "print('----------------------------')\n",
    "print('----------------------------')\n",
    "# Kneighbors variable 1\n",
    "print('Resultados Kneighbors con variable de Satisfacción 0:')\n",
    "print('MAPE: ' + str(np.mean(np.abs(y_test1-predK1))))\n",
    "print('MAE: ' + str(mean_absolute_error(y_test1,predK1)))\n",
    "print('RMSE: ' + str(np.sqrt(mean_squared_error(regk_1.predict((X_test1)),y_test1))))\n",
    "print('-------------')\n",
    "# Kneighbors variable 2\n",
    "print('Resultados Kneighbors con variable de Satisfacción 1:')\n",
    "print('MAPE: ' + str(np.mean(np.abs(y_test2-predk2))))\n",
    "print('MAE: ' + str(mean_absolute_error(y_test2,predk2)))\n",
    "print('RMSE: ' + str(np.sqrt(mean_squared_error(regk_2.predict((X_test2)),y_test2))))\n",
    "print('----------------------------')\n",
    "print('----------------------------')\n",
    "# Decision tree variable 1\n",
    "print('Resultados Decision Tree con variable de Satisfacción 0:')\n",
    "print('MAPE: ' + str(np.mean(np.abs(y_test1-predd1))))\n",
    "print('MAE: ' + str(mean_absolute_error(y_test1,predd1)))\n",
    "print('RMSE: ' + str(np.sqrt(mean_squared_error(regd_1.predict((X_test1)),y_test1))))\n",
    "print('-------------')\n",
    "# Decision tree variable 2\n",
    "print('Resultados Decision Tree con variable de Satisfacción 1:')\n",
    "print('MAPE: ' + str(np.mean(np.abs(y_test2-predd2))))\n",
    "print('MAE: ' + str(mean_absolute_error(y_test2,predd2)))\n",
    "print('RMSE: ' + str(np.sqrt(mean_squared_error(regd_2.predict((X_test2)),y_test2))))\n",
    "# Random Forest variable 1\n",
    "print('----------------------------')\n",
    "print('----------------------------')\n",
    "print('Resultados Random Forest con variable de Satisfacción 0:')\n",
    "print('MAPE: ' + str(np.mean(np.abs(y_test1-predrdf1))))\n",
    "print('MAE: ' + str(mean_absolute_error(y_test1,predrdf1)))\n",
    "print('RMSE: ' + str(np.sqrt(mean_squared_error(rdfreg1.predict((X_test1)),y_test1))))\n",
    "print('-------------')\n",
    "# Random Forest variable 1\n",
    "print('Resultados Random Forest con variable de Satisfacción 1:')\n",
    "print('MAPE: ' + str(np.mean(np.abs(y_test2-predrdf2))))\n",
    "print('MAE: ' + str(mean_absolute_error(y_test2,predrdf2)))\n",
    "print('RMSE: ' + str(np.sqrt(mean_squared_error(rdfreg2.predict((X_test2)),y_test2))))"
   ]
  },
  {
   "cell_type": "markdown",
   "metadata": {},
   "source": [
    "# Feature Selection "
   ]
  },
  {
   "cell_type": "markdown",
   "metadata": {},
   "source": [
    "# Hyperparameter tuning"
   ]
  },
  {
   "cell_type": "markdown",
   "metadata": {},
   "source": [
    "### Kneighbors"
   ]
  },
  {
   "cell_type": "markdown",
   "metadata": {},
   "source": [
    "##### Kneighbors y1"
   ]
  },
  {
   "cell_type": "code",
   "execution_count": null,
   "metadata": {},
   "outputs": [],
   "source": [
    "%%time\n",
    "regk1 = GridSearchCV(KNeighborsRegressor(),\n",
    "                  param_grid={\"n_neighbors\":np.arange(4,300)},\n",
    "                  cv=5,\n",
    "                  scoring=\"neg_mean_absolute_error\")\n",
    "\n",
    "\n",
    "regk1.fit(X,y1)\n",
    "\n",
    "print(regk1.best_params_)"
   ]
  },
  {
   "cell_type": "markdown",
   "metadata": {},
   "source": [
    "##### Kneighbors y2"
   ]
  },
  {
   "cell_type": "code",
   "execution_count": null,
   "metadata": {},
   "outputs": [],
   "source": [
    "%%time\n",
    "regk2 = GridSearchCV(KNeighborsRegressor(),\n",
    "                  param_grid={\"n_neighbors\":np.arange(4,300)},\n",
    "                  cv=5,\n",
    "                  scoring=\"neg_mean_absolute_error\")\n",
    "\n",
    "\n",
    "regk2.fit(X,y2)\n",
    "\n",
    "print(regk2.best_params_)"
   ]
  },
  {
   "cell_type": "markdown",
   "metadata": {},
   "source": [
    "### Decision Tree"
   ]
  },
  {
   "cell_type": "markdown",
   "metadata": {},
   "source": [
    "##### Decision Tree y1"
   ]
  },
  {
   "cell_type": "code",
   "execution_count": null,
   "metadata": {},
   "outputs": [],
   "source": [
    "%%time\n",
    "\n",
    "regd1 = GridSearchCV(DecisionTreeRegressor(),\n",
    "                  param_grid={\"min_samples_split\":np.arange(4,15),\n",
    "                              \"max_depth\":np.arange(4,15),\n",
    "                             'min_samples_leaf':np.arange(4,15)},\n",
    "                  cv=5,\n",
    "                  scoring=\"neg_mean_absolute_error\")\n",
    "\n",
    "\n",
    "regd1.fit(X,y1)\n",
    "\n",
    "print(regd1.best_params_)"
   ]
  },
  {
   "cell_type": "markdown",
   "metadata": {},
   "source": [
    "##### Decision Tree y2"
   ]
  },
  {
   "cell_type": "code",
   "execution_count": null,
   "metadata": {},
   "outputs": [],
   "source": [
    "%%time\n",
    "\n",
    "regd2 = GridSearchCV(DecisionTreeRegressor(),\n",
    "                  param_grid={\"min_samples_split\":np.arange(4,15),\n",
    "                              \"max_depth\":np.arange(4,15),\n",
    "                             'min_samples_leaf':np.arange(4,15)},\n",
    "                  cv=5,\n",
    "                  scoring=\"neg_mean_absolute_error\")\n",
    "\n",
    "\n",
    "regd2.fit(X,y2)\n",
    "\n",
    "print(regd2.best_params_)"
   ]
  },
  {
   "cell_type": "markdown",
   "metadata": {},
   "source": [
    "### Random Forest"
   ]
  },
  {
   "cell_type": "code",
   "execution_count": 16,
   "metadata": {},
   "outputs": [],
   "source": [
    "# Hiperparametros\n",
    "# n_estimators - number of intances - Number of trees\n",
    "# max_depth: Maximun number of levels in the tree\n",
    "# min_sample_split: Min number of samples to split a node\n",
    "# min_sample_leaf: Min number of samples at each leaf node\n",
    "# min_sample_leaf: Min number of samples at each leaf node\n",
    "grid_param = {'n_estimators':sp_randInt(30,600), \n",
    "              'max_depth':sp_randInt(10,50), \n",
    "              'min_samples_split': sp_randInt(20,70),\n",
    "              'min_samples_leaf':sp_randInt(20,70)}"
   ]
  },
  {
   "cell_type": "markdown",
   "metadata": {},
   "source": [
    "##### Random Forest y1"
   ]
  },
  {
   "cell_type": "code",
   "execution_count": 17,
   "metadata": {},
   "outputs": [
    {
     "name": "stdout",
     "output_type": "stream",
     "text": [
      "Fitting 5 folds for each of 50 candidates, totalling 250 fits\n"
     ]
    },
    {
     "name": "stderr",
     "output_type": "stream",
     "text": [
      "[Parallel(n_jobs=-1)]: Using backend LokyBackend with 8 concurrent workers.\n",
      "[Parallel(n_jobs=-1)]: Done  25 tasks      | elapsed:  3.1min\n",
      "[Parallel(n_jobs=-1)]: Done 146 tasks      | elapsed: 15.4min\n",
      "[Parallel(n_jobs=-1)]: Done 250 out of 250 | elapsed: 24.2min finished\n"
     ]
    },
    {
     "name": "stdout",
     "output_type": "stream",
     "text": [
      "{'max_depth': 12, 'min_samples_leaf': 58, 'min_samples_split': 42, 'n_estimators': 201}\n",
      "CPU times: user 25 s, sys: 1.14 s, total: 26.2 s\n",
      "Wall time: 24min 37s\n"
     ]
    }
   ],
   "source": [
    "%%time\n",
    "\n",
    "rscv1 = RandomizedSearchCV(estimator = RandomForestRegressor(), param_distributions = grid_param, \n",
    "                        n_iter = 50, cv = 5, verbose = 2, random_state = 33, \n",
    "                        n_jobs = -1)\n",
    "\n",
    "rscv1.fit(X,y1)\n",
    "\n",
    "print(rscv1.best_params_)"
   ]
  },
  {
   "cell_type": "markdown",
   "metadata": {},
   "source": [
    "##### Random Forest y2"
   ]
  },
  {
   "cell_type": "code",
   "execution_count": 19,
   "metadata": {},
   "outputs": [
    {
     "name": "stdout",
     "output_type": "stream",
     "text": [
      "Fitting 5 folds for each of 50 candidates, totalling 250 fits\n"
     ]
    },
    {
     "name": "stderr",
     "output_type": "stream",
     "text": [
      "[Parallel(n_jobs=-1)]: Using backend LokyBackend with 8 concurrent workers.\n",
      "[Parallel(n_jobs=-1)]: Done  25 tasks      | elapsed:  3.0min\n",
      "[Parallel(n_jobs=-1)]: Done 146 tasks      | elapsed: 15.3min\n",
      "[Parallel(n_jobs=-1)]: Done 250 out of 250 | elapsed: 26.5min finished\n"
     ]
    },
    {
     "name": "stdout",
     "output_type": "stream",
     "text": [
      "{'max_depth': 12, 'min_samples_leaf': 58, 'min_samples_split': 42, 'n_estimators': 201}\n",
      "CPU times: user 32.1 s, sys: 1.08 s, total: 33.2 s\n",
      "Wall time: 26min 59s\n"
     ]
    }
   ],
   "source": [
    "%%time\n",
    "\n",
    "rscv2 = RandomizedSearchCV(estimator = RandomForestRegressor(), param_distributions = grid_param, \n",
    "                        n_iter = 50, cv = 5, verbose = 2, random_state = 33, \n",
    "                        n_jobs = -1)\n",
    "\n",
    "rscv2.fit(X,y2)\n",
    "\n",
    "print(rscv2.best_params_)"
   ]
  },
  {
   "cell_type": "markdown",
   "metadata": {},
   "source": [
    "# Feature Selection"
   ]
  },
  {
   "cell_type": "markdown",
   "metadata": {},
   "source": [
    "* Linear regression"
   ]
  },
  {
   "cell_type": "code",
   "execution_count": 51,
   "metadata": {
    "scrolled": false
   },
   "outputs": [
    {
     "name": "stdout",
     "output_type": "stream",
     "text": [
      "['HHHolidays_Yes', 'HHFood_Yes', 'HHReserves_Yes', 'HHComputer_Yes', 'HHCar_Yes', 'HousingCost_MediumImpactHH', 'HHHeath_Yes', 'vhPobreza_vhPobreza_Yes', 'vhMATDEP_vhMATDEP_Yes', 'vhRentaa', 'CrConditions_NChronic', 'HLimitations_NoLimited', 'CHealth', 'AREMonth']\n"
     ]
    }
   ],
   "source": [
    "#Backward Elimination y2\n",
    "cols = list(X.columns)\n",
    "pmax = 1\n",
    "while (len(cols)>0):\n",
    "    p= []\n",
    "    X_1 = X[cols]\n",
    "    X_1 = sm.add_constant(X_1)\n",
    "    model = sm.OLS(y2,X_1).fit()\n",
    "    p = pd.Series(model.pvalues.values[1:],index = cols)\n",
    "    pmax = max(p)\n",
    "    feature_with_p_max = p.idxmax()\n",
    "    if(pmax>0.05):\n",
    "        cols.remove(feature_with_p_max)\n",
    "    else:\n",
    "        break\n",
    "selected_features_BE = cols\n",
    "print(selected_features_BE)"
   ]
  },
  {
   "cell_type": "code",
   "execution_count": 64,
   "metadata": {},
   "outputs": [],
   "source": [
    "# Variables X para y 2\n",
    "X_2BD = ['HHHolidays_Yes', 'HHFood_Yes', 'HHReserves_Yes', 'HHComputer_Yes', 'HHCar_Yes', \n",
    "         'HousingCost_MediumImpactHH', 'HHHeath_Yes', 'vhPobreza_vhPobreza_Yes', \n",
    "         'vhMATDEP_vhMATDEP_Yes', 'vhRentaa', 'CrConditions_NChronic', 'HLimitations_NoLimited', 'CHealth', 'AREMonth']\n",
    "# Train - Test Split y2\n",
    "X_train2, X_test2, y_train2, y_test2 = train_test_split(\n",
    "    X,y2, test_size = 0.2, random_state = 33)\n",
    "# Modelo y 2\n",
    "reg_2BE = LinearRegression()\n",
    "# Fit del modelo\n",
    "reg_2BE.fit(X_train2, y_train2)\n",
    "# Predicción de los valores en test\n",
    "pred_2BE= reg_2BE.predict(X_test2)"
   ]
  },
  {
   "cell_type": "code",
   "execution_count": 65,
   "metadata": {
    "scrolled": false
   },
   "outputs": [
    {
     "name": "stdout",
     "output_type": "stream",
     "text": [
      "Resultados Regresión Lineal con variable de Satisfacción 2:\n",
      "MAPE: 0.9645836524409365\n",
      "MAE: 0.9645836524409397\n",
      "RMSE: 1.2491725674879688\n",
      "correlation coefficient: 0.5589199732422725\n",
      "R2_score: 0.31233070455541023\n",
      "----------------------------\n"
     ]
    }
   ],
   "source": [
    "# Regresión Lineal variable 2 \n",
    "print('Resultados Regresión Lineal con variable de Satisfacción 2:')\n",
    "print('MAPE: ' + str(np.mean(np.abs(y_test2-pred_2BE))))\n",
    "print('MAE: ' + str(mean_absolute_error(y_test2,pred_2BE)))\n",
    "print('RMSE: ' + str(np.sqrt(mean_squared_error(reg_2BE.predict((X_test2)),y_test2))))\n",
    "print('correlation coefficient: ' + str(np.corrcoef(reg_2BE.predict(X_test2), y_test2)[0][1]))\n",
    "print('R2_score: ' + str(r2_score(y_test2,pred_2BE,multioutput='variance_weighted')))\n",
    "print('----------------------------')"
   ]
  },
  {
   "cell_type": "markdown",
   "metadata": {},
   "source": [
    "# Revisión de la significación de las variables"
   ]
  },
  {
   "cell_type": "markdown",
   "metadata": {},
   "source": [
    "* Linear regression"
   ]
  },
  {
   "cell_type": "code",
   "execution_count": 62,
   "metadata": {
    "scrolled": true
   },
   "outputs": [
    {
     "name": "stdout",
     "output_type": "stream",
     "text": [
      "                            OLS Regression Results                            \n",
      "==============================================================================\n",
      "Dep. Variable:      LifeSatisfaction2   R-squared:                       0.316\n",
      "Model:                            OLS   Adj. R-squared:                  0.316\n",
      "Method:                 Least Squares   F-statistic:                     2050.\n",
      "Date:                Sat, 12 Sep 2020   Prob (F-statistic):               0.00\n",
      "Time:                        01:53:12   Log-Likelihood:                -87385.\n",
      "No. Observations:               53227   AIC:                         1.748e+05\n",
      "Df Residuals:                   53214   BIC:                         1.749e+05\n",
      "Df Model:                          12                                         \n",
      "Covariance Type:            nonrobust                                         \n",
      "==============================================================================================\n",
      "                                 coef    std err          t      P>|t|      [0.025      0.975]\n",
      "----------------------------------------------------------------------------------------------\n",
      "const                          6.4990      0.049    131.531      0.000       6.402       6.596\n",
      "HHHolidays_Yes                 0.3924      0.015     26.184      0.000       0.363       0.422\n",
      "HHFood_Yes                     0.2056      0.037      5.591      0.000       0.134       0.278\n",
      "HHReserves_Yes                 0.1188      0.015      7.722      0.000       0.089       0.149\n",
      "HHComputer_Yes                -0.0453      0.014     -3.197      0.001      -0.073      -0.018\n",
      "HHCar_Yes                      0.0400      0.016      2.442      0.015       0.008       0.072\n",
      "HousingCost_MediumImpactHH     0.0770      0.013      6.088      0.000       0.052       0.102\n",
      "HHHeath_Yes                    0.1625      0.025      6.596      0.000       0.114       0.211\n",
      "vhPobreza_vhPobreza_Yes       -0.1497      0.016     -9.386      0.000      -0.181      -0.118\n",
      "vhMATDEP_vhMATDEP_Yes         -0.3170      0.035     -9.171      0.000      -0.385      -0.249\n",
      "vhRentaa                    1.721e-06   2.91e-07      5.912      0.000    1.15e-06    2.29e-06\n",
      "CHealth                       -0.4963      0.007    -75.837      0.000      -0.509      -0.483\n",
      "AREMonth                       0.2915      0.006     45.762      0.000       0.279       0.304\n",
      "==============================================================================\n",
      "Omnibus:                     2655.806   Durbin-Watson:                   1.363\n",
      "Prob(Omnibus):                  0.000   Jarque-Bera (JB):             4104.786\n",
      "Skew:                          -0.440   Prob(JB):                         0.00\n",
      "Kurtosis:                       4.038   Cond. No.                     4.45e+05\n",
      "==============================================================================\n",
      "\n",
      "Warnings:\n",
      "[1] Standard Errors assume that the covariance matrix of the errors is correctly specified.\n",
      "[2] The condition number is large, 4.45e+05. This might indicate that there are\n",
      "strong multicollinearity or other numerical problems.\n"
     ]
    }
   ],
   "source": [
    "import pandas as pd\n",
    "import numpy as np\n",
    "from sklearn import datasets, linear_model\n",
    "from sklearn.linear_model import LinearRegression\n",
    "import statsmodels.api as sm\n",
    "from scipy import stats\n",
    "\n",
    "X3 = X[['HHHolidays_Yes', 'HHFood_Yes', 'HHReserves_Yes', 'HHComputer_Yes',\n",
    "       'HHCar_Yes', 'HousingCost_MediumImpactHH',\n",
    "       'HHHeath_Yes', 'vhPobreza_vhPobreza_Yes', 'vhMATDEP_vhMATDEP_Yes',\n",
    "       'vhRentaa', \n",
    "       'CHealth', 'AREMonth']]\n",
    "\n",
    "X2 = sm.add_constant(X3)\n",
    "est = sm.OLS(y2, X2)\n",
    "est2 = est.fit()\n",
    "print(est2.summary())"
   ]
  },
  {
   "cell_type": "code",
   "execution_count": 59,
   "metadata": {},
   "outputs": [],
   "source": [
    "# Variables X para y 2\n",
    "X_2BD = ['HHHolidays_Yes', 'HHFood_Yes', 'HHReserves_Yes', \n",
    "         'HousingCost_MediumImpactHH', 'HHHeath_Yes', 'vhPobreza_vhPobreza_Yes', 'vhMATDEP_vhMATDEP_Yes', 'vhRentaa', \n",
    "         'CHealth', 'AREMonth']\n",
    "# Train - Test Split y2\n",
    "X_train2, X_test2, y_train2, y_test2 = train_test_split(\n",
    "    X,y2, test_size = 0.2, random_state = 33)\n",
    "\n",
    "# Modelo y 2\n",
    "reg_2BE = LinearRegression()\n",
    "# Fit del modelo\n",
    "reg_2BE.fit(X_train2, y_train2)\n",
    "# Predicción de los valores en test\n",
    "pred_2BE= reg_2BE.predict(X_test2)"
   ]
  },
  {
   "cell_type": "code",
   "execution_count": 63,
   "metadata": {},
   "outputs": [
    {
     "name": "stdout",
     "output_type": "stream",
     "text": [
      "Resultados Regresión Lineal con variable de Satisfacción 2:\n",
      "MAPE: 0.9645836524409365\n",
      "MAE: 0.9645836524409397\n",
      "RMSE: 1.2491725674879688\n",
      "correlation coefficient: 0.5589199732422725\n",
      "R2_score: 0.31233070455541023\n",
      "----------------------------\n"
     ]
    }
   ],
   "source": [
    "# Regresión Lineal variable 2 \n",
    "print('Resultados Regresión Lineal con variable de Satisfacción 2:')\n",
    "print('MAPE: ' + str(np.mean(np.abs(y_test2-pred_2BE))))\n",
    "print('MAE: ' + str(mean_absolute_error(y_test2,pred_2BE)))\n",
    "print('RMSE: ' + str(np.sqrt(mean_squared_error(reg_2BE.predict((X_test2)),y_test2))))\n",
    "print('correlation coefficient: ' + str(np.corrcoef(reg_2BE.predict(X_test2), y_test2)[0][1]))\n",
    "print('R2_score: ' + str(r2_score(y_test2,pred_2BE,multioutput='variance_weighted')))\n",
    "print('----------------------------')"
   ]
  }
 ],
 "metadata": {
  "kernelspec": {
   "display_name": "Python 3",
   "language": "python",
   "name": "python3"
  },
  "language_info": {
   "codemirror_mode": {
    "name": "ipython",
    "version": 3
   },
   "file_extension": ".py",
   "mimetype": "text/x-python",
   "name": "python",
   "nbconvert_exporter": "python",
   "pygments_lexer": "ipython3",
   "version": "3.7.4"
  }
 },
 "nbformat": 4,
 "nbformat_minor": 2
}
