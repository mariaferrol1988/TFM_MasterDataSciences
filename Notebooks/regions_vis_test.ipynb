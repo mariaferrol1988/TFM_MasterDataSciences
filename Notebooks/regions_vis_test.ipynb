{
 "cells": [
  {
   "cell_type": "code",
   "execution_count": 24,
   "metadata": {
    "scrolled": true
   },
   "outputs": [
    {
     "data": {
      "text/plain": [
       "DataTransformerRegistry.enable('default')"
      ]
     },
     "execution_count": 24,
     "metadata": {},
     "output_type": "execute_result"
    }
   ],
   "source": [
    "import numpy as np\n",
    "import pandas as pd\n",
    "import altair as alt\n",
    "import matplotlib.pyplot as plt\n",
    "pd.set_option('display.max_columns', None)\n",
    "pd.set_option('display.max_rows', None)\n",
    "alt.data_transformers.disable_max_rows()"
   ]
  },
  {
   "cell_type": "markdown",
   "metadata": {},
   "source": [
    "# Años y PIB"
   ]
  },
  {
   "cell_type": "code",
   "execution_count": 223,
   "metadata": {},
   "outputs": [],
   "source": [
    "df = pd.read_csv('./Files/regions_visualization.csv', sep = ';')\n",
    "df_nac = pd.read_csv('./Files/nac_visualization.csv', sep = ';')"
   ]
  },
  {
   "cell_type": "code",
   "execution_count": null,
   "metadata": {},
   "outputs": [],
   "source": []
  },
  {
   "cell_type": "code",
   "execution_count": 224,
   "metadata": {},
   "outputs": [
    {
     "data": {
      "text/html": [
       "\n",
       "<div id=\"altair-viz-2ffce3a0863d445094ae002e52ad61ca\"></div>\n",
       "<script type=\"text/javascript\">\n",
       "  (function(spec, embedOpt){\n",
       "    let outputDiv = document.currentScript.previousElementSibling;\n",
       "    if (outputDiv.id !== \"altair-viz-2ffce3a0863d445094ae002e52ad61ca\") {\n",
       "      outputDiv = document.getElementById(\"altair-viz-2ffce3a0863d445094ae002e52ad61ca\");\n",
       "    }\n",
       "    const paths = {\n",
       "      \"vega\": \"https://cdn.jsdelivr.net/npm//vega@5?noext\",\n",
       "      \"vega-lib\": \"https://cdn.jsdelivr.net/npm//vega-lib?noext\",\n",
       "      \"vega-lite\": \"https://cdn.jsdelivr.net/npm//vega-lite@4.8.1?noext\",\n",
       "      \"vega-embed\": \"https://cdn.jsdelivr.net/npm//vega-embed@6?noext\",\n",
       "    };\n",
       "\n",
       "    function loadScript(lib) {\n",
       "      return new Promise(function(resolve, reject) {\n",
       "        var s = document.createElement('script');\n",
       "        s.src = paths[lib];\n",
       "        s.async = true;\n",
       "        s.onload = () => resolve(paths[lib]);\n",
       "        s.onerror = () => reject(`Error loading script: ${paths[lib]}`);\n",
       "        document.getElementsByTagName(\"head\")[0].appendChild(s);\n",
       "      });\n",
       "    }\n",
       "\n",
       "    function showError(err) {\n",
       "      outputDiv.innerHTML = `<div class=\"error\" style=\"color:red;\">${err}</div>`;\n",
       "      throw err;\n",
       "    }\n",
       "\n",
       "    function displayChart(vegaEmbed) {\n",
       "      vegaEmbed(outputDiv, spec, embedOpt)\n",
       "        .catch(err => showError(`Javascript Error: ${err.message}<br>This usually means there's a typo in your chart specification. See the javascript console for the full traceback.`));\n",
       "    }\n",
       "\n",
       "    if(typeof define === \"function\" && define.amd) {\n",
       "      requirejs.config({paths});\n",
       "      require([\"vega-embed\"], displayChart, err => showError(`Error loading script: ${err.message}`));\n",
       "    } else if (typeof vegaEmbed === \"function\") {\n",
       "      displayChart(vegaEmbed);\n",
       "    } else {\n",
       "      loadScript(\"vega\")\n",
       "        .then(() => loadScript(\"vega-lite\"))\n",
       "        .then(() => loadScript(\"vega-embed\"))\n",
       "        .catch(showError)\n",
       "        .then(() => displayChart(vegaEmbed));\n",
       "    }\n",
       "  })({\"config\": {\"view\": {\"continuousWidth\": 400, \"continuousHeight\": 300}}, \"layer\": [{\"mark\": {\"type\": \"line\", \"interpolate\": \"monotone\"}, \"encoding\": {\"color\": {\"type\": \"nominal\", \"field\": \"Quintiles\"}, \"x\": {\"type\": \"ordinal\", \"axis\": {\"values\": [2008, 2009, 2010, 2011, 2012, 2013, 2014, 2015, 2016, 2017, 2018]}, \"field\": \"Year\", \"title\": \"A\\u00f1o\"}, \"y\": {\"type\": \"quantitative\", \"aggregate\": \"sum\", \"axis\": {\"format\": \",.2s\"}, \"field\": \"Weight\", \"scale\": {\"domain\": [6000000, 12000000]}, \"title\": \"N\\u00famero de habitantes\"}}, \"height\": 400, \"title\": \"Evoluci\\u00f3n del la distribuci\\u00f3n\", \"width\": 600}, {\"mark\": \"point\", \"encoding\": {\"opacity\": {\"value\": 0}, \"x\": {\"type\": \"nominal\", \"field\": \"Year\"}}, \"selection\": {\"selector145\": {\"type\": \"single\", \"nearest\": true, \"on\": \"mouseover\", \"fields\": [\"Year\"], \"empty\": \"none\"}}}, {\"mark\": \"point\", \"encoding\": {\"color\": {\"type\": \"nominal\", \"field\": \"Quintiles\"}, \"opacity\": {\"condition\": {\"value\": 1, \"selection\": \"selector145\"}, \"value\": 0}, \"x\": {\"type\": \"ordinal\", \"axis\": {\"values\": [2008, 2009, 2010, 2011, 2012, 2013, 2014, 2015, 2016, 2017, 2018]}, \"field\": \"Year\", \"title\": \"A\\u00f1o\"}, \"y\": {\"type\": \"quantitative\", \"aggregate\": \"sum\", \"axis\": {\"format\": \",.2s\"}, \"field\": \"Weight\", \"scale\": {\"domain\": [6000000, 12000000]}, \"title\": \"N\\u00famero de habitantes\"}}, \"height\": 400, \"title\": \"Evoluci\\u00f3n del la distribuci\\u00f3n\", \"width\": 600}, {\"mark\": {\"type\": \"rule\", \"color\": \"gray\"}, \"encoding\": {\"x\": {\"type\": \"nominal\", \"field\": \"Year\"}}, \"transform\": [{\"filter\": {\"selection\": \"selector145\"}}]}, {\"mark\": {\"type\": \"text\", \"align\": \"left\", \"dx\": 5, \"dy\": -5}, \"encoding\": {\"color\": {\"type\": \"nominal\", \"field\": \"Quintiles\"}, \"text\": {\"condition\": {\"type\": \"quantitative\", \"aggregate\": \"sum\", \"field\": \"Weight\", \"format\": \",.2s\", \"selection\": \"selector145\"}, \"value\": \" \"}, \"x\": {\"type\": \"ordinal\", \"axis\": {\"values\": [2008, 2009, 2010, 2011, 2012, 2013, 2014, 2015, 2016, 2017, 2018]}, \"field\": \"Year\", \"title\": \"A\\u00f1o\"}, \"y\": {\"type\": \"quantitative\", \"aggregate\": \"sum\", \"axis\": {\"format\": \",.2s\"}, \"field\": \"Weight\", \"scale\": {\"domain\": [6000000, 12000000]}, \"title\": \"N\\u00famero de habitantes\"}}, \"height\": 400, \"title\": \"Evoluci\\u00f3n del la distribuci\\u00f3n\", \"width\": 600}], \"data\": {\"name\": \"data-9a033069c4d43b8f378b1377c609d545\"}, \"height\": 400, \"width\": 600, \"$schema\": \"https://vega.github.io/schema/vega-lite/v4.8.1.json\", \"datasets\": {\"data-9a033069c4d43b8f378b1377c609d545\": [{\"Year\": 2008, \"Quintiles\": \"1\\u00ba - Inferior\", \"Weight\": 8467074.991077323}, {\"Year\": 2008, \"Quintiles\": \"2\\u00ba\", \"Weight\": 9042447.367041968}, {\"Year\": 2008, \"Quintiles\": \"3\\u00ba\", \"Weight\": 9870798.482036652}, {\"Year\": 2008, \"Quintiles\": \"4\\u00ba\", \"Weight\": 10055904.876448872}, {\"Year\": 2008, \"Quintiles\": \"5\\u00ba - Superior\", \"Weight\": 8721596.28339412}, {\"Year\": 2009, \"Quintiles\": \"1\\u00ba - Inferior\", \"Weight\": 9505016.620786252}, {\"Year\": 2009, \"Quintiles\": \"2\\u00ba\", \"Weight\": 9354387.314700069}, {\"Year\": 2009, \"Quintiles\": \"3\\u00ba\", \"Weight\": 9469664.844868066}, {\"Year\": 2009, \"Quintiles\": \"4\\u00ba\", \"Weight\": 9168406.2326957}, {\"Year\": 2009, \"Quintiles\": \"5\\u00ba - Superior\", \"Weight\": 9248331.986945512}, {\"Year\": 2010, \"Quintiles\": \"1\\u00ba - Inferior\", \"Weight\": 9567416.89124348}, {\"Year\": 2010, \"Quintiles\": \"2\\u00ba\", \"Weight\": 9464060.404349966}, {\"Year\": 2010, \"Quintiles\": \"3\\u00ba\", \"Weight\": 9226494.747908132}, {\"Year\": 2010, \"Quintiles\": \"4\\u00ba\", \"Weight\": 9036750.749581216}, {\"Year\": 2010, \"Quintiles\": \"5\\u00ba - Superior\", \"Weight\": 9726308.206915619}, {\"Year\": 2011, \"Quintiles\": \"1\\u00ba - Inferior\", \"Weight\": 8289560.72185689}, {\"Year\": 2011, \"Quintiles\": \"2\\u00ba\", \"Weight\": 9386900.290269457}, {\"Year\": 2011, \"Quintiles\": \"3\\u00ba\", \"Weight\": 9259719.775654035}, {\"Year\": 2011, \"Quintiles\": \"4\\u00ba\", \"Weight\": 9936385.33418482}, {\"Year\": 2011, \"Quintiles\": \"5\\u00ba - Superior\", \"Weight\": 10317926.87803108}, {\"Year\": 2012, \"Quintiles\": \"1\\u00ba - Inferior\", \"Weight\": 9681560.503319738}, {\"Year\": 2012, \"Quintiles\": \"2\\u00ba\", \"Weight\": 10057887.502141435}, {\"Year\": 2012, \"Quintiles\": \"3\\u00ba\", \"Weight\": 9394674.45040633}, {\"Year\": 2012, \"Quintiles\": \"4\\u00ba\", \"Weight\": 9138164.56780141}, {\"Year\": 2012, \"Quintiles\": \"5\\u00ba - Superior\", \"Weight\": 8993033.97632756}, {\"Year\": 2013, \"Quintiles\": \"1\\u00ba - Inferior\", \"Weight\": 11286253.608042413}, {\"Year\": 2013, \"Quintiles\": \"2\\u00ba\", \"Weight\": 10423155.686365679}, {\"Year\": 2013, \"Quintiles\": \"3\\u00ba\", \"Weight\": 9192706.169925714}, {\"Year\": 2013, \"Quintiles\": \"4\\u00ba\", \"Weight\": 7967606.433992024}, {\"Year\": 2013, \"Quintiles\": \"5\\u00ba - Superior\", \"Weight\": 8260061.1016676035}, {\"Year\": 2014, \"Quintiles\": \"1\\u00ba - Inferior\", \"Weight\": 11336624.972457828}, {\"Year\": 2014, \"Quintiles\": \"2\\u00ba\", \"Weight\": 10160199.49793293}, {\"Year\": 2014, \"Quintiles\": \"3\\u00ba\", \"Weight\": 9123951.417808432}, {\"Year\": 2014, \"Quintiles\": \"4\\u00ba\", \"Weight\": 8355637.3447024245}, {\"Year\": 2014, \"Quintiles\": \"5\\u00ba - Superior\", \"Weight\": 7794927.767100813}, {\"Year\": 2015, \"Quintiles\": \"1\\u00ba - Inferior\", \"Weight\": 10048119.191988664}, {\"Year\": 2015, \"Quintiles\": \"2\\u00ba\", \"Weight\": 9543893.86264413}, {\"Year\": 2015, \"Quintiles\": \"3\\u00ba\", \"Weight\": 9413938.880854292}, {\"Year\": 2015, \"Quintiles\": \"4\\u00ba\", \"Weight\": 9074323.1951102}, {\"Year\": 2015, \"Quintiles\": \"5\\u00ba - Superior\", \"Weight\": 8544106.86940769}, {\"Year\": 2016, \"Quintiles\": \"1\\u00ba - Inferior\", \"Weight\": 9410540.44257422}, {\"Year\": 2016, \"Quintiles\": \"2\\u00ba\", \"Weight\": 9202471.266799567}, {\"Year\": 2016, \"Quintiles\": \"3\\u00ba\", \"Weight\": 9301916.093456568}, {\"Year\": 2016, \"Quintiles\": \"4\\u00ba\", \"Weight\": 9483976.622259399}, {\"Year\": 2016, \"Quintiles\": \"5\\u00ba - Superior\", \"Weight\": 9158103.574906431}, {\"Year\": 2017, \"Quintiles\": \"1\\u00ba - Inferior\", \"Weight\": 7729681.355325612}, {\"Year\": 2017, \"Quintiles\": \"2\\u00ba\", \"Weight\": 8326245.974450348}, {\"Year\": 2017, \"Quintiles\": \"3\\u00ba\", \"Weight\": 9254769.938088037}, {\"Year\": 2017, \"Quintiles\": \"4\\u00ba\", \"Weight\": 10659583.396026915}, {\"Year\": 2017, \"Quintiles\": \"5\\u00ba - Superior\", \"Weight\": 10601851.33611162}, {\"Year\": 2018, \"Quintiles\": \"1\\u00ba - Inferior\", \"Weight\": 8022216.203834348}, {\"Year\": 2018, \"Quintiles\": \"2\\u00ba\", \"Weight\": 8184817.483663852}, {\"Year\": 2018, \"Quintiles\": \"3\\u00ba\", \"Weight\": 9377779.93465841}, {\"Year\": 2018, \"Quintiles\": \"4\\u00ba\", \"Weight\": 9800875.101561958}, {\"Year\": 2018, \"Quintiles\": \"5\\u00ba - Superior\", \"Weight\": 11337291.276278332}]}}, {\"mode\": \"vega-lite\"});\n",
       "</script>"
      ],
      "text/plain": [
       "alt.LayerChart(...)"
      ]
     },
     "execution_count": 224,
     "metadata": {},
     "output_type": "execute_result"
    }
   ],
   "source": [
    "df_happiness = df_nac.groupby(['Year','Quintiles'])['Weight'].mean().reset_index()\n",
    "\n",
    "nearest = alt.selection(type='single', nearest=True, on='mouseover',\n",
    "                        fields=['Year'], empty='none')\n",
    "\n",
    "\n",
    "line = alt.Chart(df_happiness).mark_line(interpolate = 'monotone').encode(\n",
    "    alt.X('Year:O', title = 'Año',\n",
    "          axis=alt.Axis(values= [2008,2009,2010,2011,2012,2013,2014,2015,2016,2017,2018])),\n",
    "    alt.Y('sum(Weight):Q', \n",
    "          title = 'Número de habitantes', \n",
    "          axis = alt.Axis(format =',.2s'),\n",
    "          scale=alt.Scale(domain=[6000000, 12000000])),\n",
    "    color='Quintiles'\n",
    ").properties(\n",
    "    title = 'Evolución del la distribución',\n",
    "    height = 400,\n",
    "    width = 600\n",
    ")\n",
    "\n",
    "\n",
    "selectors = alt.Chart(df_happiness).mark_point().encode(\n",
    "    x='Year:N',\n",
    "    opacity=alt.value(0),\n",
    ").add_selection(\n",
    "    nearest\n",
    ")\n",
    "\n",
    "points = line.mark_point().encode(\n",
    "    opacity=alt.condition(nearest, alt.value(1), alt.value(0))\n",
    ")\n",
    "\n",
    "text = line.mark_text(align='left', dx=5, dy=-5).encode(\n",
    "    text=alt.condition(nearest,'sum(Weight):Q', alt.value(' '), format=',.2s')\n",
    ")\n",
    "\n",
    "# Draw a rule at the location of the selection\n",
    "rules = alt.Chart(df_happiness).mark_rule(color='gray').encode(\n",
    "    x='Year:N',\n",
    ").transform_filter(\n",
    "    nearest\n",
    ")\n",
    "\n",
    "# Put the five layers into a chart and bind the data\n",
    "happines_distribution = alt.layer(\n",
    "    line, selectors, points, rules, text\n",
    ").properties(\n",
    "    width=600, height=400\n",
    ")\n",
    "\n",
    "happines_distribution"
   ]
  },
  {
   "cell_type": "code",
   "execution_count": null,
   "metadata": {},
   "outputs": [],
   "source": []
  },
  {
   "cell_type": "code",
   "execution_count": null,
   "metadata": {},
   "outputs": [],
   "source": []
  },
  {
   "cell_type": "code",
   "execution_count": null,
   "metadata": {},
   "outputs": [],
   "source": []
  },
  {
   "cell_type": "code",
   "execution_count": null,
   "metadata": {},
   "outputs": [],
   "source": []
  },
  {
   "cell_type": "markdown",
   "metadata": {},
   "source": [
    "# Regiones y PIB"
   ]
  },
  {
   "cell_type": "code",
   "execution_count": 26,
   "metadata": {
    "scrolled": true
   },
   "outputs": [
    {
     "data": {
      "text/html": [
       "<div>\n",
       "<style scoped>\n",
       "    .dataframe tbody tr th:only-of-type {\n",
       "        vertical-align: middle;\n",
       "    }\n",
       "\n",
       "    .dataframe tbody tr th {\n",
       "        vertical-align: top;\n",
       "    }\n",
       "\n",
       "    .dataframe thead th {\n",
       "        text-align: right;\n",
       "    }\n",
       "</style>\n",
       "<table border=\"1\" class=\"dataframe\">\n",
       "  <thead>\n",
       "    <tr style=\"text-align: right;\">\n",
       "      <th></th>\n",
       "      <th>Year</th>\n",
       "      <th>Region</th>\n",
       "      <th>variable</th>\n",
       "      <th>Ind_conditions</th>\n",
       "      <th>Mean_conditions</th>\n",
       "      <th>variable_name</th>\n",
       "      <th>variable_response</th>\n",
       "      <th>variable_category</th>\n",
       "      <th>variable_posneg</th>\n",
       "      <th>Pob_</th>\n",
       "      <th>Quintiles</th>\n",
       "      <th>Weight_reg</th>\n",
       "      <th>Predictions</th>\n",
       "      <th>PIB_percapita_</th>\n",
       "      <th>Ind_conditions_prop</th>\n",
       "      <th>Ind_condition_quint_prop</th>\n",
       "    </tr>\n",
       "  </thead>\n",
       "  <tbody>\n",
       "    <tr>\n",
       "      <th>0</th>\n",
       "      <td>2008</td>\n",
       "      <td>Andalucía</td>\n",
       "      <td>Vacaciones No</td>\n",
       "      <td>4.385302e+06</td>\n",
       "      <td>6.290069</td>\n",
       "      <td>Vacaciones</td>\n",
       "      <td>No</td>\n",
       "      <td>Economía no básica</td>\n",
       "      <td>Negativo</td>\n",
       "      <td>8202220</td>\n",
       "      <td>1º - Inferior</td>\n",
       "      <td>2.124882e+06</td>\n",
       "      <td>6.82002</td>\n",
       "      <td>18.437307</td>\n",
       "      <td>0.534648</td>\n",
       "      <td>0.259062</td>\n",
       "    </tr>\n",
       "    <tr>\n",
       "      <th>1</th>\n",
       "      <td>2008</td>\n",
       "      <td>Andalucía</td>\n",
       "      <td>Vacaciones No</td>\n",
       "      <td>4.385302e+06</td>\n",
       "      <td>6.290069</td>\n",
       "      <td>Vacaciones</td>\n",
       "      <td>No</td>\n",
       "      <td>Economía no básica</td>\n",
       "      <td>Negativo</td>\n",
       "      <td>8202220</td>\n",
       "      <td>2º</td>\n",
       "      <td>2.037438e+06</td>\n",
       "      <td>6.82002</td>\n",
       "      <td>18.437307</td>\n",
       "      <td>0.534648</td>\n",
       "      <td>0.248401</td>\n",
       "    </tr>\n",
       "    <tr>\n",
       "      <th>2</th>\n",
       "      <td>2008</td>\n",
       "      <td>Andalucía</td>\n",
       "      <td>Vacaciones No</td>\n",
       "      <td>4.385302e+06</td>\n",
       "      <td>6.290069</td>\n",
       "      <td>Vacaciones</td>\n",
       "      <td>No</td>\n",
       "      <td>Economía no básica</td>\n",
       "      <td>Negativo</td>\n",
       "      <td>8202220</td>\n",
       "      <td>3º</td>\n",
       "      <td>1.709525e+06</td>\n",
       "      <td>6.82002</td>\n",
       "      <td>18.437307</td>\n",
       "      <td>0.534648</td>\n",
       "      <td>0.208422</td>\n",
       "    </tr>\n",
       "    <tr>\n",
       "      <th>3</th>\n",
       "      <td>2008</td>\n",
       "      <td>Andalucía</td>\n",
       "      <td>Vacaciones No</td>\n",
       "      <td>4.385302e+06</td>\n",
       "      <td>6.290069</td>\n",
       "      <td>Vacaciones</td>\n",
       "      <td>No</td>\n",
       "      <td>Economía no básica</td>\n",
       "      <td>Negativo</td>\n",
       "      <td>8202220</td>\n",
       "      <td>4º</td>\n",
       "      <td>1.180490e+06</td>\n",
       "      <td>6.82002</td>\n",
       "      <td>18.437307</td>\n",
       "      <td>0.534648</td>\n",
       "      <td>0.143923</td>\n",
       "    </tr>\n",
       "    <tr>\n",
       "      <th>4</th>\n",
       "      <td>2008</td>\n",
       "      <td>Andalucía</td>\n",
       "      <td>Vacaciones No</td>\n",
       "      <td>4.385302e+06</td>\n",
       "      <td>6.290069</td>\n",
       "      <td>Vacaciones</td>\n",
       "      <td>No</td>\n",
       "      <td>Economía no básica</td>\n",
       "      <td>Negativo</td>\n",
       "      <td>8202220</td>\n",
       "      <td>5º - Superior</td>\n",
       "      <td>1.149885e+06</td>\n",
       "      <td>6.82002</td>\n",
       "      <td>18.437307</td>\n",
       "      <td>0.534648</td>\n",
       "      <td>0.140192</td>\n",
       "    </tr>\n",
       "  </tbody>\n",
       "</table>\n",
       "</div>"
      ],
      "text/plain": [
       "   Year     Region       variable  Ind_conditions  Mean_conditions  \\\n",
       "0  2008  Andalucía  Vacaciones No    4.385302e+06         6.290069   \n",
       "1  2008  Andalucía  Vacaciones No    4.385302e+06         6.290069   \n",
       "2  2008  Andalucía  Vacaciones No    4.385302e+06         6.290069   \n",
       "3  2008  Andalucía  Vacaciones No    4.385302e+06         6.290069   \n",
       "4  2008  Andalucía  Vacaciones No    4.385302e+06         6.290069   \n",
       "\n",
       "  variable_name variable_response   variable_category variable_posneg  \\\n",
       "0    Vacaciones                No  Economía no básica        Negativo   \n",
       "1    Vacaciones                No  Economía no básica        Negativo   \n",
       "2    Vacaciones                No  Economía no básica        Negativo   \n",
       "3    Vacaciones                No  Economía no básica        Negativo   \n",
       "4    Vacaciones                No  Economía no básica        Negativo   \n",
       "\n",
       "      Pob_      Quintiles    Weight_reg  Predictions  PIB_percapita_  \\\n",
       "0  8202220  1º - Inferior  2.124882e+06      6.82002       18.437307   \n",
       "1  8202220             2º  2.037438e+06      6.82002       18.437307   \n",
       "2  8202220             3º  1.709525e+06      6.82002       18.437307   \n",
       "3  8202220             4º  1.180490e+06      6.82002       18.437307   \n",
       "4  8202220  5º - Superior  1.149885e+06      6.82002       18.437307   \n",
       "\n",
       "   Ind_conditions_prop  Ind_condition_quint_prop  \n",
       "0             0.534648                  0.259062  \n",
       "1             0.534648                  0.248401  \n",
       "2             0.534648                  0.208422  \n",
       "3             0.534648                  0.143923  \n",
       "4             0.534648                  0.140192  "
      ]
     },
     "execution_count": 26,
     "metadata": {},
     "output_type": "execute_result"
    }
   ],
   "source": [
    "df.head()"
   ]
  },
  {
   "cell_type": "code",
   "execution_count": null,
   "metadata": {},
   "outputs": [],
   "source": [
    "# PD melt - Year - Region - Quintiles - Pib - values Weight - reg"
   ]
  },
  {
   "cell_type": "code",
   "execution_count": 202,
   "metadata": {},
   "outputs": [],
   "source": [
    "df_2 = pd.melt(df, id_vars=['Year','Region','PIB_percapita_','Quintiles'],value_vars = ['Ind_condition_quint_prop'])\n",
    "df_2 = df_2[(df_2['Quintiles'] == '5º - Superior') |(df_2['Quintiles'] == '4º')]\n",
    "df_2 = df_2.drop_duplicates()"
   ]
  },
  {
   "cell_type": "code",
   "execution_count": 221,
   "metadata": {
    "scrolled": false
   },
   "outputs": [
    {
     "data": {
      "text/html": [
       "\n",
       "<div id=\"altair-viz-1eca37dc80964ae69f1b2ee9ae3ee23e\"></div>\n",
       "<script type=\"text/javascript\">\n",
       "  (function(spec, embedOpt){\n",
       "    let outputDiv = document.currentScript.previousElementSibling;\n",
       "    if (outputDiv.id !== \"altair-viz-1eca37dc80964ae69f1b2ee9ae3ee23e\") {\n",
       "      outputDiv = document.getElementById(\"altair-viz-1eca37dc80964ae69f1b2ee9ae3ee23e\");\n",
       "    }\n",
       "    const paths = {\n",
       "      \"vega\": \"https://cdn.jsdelivr.net/npm//vega@5?noext\",\n",
       "      \"vega-lib\": \"https://cdn.jsdelivr.net/npm//vega-lib?noext\",\n",
       "      \"vega-lite\": \"https://cdn.jsdelivr.net/npm//vega-lite@4.8.1?noext\",\n",
       "      \"vega-embed\": \"https://cdn.jsdelivr.net/npm//vega-embed@6?noext\",\n",
       "    };\n",
       "\n",
       "    function loadScript(lib) {\n",
       "      return new Promise(function(resolve, reject) {\n",
       "        var s = document.createElement('script');\n",
       "        s.src = paths[lib];\n",
       "        s.async = true;\n",
       "        s.onload = () => resolve(paths[lib]);\n",
       "        s.onerror = () => reject(`Error loading script: ${paths[lib]}`);\n",
       "        document.getElementsByTagName(\"head\")[0].appendChild(s);\n",
       "      });\n",
       "    }\n",
       "\n",
       "    function showError(err) {\n",
       "      outputDiv.innerHTML = `<div class=\"error\" style=\"color:red;\">${err}</div>`;\n",
       "      throw err;\n",
       "    }\n",
       "\n",
       "    function displayChart(vegaEmbed) {\n",
       "      vegaEmbed(outputDiv, spec, embedOpt)\n",
       "        .catch(err => showError(`Javascript Error: ${err.message}<br>This usually means there's a typo in your chart specification. See the javascript console for the full traceback.`));\n",
       "    }\n",
       "\n",
       "    if(typeof define === \"function\" && define.amd) {\n",
       "      requirejs.config({paths});\n",
       "      require([\"vega-embed\"], displayChart, err => showError(`Error loading script: ${err.message}`));\n",
       "    } else if (typeof vegaEmbed === \"function\") {\n",
       "      displayChart(vegaEmbed);\n",
       "    } else {\n",
       "      loadScript(\"vega\")\n",
       "        .then(() => loadScript(\"vega-lite\"))\n",
       "        .then(() => loadScript(\"vega-embed\"))\n",
       "        .catch(showError)\n",
       "        .then(() => displayChart(vegaEmbed));\n",
       "    }\n",
       "  })({\"config\": {\"view\": {\"continuousWidth\": 400, \"continuousHeight\": 300}}, \"data\": {\"name\": \"data-6177e84d7d0ef72c4ce0ef2b575106bb\"}, \"mark\": {\"type\": \"circle\", \"size\": 200}, \"encoding\": {\"color\": {\"type\": \"nominal\", \"field\": \"Region\"}, \"tooltip\": [{\"type\": \"nominal\", \"field\": \"Region\"}, {\"type\": \"quantitative\", \"field\": \"Year\"}], \"x\": {\"type\": \"quantitative\", \"field\": \"value\", \"scale\": {\"domain\": [0.05, 0.45]}, \"title\": \"(%) Quintile Higher\"}, \"y\": {\"type\": \"quantitative\", \"field\": \"PIB_percapita_\", \"scale\": {\"domain\": [10, 40]}, \"title\": \"PIB per c\\u00e1pita\"}}, \"height\": 400, \"selection\": {\"selector144\": {\"type\": \"interval\", \"bind\": \"scales\", \"encodings\": [\"x\", \"y\"]}}, \"width\": 600, \"$schema\": \"https://vega.github.io/schema/vega-lite/v4.8.1.json\", \"datasets\": {\"data-6177e84d7d0ef72c4ce0ef2b575106bb\": [{\"Year\": 2012, \"Region\": \"Andaluc\\u00eda\", \"PIB_percapita_\": 16.332245090000892, \"Quintiles\": \"4\\u00ba\", \"variable\": \"Ind_condition_quint_prop\", \"value\": 0.140321217244293}, {\"Year\": 2012, \"Region\": \"Andaluc\\u00eda\", \"PIB_percapita_\": 16.332245090000892, \"Quintiles\": \"5\\u00ba - Superior\", \"variable\": \"Ind_condition_quint_prop\", \"value\": 0.15271907579599747}, {\"Year\": 2012, \"Region\": \"Arag\\u00f3n\", \"PIB_percapita_\": 23.685684050000358, \"Quintiles\": \"4\\u00ba\", \"variable\": \"Ind_condition_quint_prop\", \"value\": 0.2956381260096943}, {\"Year\": 2012, \"Region\": \"Arag\\u00f3n\", \"PIB_percapita_\": 23.685684050000358, \"Quintiles\": \"5\\u00ba - Superior\", \"variable\": \"Ind_condition_quint_prop\", \"value\": 0.16720516962843351}, {\"Year\": 2012, \"Region\": \"Canarias\", \"PIB_percapita_\": 18.507276910000385, \"Quintiles\": \"4\\u00ba\", \"variable\": \"Ind_condition_quint_prop\", \"value\": 0.1290322580645158}, {\"Year\": 2012, \"Region\": \"Canarias\", \"PIB_percapita_\": 18.507276910000385, \"Quintiles\": \"5\\u00ba - Superior\", \"variable\": \"Ind_condition_quint_prop\", \"value\": 0.12076095947063653}, {\"Year\": 2012, \"Region\": \"Cantabria\", \"PIB_percapita_\": 20.488430789999665, \"Quintiles\": \"4\\u00ba\", \"variable\": \"Ind_condition_quint_prop\", \"value\": 0.18505338078291791}, {\"Year\": 2012, \"Region\": \"Cantabria\", \"PIB_percapita_\": 20.488430789999665, \"Quintiles\": \"5\\u00ba - Superior\", \"variable\": \"Ind_condition_quint_prop\", \"value\": 0.30011862396204153}, {\"Year\": 2012, \"Region\": \"Castilla y Le\\u00f3n\", \"PIB_percapita_\": 20.764670600000716, \"Quintiles\": \"4\\u00ba\", \"variable\": \"Ind_condition_quint_prop\", \"value\": 0.24422780913288866}, {\"Year\": 2012, \"Region\": \"Castilla y Le\\u00f3n\", \"PIB_percapita_\": 20.764670600000716, \"Quintiles\": \"5\\u00ba - Superior\", \"variable\": \"Ind_condition_quint_prop\", \"value\": 0.1759876859928161}, {\"Year\": 2012, \"Region\": \"Castilla-La Mancha\", \"PIB_percapita_\": 17.38555380999975, \"Quintiles\": \"4\\u00ba\", \"variable\": \"Ind_condition_quint_prop\", \"value\": 0.2037854889589917}, {\"Year\": 2012, \"Region\": \"Castilla-La Mancha\", \"PIB_percapita_\": 17.38555380999975, \"Quintiles\": \"5\\u00ba - Superior\", \"variable\": \"Ind_condition_quint_prop\", \"value\": 0.1432176656151426}, {\"Year\": 2012, \"Region\": \"Catalu\\u00f1a\", \"PIB_percapita_\": 25.55166143999826, \"Quintiles\": \"4\\u00ba\", \"variable\": \"Ind_condition_quint_prop\", \"value\": 0.2019856213625482}, {\"Year\": 2012, \"Region\": \"Catalu\\u00f1a\", \"PIB_percapita_\": 25.55166143999826, \"Quintiles\": \"5\\u00ba - Superior\", \"variable\": \"Ind_condition_quint_prop\", \"value\": 0.152687435809655}, {\"Year\": 2012, \"Region\": \"Ciudad Aut\\u00f3noma de Ceuta\", \"PIB_percapita_\": 18.15376466999993, \"Quintiles\": \"4\\u00ba\", \"variable\": \"Ind_condition_quint_prop\", \"value\": 0.15269461077844326}, {\"Year\": 2012, \"Region\": \"Ciudad Aut\\u00f3noma de Ceuta\", \"PIB_percapita_\": 18.15376466999993, \"Quintiles\": \"5\\u00ba - Superior\", \"variable\": \"Ind_condition_quint_prop\", \"value\": 0.20359281437125773}, {\"Year\": 2012, \"Region\": \"Ciudad Aut\\u00f3noma de Melilla\", \"PIB_percapita_\": 16.952946710000074, \"Quintiles\": \"4\\u00ba\", \"variable\": \"Ind_condition_quint_prop\", \"value\": 0.19724770642201825}, {\"Year\": 2012, \"Region\": \"Ciudad Aut\\u00f3noma de Melilla\", \"PIB_percapita_\": 16.952946710000074, \"Quintiles\": \"5\\u00ba - Superior\", \"variable\": \"Ind_condition_quint_prop\", \"value\": 0.2064220183486237}, {\"Year\": 2012, \"Region\": \"Comunidad Foral de Navarra\", \"PIB_percapita_\": 26.812158879999913, \"Quintiles\": \"4\\u00ba\", \"variable\": \"Ind_condition_quint_prop\", \"value\": 0.2543859649122803}, {\"Year\": 2012, \"Region\": \"Comunidad Foral de Navarra\", \"PIB_percapita_\": 26.812158879999913, \"Quintiles\": \"5\\u00ba - Superior\", \"variable\": \"Ind_condition_quint_prop\", \"value\": 0.32456140350877066}, {\"Year\": 2012, \"Region\": \"Comunidad Valenciana\", \"PIB_percapita_\": 18.55576021999936, \"Quintiles\": \"4\\u00ba\", \"variable\": \"Ind_condition_quint_prop\", \"value\": 0.14447463768115906}, {\"Year\": 2012, \"Region\": \"Comunidad Valenciana\", \"PIB_percapita_\": 18.55576021999936, \"Quintiles\": \"5\\u00ba - Superior\", \"variable\": \"Ind_condition_quint_prop\", \"value\": 0.18342391304347774}, {\"Year\": 2012, \"Region\": \"Comunidad de Madrid\", \"PIB_percapita_\": 30.010779769999235, \"Quintiles\": \"4\\u00ba\", \"variable\": \"Ind_condition_quint_prop\", \"value\": 0.2356589147286804}, {\"Year\": 2012, \"Region\": \"Comunidad de Madrid\", \"PIB_percapita_\": 30.010779769999235, \"Quintiles\": \"5\\u00ba - Superior\", \"variable\": \"Ind_condition_quint_prop\", \"value\": 0.21240310077519234}, {\"Year\": 2012, \"Region\": \"Extremadura\", \"PIB_percapita_\": 15.399902540000367, \"Quintiles\": \"4\\u00ba\", \"variable\": \"Ind_condition_quint_prop\", \"value\": 0.16363636363636322}, {\"Year\": 2012, \"Region\": \"Extremadura\", \"PIB_percapita_\": 15.399902540000367, \"Quintiles\": \"5\\u00ba - Superior\", \"variable\": \"Ind_condition_quint_prop\", \"value\": 0.16103896103896068}, {\"Year\": 2012, \"Region\": \"Galicia\", \"PIB_percapita_\": 19.40387841000001, \"Quintiles\": \"4\\u00ba\", \"variable\": \"Ind_condition_quint_prop\", \"value\": 0.17250000000000093}, {\"Year\": 2012, \"Region\": \"Galicia\", \"PIB_percapita_\": 19.40387841000001, \"Quintiles\": \"5\\u00ba - Superior\", \"variable\": \"Ind_condition_quint_prop\", \"value\": 0.12450000000000055}, {\"Year\": 2012, \"Region\": \"Illes Balears\", \"PIB_percapita_\": 23.207479819999836, \"Quintiles\": \"4\\u00ba\", \"variable\": \"Ind_condition_quint_prop\", \"value\": 0.24175824175824195}, {\"Year\": 2012, \"Region\": \"Illes Balears\", \"PIB_percapita_\": 23.207479819999836, \"Quintiles\": \"5\\u00ba - Superior\", \"variable\": \"Ind_condition_quint_prop\", \"value\": 0.2405372405372407}, {\"Year\": 2012, \"Region\": \"La Rioja\", \"PIB_percapita_\": 23.597026040000067, \"Quintiles\": \"4\\u00ba\", \"variable\": \"Ind_condition_quint_prop\", \"value\": 0.20887445887445893}, {\"Year\": 2012, \"Region\": \"La Rioja\", \"PIB_percapita_\": 23.597026040000067, \"Quintiles\": \"5\\u00ba - Superior\", \"variable\": \"Ind_condition_quint_prop\", \"value\": 0.22402597402597374}, {\"Year\": 2012, \"Region\": \"Pa\\u00eds Vasco\", \"PIB_percapita_\": 28.525387660000742, \"Quintiles\": \"4\\u00ba\", \"variable\": \"Ind_condition_quint_prop\", \"value\": 0.2558459422283372}, {\"Year\": 2012, \"Region\": \"Pa\\u00eds Vasco\", \"PIB_percapita_\": 28.525387660000742, \"Quintiles\": \"5\\u00ba - Superior\", \"variable\": \"Ind_condition_quint_prop\", \"value\": 0.3122420907840461}, {\"Year\": 2012, \"Region\": \"Principado de Asturias\", \"PIB_percapita_\": 19.830739960000333, \"Quintiles\": \"4\\u00ba\", \"variable\": \"Ind_condition_quint_prop\", \"value\": 0.16950672645739953}, {\"Year\": 2012, \"Region\": \"Principado de Asturias\", \"PIB_percapita_\": 19.830739960000333, \"Quintiles\": \"5\\u00ba - Superior\", \"variable\": \"Ind_condition_quint_prop\", \"value\": 0.33721973094170665}, {\"Year\": 2012, \"Region\": \"Regi\\u00f3n de Murcia\", \"PIB_percapita_\": 17.978797499999935, \"Quintiles\": \"4\\u00ba\", \"variable\": \"Ind_condition_quint_prop\", \"value\": 0.12623985572587912}, {\"Year\": 2012, \"Region\": \"Regi\\u00f3n de Murcia\", \"PIB_percapita_\": 17.978797499999935, \"Quintiles\": \"5\\u00ba - Superior\", \"variable\": \"Ind_condition_quint_prop\", \"value\": 0.15419296663660936}]}}, {\"mode\": \"vega-lite\"});\n",
       "</script>"
      ],
      "text/plain": [
       "alt.Chart(...)"
      ]
     },
     "execution_count": 221,
     "metadata": {},
     "output_type": "execute_result"
    }
   ],
   "source": [
    "df_3 = df_2[df_2['Year'] == 2012]\n",
    "\n",
    "alt.Chart(df_3).mark_circle(size=200).encode(\n",
    "    alt.X('value:Q',\n",
    "         title = '(%) Quintile Higher',\n",
    "         scale=alt.Scale(domain=[0.05, 0.45])),\n",
    "    alt.Y('PIB_percapita_:Q',\n",
    "         title = 'PIB per cápita',\n",
    "         scale=alt.Scale(domain=[10, 40])),\n",
    "    alt.Color('Region:N'),\n",
    "    alt.Tooltip(['Region:N','Year'])\n",
    ").properties(\n",
    "    height = 400,\n",
    "    width = 600\n",
    ").interactive()"
   ]
  },
  {
   "cell_type": "code",
   "execution_count": null,
   "metadata": {},
   "outputs": [],
   "source": [
    "# Ver si puedo hacer mapa"
   ]
  }
 ],
 "metadata": {
  "kernelspec": {
   "display_name": "Python 3",
   "language": "python",
   "name": "python3"
  },
  "language_info": {
   "codemirror_mode": {
    "name": "ipython",
    "version": 3
   },
   "file_extension": ".py",
   "mimetype": "text/x-python",
   "name": "python",
   "nbconvert_exporter": "python",
   "pygments_lexer": "ipython3",
   "version": "3.7.4"
  }
 },
 "nbformat": 4,
 "nbformat_minor": 2
}
