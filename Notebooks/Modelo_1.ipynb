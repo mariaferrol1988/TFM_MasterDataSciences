{
 "cells": [
  {
   "cell_type": "code",
   "execution_count": 1,
   "metadata": {},
   "outputs": [],
   "source": [
    "import pandas as pd\n",
    "import numpy as np\n",
    "import matplotlib.pyplot as plt\n",
    "pd.set_option(\"display.max_columns\", None) \n",
    "pd.set_option(\"display.max_rows\", None)"
   ]
  },
  {
   "cell_type": "code",
   "execution_count": 2,
   "metadata": {
    "scrolled": true
   },
   "outputs": [
    {
     "data": {
      "text/html": [
       "<div>\n",
       "<style scoped>\n",
       "    .dataframe tbody tr th:only-of-type {\n",
       "        vertical-align: middle;\n",
       "    }\n",
       "\n",
       "    .dataframe tbody tr th {\n",
       "        vertical-align: top;\n",
       "    }\n",
       "\n",
       "    .dataframe thead th {\n",
       "        text-align: right;\n",
       "    }\n",
       "</style>\n",
       "<table border=\"1\" class=\"dataframe\">\n",
       "  <thead>\n",
       "    <tr style=\"text-align: right;\">\n",
       "      <th></th>\n",
       "      <th>Year</th>\n",
       "      <th>AREMonth</th>\n",
       "      <th>vhRentaa</th>\n",
       "      <th>CHealth</th>\n",
       "      <th>HousingCost_HighImpactHH</th>\n",
       "      <th>HousingCost_LowImpactHH</th>\n",
       "      <th>HousingCost_MediumImpactHH</th>\n",
       "      <th>HousingCost_Unknown / Not Declared</th>\n",
       "      <th>vhPobreza_vhPobreza_No</th>\n",
       "      <th>vhPobreza_vhPobreza_Yes</th>\n",
       "      <th>CrConditions_NChronic</th>\n",
       "      <th>CrConditions_Unknown / Not Declared</th>\n",
       "      <th>CrConditions_YChronic</th>\n",
       "      <th>HLimitations_NoLimited</th>\n",
       "      <th>HLimitations_NoSerLimitedG_limitado</th>\n",
       "      <th>HLimitations_SerLimited</th>\n",
       "      <th>HLimitations_Unknown / Not declared</th>\n",
       "      <th>MDClothes_No affordable</th>\n",
       "      <th>MDClothes_No, other reason</th>\n",
       "      <th>MDClothes_Unknown / Not Declared</th>\n",
       "      <th>MDClothes_Yes</th>\n",
       "      <th>MDShoes_No affordable</th>\n",
       "      <th>MDShoes_No, other reason</th>\n",
       "      <th>MDShoes_Unknown / Not Declared</th>\n",
       "      <th>MDShoes_Yes</th>\n",
       "      <th>MDFriends_No affordable</th>\n",
       "      <th>MDFriends_No, other reason</th>\n",
       "      <th>MDFriends_Unknown / Not Declared</th>\n",
       "      <th>MDFriends_Yes</th>\n",
       "      <th>MDLeisure_No affordable</th>\n",
       "      <th>MDLeisure_No, other reason</th>\n",
       "      <th>MDLeisure_Unknown / Not Declared</th>\n",
       "      <th>MDLeisure_Yes</th>\n",
       "      <th>MDSelf_No affordable</th>\n",
       "      <th>MDSelf_No, other reason</th>\n",
       "      <th>MDSelf_Unknown / Not Declared</th>\n",
       "      <th>MDSelf_Yes</th>\n",
       "      <th>MDInternet_No affordable</th>\n",
       "      <th>MDInternet_No, other reason</th>\n",
       "      <th>MDInternet_Unknown / Not Declared</th>\n",
       "      <th>MDInternet_Yes</th>\n",
       "      <th>LifeSatisfaction0</th>\n",
       "      <th>LifeSatisfaction1</th>\n",
       "      <th>LifeSatisfaction2</th>\n",
       "    </tr>\n",
       "  </thead>\n",
       "  <tbody>\n",
       "    <tr>\n",
       "      <th>267835</th>\n",
       "      <td>2013</td>\n",
       "      <td>5.0</td>\n",
       "      <td>88450.00</td>\n",
       "      <td>1.0</td>\n",
       "      <td>1</td>\n",
       "      <td>0</td>\n",
       "      <td>0</td>\n",
       "      <td>0</td>\n",
       "      <td>1</td>\n",
       "      <td>0</td>\n",
       "      <td>1</td>\n",
       "      <td>0</td>\n",
       "      <td>0</td>\n",
       "      <td>1</td>\n",
       "      <td>0</td>\n",
       "      <td>0</td>\n",
       "      <td>0</td>\n",
       "      <td>0</td>\n",
       "      <td>0</td>\n",
       "      <td>0</td>\n",
       "      <td>1</td>\n",
       "      <td>0</td>\n",
       "      <td>0</td>\n",
       "      <td>0</td>\n",
       "      <td>1</td>\n",
       "      <td>0</td>\n",
       "      <td>0</td>\n",
       "      <td>0</td>\n",
       "      <td>1</td>\n",
       "      <td>0</td>\n",
       "      <td>0</td>\n",
       "      <td>0</td>\n",
       "      <td>1</td>\n",
       "      <td>0</td>\n",
       "      <td>0</td>\n",
       "      <td>0</td>\n",
       "      <td>1</td>\n",
       "      <td>0</td>\n",
       "      <td>0</td>\n",
       "      <td>0</td>\n",
       "      <td>1</td>\n",
       "      <td>8.0</td>\n",
       "      <td>19.241614</td>\n",
       "      <td>8.000000</td>\n",
       "    </tr>\n",
       "    <tr>\n",
       "      <th>267836</th>\n",
       "      <td>2013</td>\n",
       "      <td>5.0</td>\n",
       "      <td>88450.00</td>\n",
       "      <td>2.0</td>\n",
       "      <td>1</td>\n",
       "      <td>0</td>\n",
       "      <td>0</td>\n",
       "      <td>0</td>\n",
       "      <td>1</td>\n",
       "      <td>0</td>\n",
       "      <td>1</td>\n",
       "      <td>0</td>\n",
       "      <td>0</td>\n",
       "      <td>1</td>\n",
       "      <td>0</td>\n",
       "      <td>0</td>\n",
       "      <td>0</td>\n",
       "      <td>0</td>\n",
       "      <td>0</td>\n",
       "      <td>0</td>\n",
       "      <td>1</td>\n",
       "      <td>0</td>\n",
       "      <td>0</td>\n",
       "      <td>0</td>\n",
       "      <td>1</td>\n",
       "      <td>0</td>\n",
       "      <td>0</td>\n",
       "      <td>0</td>\n",
       "      <td>1</td>\n",
       "      <td>0</td>\n",
       "      <td>0</td>\n",
       "      <td>0</td>\n",
       "      <td>1</td>\n",
       "      <td>0</td>\n",
       "      <td>0</td>\n",
       "      <td>0</td>\n",
       "      <td>1</td>\n",
       "      <td>0</td>\n",
       "      <td>0</td>\n",
       "      <td>0</td>\n",
       "      <td>1</td>\n",
       "      <td>8.0</td>\n",
       "      <td>19.241614</td>\n",
       "      <td>8.000000</td>\n",
       "    </tr>\n",
       "    <tr>\n",
       "      <th>267837</th>\n",
       "      <td>2013</td>\n",
       "      <td>5.0</td>\n",
       "      <td>88450.00</td>\n",
       "      <td>2.0</td>\n",
       "      <td>1</td>\n",
       "      <td>0</td>\n",
       "      <td>0</td>\n",
       "      <td>0</td>\n",
       "      <td>1</td>\n",
       "      <td>0</td>\n",
       "      <td>1</td>\n",
       "      <td>0</td>\n",
       "      <td>0</td>\n",
       "      <td>1</td>\n",
       "      <td>0</td>\n",
       "      <td>0</td>\n",
       "      <td>0</td>\n",
       "      <td>0</td>\n",
       "      <td>0</td>\n",
       "      <td>0</td>\n",
       "      <td>1</td>\n",
       "      <td>0</td>\n",
       "      <td>0</td>\n",
       "      <td>0</td>\n",
       "      <td>1</td>\n",
       "      <td>0</td>\n",
       "      <td>0</td>\n",
       "      <td>0</td>\n",
       "      <td>1</td>\n",
       "      <td>0</td>\n",
       "      <td>1</td>\n",
       "      <td>0</td>\n",
       "      <td>0</td>\n",
       "      <td>0</td>\n",
       "      <td>0</td>\n",
       "      <td>0</td>\n",
       "      <td>1</td>\n",
       "      <td>0</td>\n",
       "      <td>0</td>\n",
       "      <td>0</td>\n",
       "      <td>1</td>\n",
       "      <td>6.5</td>\n",
       "      <td>16.182607</td>\n",
       "      <td>6.728170</td>\n",
       "    </tr>\n",
       "    <tr>\n",
       "      <th>267838</th>\n",
       "      <td>2013</td>\n",
       "      <td>3.0</td>\n",
       "      <td>30558.69</td>\n",
       "      <td>1.0</td>\n",
       "      <td>0</td>\n",
       "      <td>0</td>\n",
       "      <td>1</td>\n",
       "      <td>0</td>\n",
       "      <td>1</td>\n",
       "      <td>0</td>\n",
       "      <td>1</td>\n",
       "      <td>0</td>\n",
       "      <td>0</td>\n",
       "      <td>1</td>\n",
       "      <td>0</td>\n",
       "      <td>0</td>\n",
       "      <td>0</td>\n",
       "      <td>0</td>\n",
       "      <td>1</td>\n",
       "      <td>0</td>\n",
       "      <td>0</td>\n",
       "      <td>0</td>\n",
       "      <td>0</td>\n",
       "      <td>0</td>\n",
       "      <td>1</td>\n",
       "      <td>0</td>\n",
       "      <td>0</td>\n",
       "      <td>0</td>\n",
       "      <td>1</td>\n",
       "      <td>0</td>\n",
       "      <td>0</td>\n",
       "      <td>0</td>\n",
       "      <td>1</td>\n",
       "      <td>0</td>\n",
       "      <td>0</td>\n",
       "      <td>0</td>\n",
       "      <td>1</td>\n",
       "      <td>0</td>\n",
       "      <td>0</td>\n",
       "      <td>0</td>\n",
       "      <td>1</td>\n",
       "      <td>8.5</td>\n",
       "      <td>20.540864</td>\n",
       "      <td>8.540183</td>\n",
       "    </tr>\n",
       "    <tr>\n",
       "      <th>267839</th>\n",
       "      <td>2013</td>\n",
       "      <td>3.0</td>\n",
       "      <td>30558.69</td>\n",
       "      <td>2.0</td>\n",
       "      <td>0</td>\n",
       "      <td>0</td>\n",
       "      <td>1</td>\n",
       "      <td>0</td>\n",
       "      <td>1</td>\n",
       "      <td>0</td>\n",
       "      <td>1</td>\n",
       "      <td>0</td>\n",
       "      <td>0</td>\n",
       "      <td>1</td>\n",
       "      <td>0</td>\n",
       "      <td>0</td>\n",
       "      <td>0</td>\n",
       "      <td>0</td>\n",
       "      <td>0</td>\n",
       "      <td>0</td>\n",
       "      <td>1</td>\n",
       "      <td>0</td>\n",
       "      <td>0</td>\n",
       "      <td>0</td>\n",
       "      <td>1</td>\n",
       "      <td>0</td>\n",
       "      <td>0</td>\n",
       "      <td>0</td>\n",
       "      <td>1</td>\n",
       "      <td>0</td>\n",
       "      <td>0</td>\n",
       "      <td>0</td>\n",
       "      <td>1</td>\n",
       "      <td>0</td>\n",
       "      <td>0</td>\n",
       "      <td>0</td>\n",
       "      <td>1</td>\n",
       "      <td>0</td>\n",
       "      <td>0</td>\n",
       "      <td>0</td>\n",
       "      <td>1</td>\n",
       "      <td>7.5</td>\n",
       "      <td>19.233254</td>\n",
       "      <td>7.996524</td>\n",
       "    </tr>\n",
       "  </tbody>\n",
       "</table>\n",
       "</div>"
      ],
      "text/plain": [
       "        Year  AREMonth  vhRentaa  CHealth  HousingCost_HighImpactHH  \\\n",
       "267835  2013       5.0  88450.00      1.0                         1   \n",
       "267836  2013       5.0  88450.00      2.0                         1   \n",
       "267837  2013       5.0  88450.00      2.0                         1   \n",
       "267838  2013       3.0  30558.69      1.0                         0   \n",
       "267839  2013       3.0  30558.69      2.0                         0   \n",
       "\n",
       "        HousingCost_LowImpactHH  HousingCost_MediumImpactHH  \\\n",
       "267835                        0                           0   \n",
       "267836                        0                           0   \n",
       "267837                        0                           0   \n",
       "267838                        0                           1   \n",
       "267839                        0                           1   \n",
       "\n",
       "        HousingCost_Unknown / Not Declared  vhPobreza_vhPobreza_No  \\\n",
       "267835                                   0                       1   \n",
       "267836                                   0                       1   \n",
       "267837                                   0                       1   \n",
       "267838                                   0                       1   \n",
       "267839                                   0                       1   \n",
       "\n",
       "        vhPobreza_vhPobreza_Yes  CrConditions_NChronic  \\\n",
       "267835                        0                      1   \n",
       "267836                        0                      1   \n",
       "267837                        0                      1   \n",
       "267838                        0                      1   \n",
       "267839                        0                      1   \n",
       "\n",
       "        CrConditions_Unknown / Not Declared  CrConditions_YChronic  \\\n",
       "267835                                    0                      0   \n",
       "267836                                    0                      0   \n",
       "267837                                    0                      0   \n",
       "267838                                    0                      0   \n",
       "267839                                    0                      0   \n",
       "\n",
       "        HLimitations_NoLimited  HLimitations_NoSerLimitedG_limitado  \\\n",
       "267835                       1                                    0   \n",
       "267836                       1                                    0   \n",
       "267837                       1                                    0   \n",
       "267838                       1                                    0   \n",
       "267839                       1                                    0   \n",
       "\n",
       "        HLimitations_SerLimited  HLimitations_Unknown / Not declared  \\\n",
       "267835                        0                                    0   \n",
       "267836                        0                                    0   \n",
       "267837                        0                                    0   \n",
       "267838                        0                                    0   \n",
       "267839                        0                                    0   \n",
       "\n",
       "        MDClothes_No affordable  MDClothes_No, other reason  \\\n",
       "267835                        0                           0   \n",
       "267836                        0                           0   \n",
       "267837                        0                           0   \n",
       "267838                        0                           1   \n",
       "267839                        0                           0   \n",
       "\n",
       "        MDClothes_Unknown / Not Declared  MDClothes_Yes  \\\n",
       "267835                                 0              1   \n",
       "267836                                 0              1   \n",
       "267837                                 0              1   \n",
       "267838                                 0              0   \n",
       "267839                                 0              1   \n",
       "\n",
       "        MDShoes_No affordable  MDShoes_No, other reason  \\\n",
       "267835                      0                         0   \n",
       "267836                      0                         0   \n",
       "267837                      0                         0   \n",
       "267838                      0                         0   \n",
       "267839                      0                         0   \n",
       "\n",
       "        MDShoes_Unknown / Not Declared  MDShoes_Yes  MDFriends_No affordable  \\\n",
       "267835                               0            1                        0   \n",
       "267836                               0            1                        0   \n",
       "267837                               0            1                        0   \n",
       "267838                               0            1                        0   \n",
       "267839                               0            1                        0   \n",
       "\n",
       "        MDFriends_No, other reason  MDFriends_Unknown / Not Declared  \\\n",
       "267835                           0                                 0   \n",
       "267836                           0                                 0   \n",
       "267837                           0                                 0   \n",
       "267838                           0                                 0   \n",
       "267839                           0                                 0   \n",
       "\n",
       "        MDFriends_Yes  MDLeisure_No affordable  MDLeisure_No, other reason  \\\n",
       "267835              1                        0                           0   \n",
       "267836              1                        0                           0   \n",
       "267837              1                        0                           1   \n",
       "267838              1                        0                           0   \n",
       "267839              1                        0                           0   \n",
       "\n",
       "        MDLeisure_Unknown / Not Declared  MDLeisure_Yes  MDSelf_No affordable  \\\n",
       "267835                                 0              1                     0   \n",
       "267836                                 0              1                     0   \n",
       "267837                                 0              0                     0   \n",
       "267838                                 0              1                     0   \n",
       "267839                                 0              1                     0   \n",
       "\n",
       "        MDSelf_No, other reason  MDSelf_Unknown / Not Declared  MDSelf_Yes  \\\n",
       "267835                        0                              0           1   \n",
       "267836                        0                              0           1   \n",
       "267837                        0                              0           1   \n",
       "267838                        0                              0           1   \n",
       "267839                        0                              0           1   \n",
       "\n",
       "        MDInternet_No affordable  MDInternet_No, other reason  \\\n",
       "267835                         0                            0   \n",
       "267836                         0                            0   \n",
       "267837                         0                            0   \n",
       "267838                         0                            0   \n",
       "267839                         0                            0   \n",
       "\n",
       "        MDInternet_Unknown / Not Declared  MDInternet_Yes  LifeSatisfaction0  \\\n",
       "267835                                  0               1                8.0   \n",
       "267836                                  0               1                8.0   \n",
       "267837                                  0               1                6.5   \n",
       "267838                                  0               1                8.5   \n",
       "267839                                  0               1                7.5   \n",
       "\n",
       "        LifeSatisfaction1  LifeSatisfaction2  \n",
       "267835          19.241614           8.000000  \n",
       "267836          19.241614           8.000000  \n",
       "267837          16.182607           6.728170  \n",
       "267838          20.540864           8.540183  \n",
       "267839          19.233254           7.996524  "
      ]
     },
     "execution_count": 2,
     "metadata": {},
     "output_type": "execute_result"
    }
   ],
   "source": [
    "model_var =  ['Year','vhRentaa', 'HousingCost_HighImpactHH','HousingCost_LowImpactHH', 'HousingCost_MediumImpactHH', \\\n",
    "              'HousingCost_Unknown / Not Declared', 'CrConditions_NChronic', 'CrConditions_Unknown / Not Declared', \\\n",
    "              'CrConditions_YChronic', 'HLimitations_NoLimited','HLimitations_NoSerLimitedG_limitado', \\\n",
    "              'HLimitations_SerLimited','HLimitations_Unknown / Not declared', 'MDClothes_No affordable', \\\n",
    "              'MDClothes_No, other reason','MDClothes_Unknown / Not Declared', 'MDClothes_Yes', 'MDShoes_No affordable', \\\n",
    "              'MDShoes_No, other reason', 'MDShoes_Unknown / Not Declared', 'MDShoes_Yes', 'MDFriends_No affordable',\\\n",
    "              'MDFriends_No, other reason', 'MDFriends_Unknown / Not Declared', 'MDFriends_Yes', 'MDLeisure_No affordable', \\\n",
    "              'MDLeisure_No, other reason', 'MDLeisure_Unknown / Not Declared', 'MDLeisure_Yes', 'MDSelf_No affordable',\\\n",
    "              'MDSelf_No, other reason', 'MDSelf_Unknown / Not Declared', 'MDSelf_Yes', 'MDInternet_No affordable',\\\n",
    "              'MDInternet_No, other reason', 'MDInternet_Unknown / Not Declared', 'MDInternet_Yes', 'LifeSatisfaction0',\\\n",
    "              'LifeSatisfaction1', 'LifeSatisfaction2', 'AREMonth','CHealth', 'vhPobreza_vhPobreza_No','vhPobreza_vhPobreza_Yes']\n",
    "\n",
    "\n",
    "df = pd.read_csv('./Files/ECV_2004_2018.csv.gz', sep = ';', compression='gzip', usecols = model_var).dropna()\n",
    "df_model = df[(df['Year'] == 2018) | (df['Year'] == 2013)]\n",
    "\n",
    "df_model.head()"
   ]
  },
  {
   "cell_type": "markdown",
   "metadata": {},
   "source": [
    "# Librerías"
   ]
  },
  {
   "cell_type": "code",
   "execution_count": 65,
   "metadata": {},
   "outputs": [],
   "source": [
    "# Modelos\n",
    "from sklearn.linear_model import LinearRegression\n",
    "from sklearn.neighbors import KNeighborsRegressor\n",
    "from sklearn.tree import DecisionTreeRegressor\n",
    "from sklearn.ensemble import RandomForestRegressor\n",
    "\n",
    "# Métricas\n",
    "from sklearn.metrics import mean_absolute_error\n",
    "from sklearn.metrics import mean_squared_error\n",
    "from sklearn.metrics import r2_score\n",
    "\n",
    "# Selección de variables\n",
    "import statsmodels.api as sm\n",
    "\n",
    "# Hyperparameter tunning & Model selection\n",
    "from sklearn.feature_selection import RFE\n",
    "from sklearn.model_selection import GridSearchCV\n",
    "from sklearn.model_selection import RandomizedSearchCV\n",
    "from scipy.stats import randint as sp_randInt\n",
    "\n",
    "# Validación \n",
    "from sklearn.model_selection import train_test_split\n",
    "from sklearn.model_selection import cross_val_score\n",
    "\n",
    "# Visualización\n",
    "import seaborn as sns"
   ]
  },
  {
   "cell_type": "markdown",
   "metadata": {},
   "source": [
    "# Variables "
   ]
  },
  {
   "cell_type": "code",
   "execution_count": 5,
   "metadata": {},
   "outputs": [],
   "source": [
    "# Variables\n",
    "X = df_model[['vhRentaa','HousingCost_HighImpactHH','CrConditions_NChronic','HLimitations_NoLimited', 'MDInternet_Yes',\n",
    "     'MDSelf_Yes', 'MDLeisure_Yes',  'MDFriends_Yes', 'MDShoes_Yes', 'MDClothes_Yes','CHealth','AREMonth']]\n",
    "# Eliminar MD internet - HLimitations\n",
    "# variable output con media aritmética\n",
    "y1 = df_model['LifeSatisfaction0']\n",
    "# variable output con predominio de variables de satisfacción con la vida\n",
    "y2 = df_model['LifeSatisfaction2']"
   ]
  },
  {
   "cell_type": "markdown",
   "metadata": {},
   "source": [
    "# Modelos"
   ]
  },
  {
   "cell_type": "code",
   "execution_count": 44,
   "metadata": {},
   "outputs": [],
   "source": [
    "# Train - Test Split y1\n",
    "X_train1, X_test1, y_train1, y_test1 = train_test_split(\n",
    "    X,y1, test_size = 0.2, random_state = 42)\n",
    "# Train - Test Split y2\n",
    "X_train2, X_test2, y_train2, y_test2 = train_test_split(\n",
    "    X,y2, test_size = 0.2, random_state = 42)"
   ]
  },
  {
   "cell_type": "markdown",
   "metadata": {},
   "source": [
    "* ### Linear Regression"
   ]
  },
  {
   "cell_type": "markdown",
   "metadata": {},
   "source": [
    "#### a) Variable y1"
   ]
  },
  {
   "cell_type": "code",
   "execution_count": 6,
   "metadata": {},
   "outputs": [],
   "source": [
    "# Instancia\n",
    "reg1 = LinearRegression()\n",
    "# Fit del modelo\n",
    "reg1.fit(X_train1, y_train1)\n",
    "# Predicción de los valores en test\n",
    "pred1=reg1.predict(X_test1)"
   ]
  },
  {
   "cell_type": "markdown",
   "metadata": {},
   "source": [
    "#### b) Variable y2"
   ]
  },
  {
   "cell_type": "code",
   "execution_count": 7,
   "metadata": {},
   "outputs": [],
   "source": [
    "# Instancia\n",
    "reg2 = LinearRegression()\n",
    "# Fit del modelo\n",
    "reg2.fit(X_train2, y_train2)\n",
    "# Predicción de los valores en test\n",
    "pred2=reg2.predict(X_test2)"
   ]
  },
  {
   "cell_type": "markdown",
   "metadata": {},
   "source": [
    "* ### Kneighbors"
   ]
  },
  {
   "cell_type": "markdown",
   "metadata": {},
   "source": [
    "#### a) Variable y1"
   ]
  },
  {
   "cell_type": "code",
   "execution_count": 22,
   "metadata": {},
   "outputs": [],
   "source": [
    "# Instancia\n",
    "regk_1 = KNeighborsRegressor(n_neighbors=298)\n",
    "# Fit del modelo\n",
    "regk_1.fit(X_train1, y_train1)\n",
    "# Predicción de los valores en test\n",
    "predK1=regk_1.predict(X_test1)"
   ]
  },
  {
   "cell_type": "markdown",
   "metadata": {},
   "source": [
    "#### a) Variable y2"
   ]
  },
  {
   "cell_type": "code",
   "execution_count": 23,
   "metadata": {},
   "outputs": [],
   "source": [
    "# Instancia\n",
    "regk_2 = KNeighborsRegressor(n_neighbors=299)\n",
    "# Fit del modelo\n",
    "regk_2.fit(X_train2, y_train2)\n",
    "# Predicción de los valores en test\n",
    "predk2=regk_2.predict(X_test2)"
   ]
  },
  {
   "cell_type": "markdown",
   "metadata": {},
   "source": [
    "* ### Decision Tree"
   ]
  },
  {
   "cell_type": "markdown",
   "metadata": {},
   "source": [
    "#### a) Variable y1"
   ]
  },
  {
   "cell_type": "code",
   "execution_count": 24,
   "metadata": {},
   "outputs": [],
   "source": [
    "# Instancia\n",
    "regd_1 = DecisionTreeRegressor(min_samples_split = 7,\n",
    "                             max_depth = 4,\n",
    "                             min_samples_leaf = 4)\n",
    "\n",
    "# Fit del modelo\n",
    "regd_1.fit(X_train1, y_train1)\n",
    "# Predicción de los valores en test\n",
    "predd1=regd_1.predict(X_test1)"
   ]
  },
  {
   "cell_type": "markdown",
   "metadata": {},
   "source": [
    "#### a) Variable y2"
   ]
  },
  {
   "cell_type": "code",
   "execution_count": 25,
   "metadata": {},
   "outputs": [],
   "source": [
    "# Instancia\n",
    "regd_2 = DecisionTreeRegressor(min_samples_split = 7,\n",
    "                             max_depth = 13,\n",
    "                             min_samples_leaf = 4)\n",
    "\n",
    "# Fit del modelo\n",
    "regd_2.fit(X_train2, y_train2)\n",
    "# Predicción de los valores en test\n",
    "predd2=regd_2.predict(X_test2)"
   ]
  },
  {
   "cell_type": "markdown",
   "metadata": {},
   "source": [
    "* ### Random Forest"
   ]
  },
  {
   "cell_type": "markdown",
   "metadata": {},
   "source": [
    "#### a) Variable y1"
   ]
  },
  {
   "cell_type": "code",
   "execution_count": 26,
   "metadata": {},
   "outputs": [],
   "source": [
    "# Instancia\n",
    "rdfreg1 = RandomForestRegressor(n_estimators = 200, \n",
    "                               min_samples_split = 60, \n",
    "                               min_samples_leaf = 60, \n",
    "                               max_depth = 10)\n",
    "# Fit del modelo\n",
    "rdfreg1.fit(X_train1, y_train1)\n",
    "# Predicción de los valores en test\n",
    "predrdf1=rdfreg1.predict(X_test1)"
   ]
  },
  {
   "cell_type": "markdown",
   "metadata": {},
   "source": [
    "#### a) Variable y2"
   ]
  },
  {
   "cell_type": "code",
   "execution_count": 27,
   "metadata": {},
   "outputs": [],
   "source": [
    "# Instancia\n",
    "rdfreg2 = RandomForestRegressor(n_estimators = 600, \n",
    "                               min_samples_split = 40, \n",
    "                               min_samples_leaf = 50, \n",
    "                               max_depth = 10)\n",
    "# Fit del modelo\n",
    "rdfreg2.fit(X_train2, y_train2)\n",
    "# Predicción de los valores en test\n",
    "predrdf2=rdfreg2.predict(X_test2)"
   ]
  },
  {
   "cell_type": "markdown",
   "metadata": {},
   "source": [
    "# Resultados"
   ]
  },
  {
   "cell_type": "code",
   "execution_count": 28,
   "metadata": {
    "scrolled": true
   },
   "outputs": [
    {
     "name": "stdout",
     "output_type": "stream",
     "text": [
      "Resultados Regresión Lineal con variable de Satisfacción 0:\n",
      "MAPE: 0.9419839241990273\n",
      "MAE: 0.9419839241990325\n",
      "RMSE: 1.211657300319262\n",
      "correlation coefficient: 0.5519219532659716\n",
      "R2_score: 0.3045440832157986\n",
      "-------------\n",
      "Resultados Regresión Lineal con variable de Satisfacción 2:\n",
      "MAPE: 0.9383386028231032\n",
      "MAE: 0.9383386028231001\n",
      "RMSE: 1.2145500714481425\n",
      "correlation coefficient: 0.5859384642757269\n",
      "R2_score: 0.3432371696608169\n",
      "----------------------------\n",
      "----------------------------\n",
      "Resultados Kneighbors con variable de Satisfacción 0:\n",
      "MAPE: 1.0929772281110102\n",
      "MAE: 1.0929772281110086\n",
      "RMSE: 1.4075352942393013\n",
      "-------------\n",
      "Resultados Kneighbors con variable de Satisfacción 1:\n",
      "MAPE: 1.1088464227397656\n",
      "MAE: 1.1088464227397672\n",
      "RMSE: 1.438517619661969\n",
      "----------------------------\n",
      "----------------------------\n",
      "Resultados Decision Tree con variable de Satisfacción 0:\n",
      "MAPE: 0.9657221308609686\n",
      "MAE: 0.9657221308609719\n",
      "RMSE: 1.2408128615844007\n",
      "-------------\n",
      "Resultados Decision Tree con variable de Satisfacción 1:\n",
      "MAPE: 0.9820128275777785\n",
      "MAE: 0.9820128275777786\n",
      "RMSE: 1.27807962184848\n",
      "----------------------------\n",
      "----------------------------\n",
      "Resultados Random Forest con variable de Satisfacción 0:\n",
      "MAPE: 0.9406964861233174\n",
      "MAE: 0.9406964861233198\n",
      "RMSE: 1.2085518925349292\n",
      "-------------\n",
      "Resultados Random Forest con variable de Satisfacción 1:\n",
      "MAPE: 0.9361155789843116\n",
      "MAE: 0.9361155789843109\n",
      "RMSE: 1.2116029506528243\n"
     ]
    }
   ],
   "source": [
    "# Regresión Lineal variable 1\n",
    "print('Resultados Regresión Lineal con variable de Satisfacción 0:')\n",
    "print('MAPE: ' + str(np.mean(np.abs(y_test1-pred1))))\n",
    "print('MAE: ' + str(mean_absolute_error(y_test1,pred1)))\n",
    "print('RMSE: ' + str(np.sqrt(mean_squared_error(reg1.predict((X_test1)),y_test1))))\n",
    "print('correlation coefficient: ' + str(np.corrcoef(reg1.predict(X_test1), y_test1)[0][1]))\n",
    "print('R2_score: ' + str(r2_score(y_test1,pred1,multioutput='variance_weighted')))\n",
    "print('-------------')\n",
    "# Regresión Lineal variable 2 \n",
    "print('Resultados Regresión Lineal con variable de Satisfacción 2:')\n",
    "print('MAPE: ' + str(np.mean(np.abs(y_test2-pred2))))\n",
    "print('MAE: ' + str(mean_absolute_error(y_test2,pred2)))\n",
    "print('RMSE: ' + str(np.sqrt(mean_squared_error(reg2.predict((X_test2)),y_test2))))\n",
    "print('correlation coefficient: ' + str(np.corrcoef(reg2.predict(X_test2), y_test2)[0][1]))\n",
    "print('R2_score: ' + str(r2_score(y_test2,pred2,multioutput='variance_weighted')))\n",
    "print('----------------------------')\n",
    "print('----------------------------')\n",
    "# Kneighbors variable 1\n",
    "print('Resultados Kneighbors con variable de Satisfacción 0:')\n",
    "print('MAPE: ' + str(np.mean(np.abs(y_test1-predK1))))\n",
    "print('MAE: ' + str(mean_absolute_error(y_test1,predK1)))\n",
    "print('RMSE: ' + str(np.sqrt(mean_squared_error(regk_1.predict((X_test1)),y_test1))))\n",
    "print('-------------')\n",
    "# Kneighbors variable 2\n",
    "print('Resultados Kneighbors con variable de Satisfacción 1:')\n",
    "print('MAPE: ' + str(np.mean(np.abs(y_test2-predk2))))\n",
    "print('MAE: ' + str(mean_absolute_error(y_test2,predk2)))\n",
    "print('RMSE: ' + str(np.sqrt(mean_squared_error(regk_2.predict((X_test2)),y_test2))))\n",
    "print('----------------------------')\n",
    "print('----------------------------')\n",
    "# Decision tree variable 1\n",
    "print('Resultados Decision Tree con variable de Satisfacción 0:')\n",
    "print('MAPE: ' + str(np.mean(np.abs(y_test1-predd1))))\n",
    "print('MAE: ' + str(mean_absolute_error(y_test1,predd1)))\n",
    "print('RMSE: ' + str(np.sqrt(mean_squared_error(regd_1.predict((X_test1)),y_test1))))\n",
    "print('-------------')\n",
    "# Decision tree variable 2\n",
    "print('Resultados Decision Tree con variable de Satisfacción 1:')\n",
    "print('MAPE: ' + str(np.mean(np.abs(y_test2-predd2))))\n",
    "print('MAE: ' + str(mean_absolute_error(y_test2,predd2)))\n",
    "print('RMSE: ' + str(np.sqrt(mean_squared_error(regd_2.predict((X_test2)),y_test2))))\n",
    "# Random Forest variable 1\n",
    "print('----------------------------')\n",
    "print('----------------------------')\n",
    "print('Resultados Random Forest con variable de Satisfacción 0:')\n",
    "print('MAPE: ' + str(np.mean(np.abs(y_test1-predrdf1))))\n",
    "print('MAE: ' + str(mean_absolute_error(y_test1,predrdf1)))\n",
    "print('RMSE: ' + str(np.sqrt(mean_squared_error(rdfreg1.predict((X_test1)),y_test1))))\n",
    "print('-------------')\n",
    "# Random Forest variable 1\n",
    "print('Resultados Random Forest con variable de Satisfacción 1:')\n",
    "print('MAPE: ' + str(np.mean(np.abs(y_test2-predrdf2))))\n",
    "print('MAE: ' + str(mean_absolute_error(y_test2,predrdf2)))\n",
    "print('RMSE: ' + str(np.sqrt(mean_squared_error(rdfreg2.predict((X_test2)),y_test2))))"
   ]
  },
  {
   "cell_type": "markdown",
   "metadata": {},
   "source": [
    "# Feature Selection "
   ]
  },
  {
   "cell_type": "code",
   "execution_count": 31,
   "metadata": {},
   "outputs": [],
   "source": [
    "# Pendiente"
   ]
  },
  {
   "cell_type": "code",
   "execution_count": 94,
   "metadata": {
    "scrolled": true
   },
   "outputs": [
    {
     "name": "stdout",
     "output_type": "stream",
     "text": [
      "Feature: 0, Score: 0.00000\n",
      "Feature: 1, Score: -0.10954\n",
      "Feature: 2, Score: -0.19704\n",
      "Feature: 3, Score: 0.00883\n",
      "Feature: 4, Score: -0.12417\n",
      "Feature: 5, Score: 0.25589\n",
      "Feature: 6, Score: 0.25476\n",
      "Feature: 7, Score: 0.31672\n",
      "Feature: 8, Score: 0.27460\n",
      "Feature: 9, Score: 0.45283\n",
      "Feature: 10, Score: -0.39028\n",
      "Feature: 11, Score: 0.31099\n"
     ]
    },
    {
     "data": {
      "image/png": "[encoded data removed]",
      "text/plain": [
       "<Figure size 432x288 with 1 Axes>"
      ]
     },
     "metadata": {
      "needs_background": "light"
     },
     "output_type": "display_data"
    }
   ],
   "source": [
    "# valor de los coeficientes\n",
    "importance1 = reg1.coef_\n",
    "\n",
    "# resumen de la importancia\n",
    "for i,v in enumerate(importance1):\n",
    "    print('Feature: %0d, Score: %.5f' % (i,v))\n",
    "    \n",
    "# gráfico de la importancia\n",
    "plt.bar([x for x in range(len(importance1))], importance1)\n",
    "plt.show()"
   ]
  },
  {
   "cell_type": "code",
   "execution_count": 99,
   "metadata": {},
   "outputs": [],
   "source": [
    "import statsmodels.api as sm"
   ]
  },
  {
   "cell_type": "code",
   "execution_count": 100,
   "metadata": {},
   "outputs": [
    {
     "data": {
      "text/plain": [
       "const                        0.000000e+00\n",
       "vhRentaa                     3.631958e-07\n",
       "HousingCost_HighImpactHH     2.741821e-19\n",
       "CrConditions_NChronic        7.563613e-34\n",
       "HLimitations_NoLimited       9.232865e-01\n",
       "MDInternet_Yes               1.833914e-15\n",
       "MDSelf_Yes                   1.208383e-69\n",
       "MDLeisure_Yes                1.184590e-67\n",
       "MDFriends_Yes                7.313237e-72\n",
       "MDShoes_Yes                  8.700853e-12\n",
       "MDClothes_Yes               1.935084e-106\n",
       "CHealth                      0.000000e+00\n",
       "AREMonth                     0.000000e+00\n",
       "dtype: float64"
      ]
     },
     "execution_count": 100,
     "metadata": {},
     "output_type": "execute_result"
    }
   ],
   "source": [
    "X_1 = sm.add_constant(X)\n",
    "#Fitting sm.OLS model\n",
    "model = sm.OLS(y1,X_1).fit()\n",
    "model.pvalues"
   ]
  },
  {
   "cell_type": "code",
   "execution_count": 103,
   "metadata": {
    "scrolled": true
   },
   "outputs": [
    {
     "data": {
      "text/plain": [
       "const                        0.000000e+00\n",
       "vhRentaa                     3.631958e-07\n",
       "HousingCost_HighImpactHH     2.741821e-19\n",
       "CrConditions_NChronic        7.563613e-34\n",
       "HLimitations_NoLimited       9.232865e-01\n",
       "MDInternet_Yes               1.833914e-15\n",
       "MDSelf_Yes                   1.208383e-69\n",
       "MDLeisure_Yes                1.184590e-67\n",
       "MDFriends_Yes                7.313237e-72\n",
       "MDShoes_Yes                  8.700853e-12\n",
       "MDClothes_Yes               1.935084e-106\n",
       "CHealth                      0.000000e+00\n",
       "AREMonth                     0.000000e+00\n",
       "dtype: float64"
      ]
     },
     "execution_count": 103,
     "metadata": {},
     "output_type": "execute_result"
    }
   ],
   "source": [
    "model.pvalues"
   ]
  },
  {
   "cell_type": "markdown",
   "metadata": {},
   "source": [
    "# Hyperparameter tuning"
   ]
  },
  {
   "cell_type": "markdown",
   "metadata": {},
   "source": [
    "##### Kneighbors y1"
   ]
  },
  {
   "cell_type": "code",
   "execution_count": 15,
   "metadata": {
    "scrolled": true
   },
   "outputs": [
    {
     "name": "stdout",
     "output_type": "stream",
     "text": [
      "{'n_neighbors': 298}\n",
      "CPU times: user 5min 45s, sys: 234 ms, total: 5min 45s\n",
      "Wall time: 5min 46s\n"
     ]
    }
   ],
   "source": [
    "%%time\n",
    "regk1 = GridSearchCV(KNeighborsRegressor(),\n",
    "                  param_grid={\"n_neighbors\":np.arange(4,300)},\n",
    "                  cv=5,\n",
    "                  scoring=\"neg_mean_absolute_error\")\n",
    "\n",
    "\n",
    "regk1.fit(X,y1)\n",
    "\n",
    "print(regk1.best_params_)"
   ]
  },
  {
   "cell_type": "markdown",
   "metadata": {},
   "source": [
    "##### Kneighbors y1"
   ]
  },
  {
   "cell_type": "code",
   "execution_count": 16,
   "metadata": {},
   "outputs": [
    {
     "name": "stdout",
     "output_type": "stream",
     "text": [
      "{'n_neighbors': 299}\n",
      "CPU times: user 6min 1s, sys: 93.8 ms, total: 6min 1s\n",
      "Wall time: 6min 3s\n"
     ]
    }
   ],
   "source": [
    "%%time\n",
    "regk2 = GridSearchCV(KNeighborsRegressor(),\n",
    "                  param_grid={\"n_neighbors\":np.arange(4,300)},\n",
    "                  cv=5,\n",
    "                  scoring=\"neg_mean_absolute_error\")\n",
    "\n",
    "\n",
    "regk2.fit(X,y2)\n",
    "\n",
    "print(regk2.best_params_)"
   ]
  },
  {
   "cell_type": "markdown",
   "metadata": {},
   "source": [
    "##### Decision Tree y1"
   ]
  },
  {
   "cell_type": "code",
   "execution_count": 17,
   "metadata": {
    "scrolled": true
   },
   "outputs": [
    {
     "name": "stdout",
     "output_type": "stream",
     "text": [
      "{'max_depth': 7, 'min_samples_leaf': 4, 'min_samples_split': 4}\n",
      "CPU times: user 6min 23s, sys: 141 ms, total: 6min 23s\n",
      "Wall time: 6min 24s\n"
     ]
    }
   ],
   "source": [
    "%%time\n",
    "\n",
    "regd1 = GridSearchCV(DecisionTreeRegressor(),\n",
    "                  param_grid={\"min_samples_split\":np.arange(4,15),\n",
    "                              \"max_depth\":np.arange(4,15),\n",
    "                             'min_samples_leaf':np.arange(4,15)},\n",
    "                  cv=5,\n",
    "                  scoring=\"neg_mean_absolute_error\")\n",
    "\n",
    "\n",
    "regd1.fit(X,y1)\n",
    "\n",
    "print(regd1.best_params_)"
   ]
  },
  {
   "cell_type": "markdown",
   "metadata": {},
   "source": [
    "##### Decision Tree y2"
   ]
  },
  {
   "cell_type": "code",
   "execution_count": 18,
   "metadata": {},
   "outputs": [
    {
     "name": "stdout",
     "output_type": "stream",
     "text": [
      "{'max_depth': 7, 'min_samples_leaf': 12, 'min_samples_split': 4}\n",
      "CPU times: user 6min 16s, sys: 188 ms, total: 6min 16s\n",
      "Wall time: 6min 17s\n"
     ]
    }
   ],
   "source": [
    "%%time\n",
    "\n",
    "regd2 = GridSearchCV(DecisionTreeRegressor(),\n",
    "                  param_grid={\"min_samples_split\":np.arange(4,15),\n",
    "                              \"max_depth\":np.arange(4,15),\n",
    "                             'min_samples_leaf':np.arange(4,15)},\n",
    "                  cv=5,\n",
    "                  scoring=\"neg_mean_absolute_error\")\n",
    "\n",
    "\n",
    "regd2.fit(X,y2)\n",
    "\n",
    "print(regd2.best_params_)"
   ]
  },
  {
   "cell_type": "markdown",
   "metadata": {},
   "source": [
    "##### Random Forest y1"
   ]
  },
  {
   "cell_type": "code",
   "execution_count": 19,
   "metadata": {},
   "outputs": [],
   "source": [
    "# Hiperparametros\n",
    "# n_estimators - number of intances - Number of trees\n",
    "n_estimators = [50,100,200,400,600]\n",
    "\n",
    "# max_depth: Maximun number of levels in the tree\n",
    "max_depth = [10,20,30,40,50]\n",
    "\n",
    "# min_sample_split: Min number of samples to split a node\n",
    "min_samples_split = [20,30,40,50,60]\n",
    "\n",
    "# min_sample_leaf: Min number of samples at each leaf node\n",
    "min_samples_leaf = [20,30,40,50,60]\n",
    "\n",
    "# min_sample_leaf: Min number of samples at each leaf node\n",
    "grid_param = {'n_estimators':n_estimators, 'max_depth':max_depth, 'min_samples_split': min_samples_split,\n",
    "              'min_samples_leaf':min_samples_leaf}"
   ]
  },
  {
   "cell_type": "markdown",
   "metadata": {},
   "source": [
    "##### Modelo con variable de Satisfacción con la vida 0"
   ]
  },
  {
   "cell_type": "code",
   "execution_count": 20,
   "metadata": {},
   "outputs": [
    {
     "name": "stdout",
     "output_type": "stream",
     "text": [
      "Fitting 5 folds for each of 100 candidates, totalling 500 fits\n"
     ]
    },
    {
     "name": "stderr",
     "output_type": "stream",
     "text": [
      "[Parallel(n_jobs=-1)]: Using backend LokyBackend with 8 concurrent workers.\n",
      "[Parallel(n_jobs=-1)]: Done  25 tasks      | elapsed:  1.5min\n",
      "[Parallel(n_jobs=-1)]: Done 146 tasks      | elapsed:  9.5min\n",
      "[Parallel(n_jobs=-1)]: Done 349 tasks      | elapsed: 22.9min\n",
      "[Parallel(n_jobs=-1)]: Done 500 out of 500 | elapsed: 29.4min finished\n"
     ]
    },
    {
     "name": "stdout",
     "output_type": "stream",
     "text": [
      "{'n_estimators': 200, 'min_samples_split': 60, 'min_samples_leaf': 60, 'max_depth': 10}\n",
      "CPU times: user 12 s, sys: 1.41 s, total: 13.4 s\n",
      "Wall time: 29min 33s\n"
     ]
    }
   ],
   "source": [
    "%%time\n",
    "\n",
    "rscv1 = RandomizedSearchCV(estimator = RandomForestRegressor(), param_distributions = grid_param, \n",
    "                        n_iter = 100, cv = 5, verbose = 2, random_state = 33, \n",
    "                        n_jobs = -1)\n",
    "\n",
    "rscv1.fit(X,y1)\n",
    "\n",
    "print(rscv1.best_params_)"
   ]
  },
  {
   "cell_type": "markdown",
   "metadata": {},
   "source": [
    "##### Modelo con variable de Satisfacción con la vida 2"
   ]
  },
  {
   "cell_type": "code",
   "execution_count": 21,
   "metadata": {},
   "outputs": [
    {
     "name": "stdout",
     "output_type": "stream",
     "text": [
      "Fitting 5 folds for each of 100 candidates, totalling 500 fits\n"
     ]
    },
    {
     "name": "stderr",
     "output_type": "stream",
     "text": [
      "[Parallel(n_jobs=-1)]: Using backend LokyBackend with 8 concurrent workers.\n",
      "[Parallel(n_jobs=-1)]: Done  25 tasks      | elapsed:  1.5min\n",
      "[Parallel(n_jobs=-1)]: Done 146 tasks      | elapsed:  9.4min\n",
      "[Parallel(n_jobs=-1)]: Done 349 tasks      | elapsed: 22.4min\n",
      "[Parallel(n_jobs=-1)]: Done 500 out of 500 | elapsed: 29.1min finished\n"
     ]
    },
    {
     "name": "stdout",
     "output_type": "stream",
     "text": [
      "{'n_estimators': 600, 'min_samples_split': 40, 'min_samples_leaf': 50, 'max_depth': 10}\n",
      "CPU times: user 30.4 s, sys: 1.11 s, total: 31.5 s\n",
      "Wall time: 29min 32s\n"
     ]
    }
   ],
   "source": [
    "%%time\n",
    "\n",
    "rscv2 = RandomizedSearchCV(estimator = RandomForestRegressor(), param_distributions = grid_param, \n",
    "                        n_iter = 100, cv = 5, verbose = 2, random_state = 33, \n",
    "                        n_jobs = -1)\n",
    "\n",
    "rscv2.fit(X,y2)\n",
    "\n",
    "print(rscv2.best_params_)"
   ]
  },
  {
   "cell_type": "markdown",
   "metadata": {},
   "source": [
    "# Feature Selection"
   ]
  },
  {
   "cell_type": "markdown",
   "metadata": {},
   "source": [
    "* Backward Elimination with OLS"
   ]
  },
  {
   "cell_type": "code",
   "execution_count": 49,
   "metadata": {},
   "outputs": [
    {
     "name": "stdout",
     "output_type": "stream",
     "text": [
      "['vhRentaa', 'HousingCost_HighImpactHH', 'CrConditions_NChronic', 'MDInternet_Yes', 'MDSelf_Yes', 'MDLeisure_Yes', 'MDFriends_Yes', 'MDShoes_Yes', 'MDClothes_Yes', 'CHealth', 'AREMonth']\n",
      "['vhRentaa', 'HousingCost_HighImpactHH', 'CrConditions_NChronic', 'MDSelf_Yes', 'MDLeisure_Yes', 'MDFriends_Yes', 'MDShoes_Yes', 'MDClothes_Yes', 'CHealth', 'AREMonth']\n"
     ]
    }
   ],
   "source": [
    "#Backward Elimination y1\n",
    "cols = list(X.columns)\n",
    "pmax = 1\n",
    "while (len(cols)>0):\n",
    "    p= []\n",
    "    X_1 = X[cols]\n",
    "    X_1 = sm.add_constant(X_1)\n",
    "    model = sm.OLS(y1,X_1).fit()\n",
    "    p = pd.Series(model.pvalues.values[1:],index = cols)\n",
    "    pmax = max(p)\n",
    "    feature_with_p_max = p.idxmax()\n",
    "    if(pmax>0.05):\n",
    "        cols.remove(feature_with_p_max)\n",
    "    else:\n",
    "        break\n",
    "selected_features_BE = cols\n",
    "print(selected_features_BE)\n",
    "\n",
    "#Backward Elimination y2\n",
    "cols = list(X.columns)\n",
    "pmax = 1\n",
    "while (len(cols)>0):\n",
    "    p= []\n",
    "    X_1 = X[cols]\n",
    "    X_1 = sm.add_constant(X_1)\n",
    "    model = sm.OLS(y2,X_1).fit()\n",
    "    p = pd.Series(model.pvalues.values[1:],index = cols)\n",
    "    pmax = max(p)\n",
    "    feature_with_p_max = p.idxmax()\n",
    "    if(pmax>0.05):\n",
    "        cols.remove(feature_with_p_max)\n",
    "    else:\n",
    "        break\n",
    "selected_features_BE = cols\n",
    "print(selected_features_BE)"
   ]
  },
  {
   "cell_type": "code",
   "execution_count": 46,
   "metadata": {},
   "outputs": [],
   "source": [
    "# Variables X para y 1\n",
    "X_1BD = ['vhRentaa', 'HousingCost_HighImpactHH', 'CrConditions_NChronic', \n",
    "         'MDInternet_Yes', 'MDSelf_Yes', 'MDLeisure_Yes', 'MDFriends_Yes', \n",
    "         'MDShoes_Yes', 'MDClothes_Yes', 'CHealth', 'AREMonth']\n",
    "# Variables X para y 2\n",
    "X_2BD = ['vhRentaa', 'HousingCost_HighImpactHH', 'CrConditions_NChronic', \n",
    "         'MDSelf_Yes', 'MDLeisure_Yes', 'MDFriends_Yes', 'MDShoes_Yes', \n",
    "         'MDClothes_Yes', 'CHealth', 'AREMonth']\n",
    "# Train - Test Split y1\n",
    "X_train1, X_test1, y_train1, y_test1 = train_test_split(\n",
    "    X,y1, test_size = 0.2, random_state = 42)\n",
    "# Train - Test Split y2\n",
    "X_train2, X_test2, y_train2, y_test2 = train_test_split(\n",
    "    X,y2, test_size = 0.2, random_state = 42)\n",
    "# Modelo y 1\n",
    "reg_1BE = LinearRegression()\n",
    "# Fit del modelo\n",
    "reg_1BE.fit(X_train1, y_train1)\n",
    "# Predicción de los valores en test\n",
    "pred_1BE= reg_1BE.predict(X_test1)\n",
    "\n",
    "# Modelo y 2\n",
    "reg_2BE = LinearRegression()\n",
    "# Fit del modelo\n",
    "reg_2BE.fit(X_train2, y_train2)\n",
    "# Predicción de los valores en test\n",
    "pred_2BE= reg_2BE.predict(X_test2)"
   ]
  },
  {
   "cell_type": "code",
   "execution_count": 48,
   "metadata": {
    "scrolled": true
   },
   "outputs": [
    {
     "name": "stdout",
     "output_type": "stream",
     "text": [
      "Resultados Regresión Lineal con variable de Satisfacción 0:\n",
      "MAPE: 0.9419839241990273\n",
      "MAE: 0.9419839241990325\n",
      "RMSE: 1.211657300319262\n",
      "correlation coefficient: 0.5519219532659716\n",
      "R2_score: 0.3045440832157986\n",
      "-------------\n",
      "Resultados Regresión Lineal con variable de Satisfacción 2:\n",
      "MAPE: 0.9383386028231032\n",
      "MAE: 0.9383386028231001\n",
      "RMSE: 1.2145500714481425\n",
      "correlation coefficient: 0.5859384642757269\n",
      "R2_score: 0.3432371696608169\n",
      "----------------------------\n",
      "----------------------------\n"
     ]
    }
   ],
   "source": [
    "# Regresión Lineal variable 1\n",
    "print('Resultados Regresión Lineal con variable de Satisfacción 0:')\n",
    "print('MAPE: ' + str(np.mean(np.abs(y_test1-pred_1BE))))\n",
    "print('MAE: ' + str(mean_absolute_error(y_test1,pred_1BE)))\n",
    "print('RMSE: ' + str(np.sqrt(mean_squared_error(reg_1BE.predict((X_test1)),y_test1))))\n",
    "print('correlation coefficient: ' + str(np.corrcoef(reg_1BE.predict(X_test1), y_test1)[0][1]))\n",
    "print('R2_score: ' + str(r2_score(y_test1,pred_1BE,multioutput='variance_weighted')))\n",
    "print('-------------')\n",
    "# Regresión Lineal variable 2 \n",
    "print('Resultados Regresión Lineal con variable de Satisfacción 2:')\n",
    "print('MAPE: ' + str(np.mean(np.abs(y_test2-pred_2BE))))\n",
    "print('MAE: ' + str(mean_absolute_error(y_test2,pred_2BE)))\n",
    "print('RMSE: ' + str(np.sqrt(mean_squared_error(reg_2BE.predict((X_test2)),y_test2))))\n",
    "print('correlation coefficient: ' + str(np.corrcoef(reg_2BE.predict(X_test2), y_test2)[0][1]))\n",
    "print('R2_score: ' + str(r2_score(y_test2,pred_2BE,multioutput='variance_weighted')))\n",
    "print('----------------------------')\n",
    "print('----------------------------')"
   ]
  }
 ],
 "metadata": {
  "kernelspec": {
   "display_name": "Python 3",
   "language": "python",
   "name": "python3"
  },
  "language_info": {
   "codemirror_mode": {
    "name": "ipython",
    "version": 3
   },
   "file_extension": ".py",
   "mimetype": "text/x-python",
   "name": "python",
   "nbconvert_exporter": "python",
   "pygments_lexer": "ipython3",
   "version": "3.7.4"
  }
 },
 "nbformat": 4,
 "nbformat_minor": 2
}
