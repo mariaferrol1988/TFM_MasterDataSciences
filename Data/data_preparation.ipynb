{
 "cells": [
  {
   "cell_type": "markdown",
   "metadata": {},
   "source": [
    "# Librerías"
   ]
  },
  {
   "cell_type": "code",
   "execution_count": 1,
   "metadata": {},
   "outputs": [],
   "source": [
    "import pandas as pd\n",
    "import numpy as np \n",
    "pd.set_option('display.max_columns', None)\n",
    "pd.set_option('display.max_rows', None)"
   ]
  },
  {
   "cell_type": "markdown",
   "metadata": {},
   "source": [
    "# Funciones para lectura y concatenado"
   ]
  },
  {
   "cell_type": "code",
   "execution_count": 2,
   "metadata": {},
   "outputs": [],
   "source": [
    "# Función para generar strings con nombres de los ficheros cambiando el identificador del año \n",
    "def filelist(st1,st2,n1,n2):\n",
    "    filelist = []\n",
    "    for n in range(n1,n2):\n",
    "        if n < 10:\n",
    "            filename = st1 + '0' + str(n) + st2\n",
    "            filelist.append(filename)\n",
    "        else: \n",
    "            filename = st1 + str(n) + st2\n",
    "            filelist.append(filename)\n",
    "    return filelist"
   ]
  },
  {
   "cell_type": "code",
   "execution_count": 4,
   "metadata": {},
   "outputs": [],
   "source": [
    "# Función para concatenar los ficheros de los distintos años en un sólo fichero\n",
    "def concatenated_df(df_list):\n",
    "    df_temp = pd.DataFrame()\n",
    "    for file in df_list:\n",
    "        df = pd.read_csv(file)\n",
    "        if df_temp.shape == (0,0):\n",
    "            df_temp = df\n",
    "        else: \n",
    "            df_temp = pd.concat([df_temp,df])\n",
    "    return df_temp"
   ]
  },
  {
   "cell_type": "code",
   "execution_count": 3,
   "metadata": {},
   "outputs": [],
   "source": [
    "# Listas con los ficheros de cada tipo que contienen datos de todos los años\n",
    "d_filelist = filelist('Files/esudb','d.csv',4,19) # Ficheros información geográfica año 2004 - 2018\n",
    "h_filelist = filelist('Files/esudb','h.csv',4,19) # Ficheros información del hogar año 2004 - 2018\n",
    "p_filelist = filelist('Files/esudb','p.csv',4,19) # Ficheros información de la persona año 2004 - 2018"
   ]
  },
  {
   "cell_type": "code",
   "execution_count": 7,
   "metadata": {},
   "outputs": [
    {
     "name": "stdout",
     "output_type": "stream",
     "text": [
      "CPU times: user 766 ms, sys: 93.8 ms, total: 859 ms\n",
      "Wall time: 846 ms\n"
     ]
    }
   ],
   "source": [
    "%%time\n",
    "df_D = concatenated_df(d_filelist)"
   ]
  },
  {
   "cell_type": "code",
   "execution_count": 8,
   "metadata": {
    "scrolled": true
   },
   "outputs": [
    {
     "name": "stderr",
     "output_type": "stream",
     "text": [
      "/home/mariacarrasco/anaconda3/lib/python3.7/site-packages/IPython/core/magic.py:187: DtypeWarning: Columns (49,75,79,89) have mixed types.Specify dtype option on import or set low_memory=False.\n",
      "  call = lambda f, *a, **k: f(*a, **k)\n",
      "/home/mariacarrasco/anaconda3/lib/python3.7/site-packages/IPython/core/magic.py:187: DtypeWarning: Columns (101) have mixed types.Specify dtype option on import or set low_memory=False.\n",
      "  call = lambda f, *a, **k: f(*a, **k)\n",
      "/home/mariacarrasco/anaconda3/lib/python3.7/site-packages/IPython/core/magic.py:187: DtypeWarning: Columns (3,9,73,79,95,97,99,101,111,113,123) have mixed types.Specify dtype option on import or set low_memory=False.\n",
      "  call = lambda f, *a, **k: f(*a, **k)\n",
      "/home/mariacarrasco/anaconda3/lib/python3.7/site-packages/IPython/core/magic.py:187: DtypeWarning: Columns (7,9,13,15,17,19,21,23,51,77,85,87,89,95,97,99,101,103,105,109,111,113,115,117,121,123,125,127,133,142,144,145,146,148,150,152,154,156,158,160,162,166,172,176) have mixed types.Specify dtype option on import or set low_memory=False.\n",
      "  call = lambda f, *a, **k: f(*a, **k)\n",
      "/home/mariacarrasco/anaconda3/lib/python3.7/site-packages/IPython/core/magic.py:187: DtypeWarning: Columns (3,13,79,99,103,119,133,146,152,158,188) have mixed types.Specify dtype option on import or set low_memory=False.\n",
      "  call = lambda f, *a, **k: f(*a, **k)\n",
      "/home/mariacarrasco/anaconda3/lib/python3.7/site-packages/IPython/core/magic.py:187: DtypeWarning: Columns (87,99,103,111,119,131,133,135,154,164) have mixed types.Specify dtype option on import or set low_memory=False.\n",
      "  call = lambda f, *a, **k: f(*a, **k)\n",
      "/home/mariacarrasco/anaconda3/lib/python3.7/site-packages/IPython/core/magic.py:187: DtypeWarning: Columns (13,101,109,111,113,115,121,125,133,137,142) have mixed types.Specify dtype option on import or set low_memory=False.\n",
      "  call = lambda f, *a, **k: f(*a, **k)\n",
      "/home/mariacarrasco/anaconda3/lib/python3.7/site-packages/IPython/core/magic.py:187: DtypeWarning: Columns (13,21,85,87,91,93,95,99,105,117,121,135,142) have mixed types.Specify dtype option on import or set low_memory=False.\n",
      "  call = lambda f, *a, **k: f(*a, **k)\n",
      "/home/mariacarrasco/anaconda3/lib/python3.7/site-packages/IPython/core/magic.py:187: DtypeWarning: Columns (9,89,103,105,121,133,142,152,156,158,160,162) have mixed types.Specify dtype option on import or set low_memory=False.\n",
      "  call = lambda f, *a, **k: f(*a, **k)\n",
      "/home/mariacarrasco/anaconda3/lib/python3.7/site-packages/IPython/core/magic.py:187: DtypeWarning: Columns (3,103,105,121,133,142,148) have mixed types.Specify dtype option on import or set low_memory=False.\n",
      "  call = lambda f, *a, **k: f(*a, **k)\n",
      "/home/mariacarrasco/anaconda3/lib/python3.7/site-packages/IPython/core/magic.py:187: DtypeWarning: Columns (85,95,97,99,101,121,133,142,148) have mixed types.Specify dtype option on import or set low_memory=False.\n",
      "  call = lambda f, *a, **k: f(*a, **k)\n",
      "/home/mariacarrasco/anaconda3/lib/python3.7/site-packages/IPython/core/magic.py:187: DtypeWarning: Columns (3,13,81,87,89,95,97,101,103,105,117,121,123,127,133,148) have mixed types.Specify dtype option on import or set low_memory=False.\n",
      "  call = lambda f, *a, **k: f(*a, **k)\n",
      "/home/mariacarrasco/anaconda3/lib/python3.7/site-packages/IPython/core/magic.py:187: DtypeWarning: Columns (9,13,89,95,99,105,109,111,113,115,119,121,125,133,145,151) have mixed types.Specify dtype option on import or set low_memory=False.\n",
      "  call = lambda f, *a, **k: f(*a, **k)\n",
      "/home/mariacarrasco/anaconda3/lib/python3.7/site-packages/IPython/core/magic.py:187: DtypeWarning: Columns (99,103,105,109,111,113,115,121,123,125,133) have mixed types.Specify dtype option on import or set low_memory=False.\n",
      "  call = lambda f, *a, **k: f(*a, **k)\n",
      "/home/mariacarrasco/anaconda3/lib/python3.7/site-packages/IPython/core/magic.py:187: DtypeWarning: Columns (9,13,21,85,87,89,91,99,103,105,127,145) have mixed types.Specify dtype option on import or set low_memory=False.\n",
      "  call = lambda f, *a, **k: f(*a, **k)\n"
     ]
    },
    {
     "name": "stdout",
     "output_type": "stream",
     "text": [
      "CPU times: user 1min, sys: 13.8 s, total: 1min 14s\n",
      "Wall time: 1min 14s\n"
     ]
    }
   ],
   "source": [
    "%%time\n",
    "df_H = concatenated_df(h_filelist)"
   ]
  },
  {
   "cell_type": "code",
   "execution_count": 9,
   "metadata": {},
   "outputs": [
    {
     "name": "stderr",
     "output_type": "stream",
     "text": [
      "/home/mariacarrasco/anaconda3/lib/python3.7/site-packages/IPython/core/magic.py:187: DtypeWarning: Columns (31,39,43,57,59,61,63,65,67,99,101,103,105,107,109,111,113,115,121,125) have mixed types.Specify dtype option on import or set low_memory=False.\n",
      "  call = lambda f, *a, **k: f(*a, **k)\n",
      "/home/mariacarrasco/anaconda3/lib/python3.7/site-packages/IPython/core/magic.py:187: DtypeWarning: Columns (9,23,31,43,57,59,61,63,65,67,91,93,95,97,99,101,103,105,107,109,111,113,115,121,125) have mixed types.Specify dtype option on import or set low_memory=False.\n",
      "  call = lambda f, *a, **k: f(*a, **k)\n",
      "/home/mariacarrasco/anaconda3/lib/python3.7/site-packages/IPython/core/magic.py:187: DtypeWarning: Columns (5,23,31,39,43,57,59,61,63,65,67,91,93,95,97,99,115) have mixed types.Specify dtype option on import or set low_memory=False.\n",
      "  call = lambda f, *a, **k: f(*a, **k)\n",
      "/home/mariacarrasco/anaconda3/lib/python3.7/site-packages/IPython/core/magic.py:187: DtypeWarning: Columns (11,23,25,31,39,43,97,99,101,115,117,119,121,125) have mixed types.Specify dtype option on import or set low_memory=False.\n",
      "  call = lambda f, *a, **k: f(*a, **k)\n",
      "/home/mariacarrasco/anaconda3/lib/python3.7/site-packages/IPython/core/magic.py:187: DtypeWarning: Columns (11) have mixed types.Specify dtype option on import or set low_memory=False.\n",
      "  call = lambda f, *a, **k: f(*a, **k)\n",
      "/home/mariacarrasco/anaconda3/lib/python3.7/site-packages/IPython/core/magic.py:187: DtypeWarning: Columns (11,39) have mixed types.Specify dtype option on import or set low_memory=False.\n",
      "  call = lambda f, *a, **k: f(*a, **k)\n",
      "/home/mariacarrasco/anaconda3/lib/python3.7/site-packages/IPython/core/magic.py:187: DtypeWarning: Columns (39) have mixed types.Specify dtype option on import or set low_memory=False.\n",
      "  call = lambda f, *a, **k: f(*a, **k)\n",
      "/home/mariacarrasco/anaconda3/lib/python3.7/site-packages/IPython/core/magic.py:187: DtypeWarning: Columns (11,226) have mixed types.Specify dtype option on import or set low_memory=False.\n",
      "  call = lambda f, *a, **k: f(*a, **k)\n"
     ]
    },
    {
     "name": "stdout",
     "output_type": "stream",
     "text": [
      "CPU times: user 3min 11s, sys: 41.1 s, total: 3min 52s\n",
      "Wall time: 3min 53s\n"
     ]
    }
   ],
   "source": [
    "%%time\n",
    "df_P = concatenated_df(p_filelist)"
   ]
  },
  {
   "cell_type": "markdown",
   "metadata": {},
   "source": [
    "# Limpieza y selección de variables fichero D / Sociodemográficos\n",
    "\n",
    "\n",
    "### Diccionario de variables seleccionadas y códigos asociados:\n",
    "\n",
    "| Variable    | Descripción  |  Categoría   | Código  |\n",
    "| ----------- | -------------| -------------| --------|\n",
    "| **DB010**    | **Año** | - |-|\n",
    "| **DB030**    | **Identificación del hogar** | - |-|\n",
    "| **DB040**    | **Región** | Galicia |ES11|\n",
    "| | |Principado de Asturias | ES12 |\n",
    "| | |Cantabria   | ES13 |\n",
    "| | |País Vasco  | ES21 |\n",
    "| | |Comunidad Foral de Navarra | ES22 |\n",
    "| | |La Rioja    | ES23 |\n",
    "| | |Aragón      | ES24 |\n",
    "| | |Comunidad de Madrid    | ES30 |\n",
    "| | |Castilla y León      | ES24 |\n",
    "| | |Comunidad de Madrid | \tES30 |\n",
    "| | |Castilla y León | ES41 |\n",
    "| | |Castilla-La Mancha\t| ES42 |\n",
    "| | |Extremadura | ES43 |\n",
    "| | |Cataluña | ES51 |\n",
    "| | |Comunidad Valenciana | ES52 |\n",
    "| | |Illes Balears | ES53 |\n",
    "| | |Andalucía | ES61 |\n",
    "| | |Región de Murcia | ES62 |\n",
    "| | |Ciudad Autónoma de Ceuta | ES63 |\n",
    "| | |Ciudad Autónoma de Melilla | ES64 |\n",
    "| | |Canarias | ES70 |\n",
    "| | |Extra-Regio | ESZZ |\n",
    "| **DB100** | **Habitat** | Grande | 1\t|\n",
    "| | |Mediano| 2 |\n",
    "| | |Pequeño| 3 |"
   ]
  },
  {
   "cell_type": "code",
   "execution_count": 11,
   "metadata": {},
   "outputs": [
    {
     "name": "stdout",
     "output_type": "stream",
     "text": [
      "(196498, 11)\n"
     ]
    },
    {
     "data": {
      "text/html": [
       "<div>\n",
       "<style scoped>\n",
       "    .dataframe tbody tr th:only-of-type {\n",
       "        vertical-align: middle;\n",
       "    }\n",
       "\n",
       "    .dataframe tbody tr th {\n",
       "        vertical-align: top;\n",
       "    }\n",
       "\n",
       "    .dataframe thead th {\n",
       "        text-align: right;\n",
       "    }\n",
       "</style>\n",
       "<table border=\"1\" class=\"dataframe\">\n",
       "  <thead>\n",
       "    <tr style=\"text-align: right;\">\n",
       "      <th></th>\n",
       "      <th>DB010</th>\n",
       "      <th>DB020</th>\n",
       "      <th>DB030</th>\n",
       "      <th>DB040</th>\n",
       "      <th>DB040_F</th>\n",
       "      <th>DB060</th>\n",
       "      <th>DB060_F</th>\n",
       "      <th>DB090</th>\n",
       "      <th>DB090_F</th>\n",
       "      <th>DB100</th>\n",
       "      <th>DB100_F</th>\n",
       "    </tr>\n",
       "  </thead>\n",
       "  <tbody>\n",
       "    <tr>\n",
       "      <th>0</th>\n",
       "      <td>2004</td>\n",
       "      <td>ES</td>\n",
       "      <td>1</td>\n",
       "      <td>ES21</td>\n",
       "      <td>1</td>\n",
       "      <td>1</td>\n",
       "      <td>1</td>\n",
       "      <td>997.96215</td>\n",
       "      <td>1</td>\n",
       "      <td>3</td>\n",
       "      <td>1</td>\n",
       "    </tr>\n",
       "    <tr>\n",
       "      <th>1</th>\n",
       "      <td>2004</td>\n",
       "      <td>ES</td>\n",
       "      <td>2</td>\n",
       "      <td>ES21</td>\n",
       "      <td>1</td>\n",
       "      <td>1</td>\n",
       "      <td>1</td>\n",
       "      <td>1001.89779</td>\n",
       "      <td>1</td>\n",
       "      <td>3</td>\n",
       "      <td>1</td>\n",
       "    </tr>\n",
       "    <tr>\n",
       "      <th>2</th>\n",
       "      <td>2004</td>\n",
       "      <td>ES</td>\n",
       "      <td>3</td>\n",
       "      <td>ES21</td>\n",
       "      <td>1</td>\n",
       "      <td>1</td>\n",
       "      <td>1</td>\n",
       "      <td>1105.30224</td>\n",
       "      <td>1</td>\n",
       "      <td>3</td>\n",
       "      <td>1</td>\n",
       "    </tr>\n",
       "    <tr>\n",
       "      <th>3</th>\n",
       "      <td>2004</td>\n",
       "      <td>ES</td>\n",
       "      <td>4</td>\n",
       "      <td>ES21</td>\n",
       "      <td>1</td>\n",
       "      <td>1</td>\n",
       "      <td>1</td>\n",
       "      <td>319.55250</td>\n",
       "      <td>1</td>\n",
       "      <td>3</td>\n",
       "      <td>1</td>\n",
       "    </tr>\n",
       "    <tr>\n",
       "      <th>4</th>\n",
       "      <td>2004</td>\n",
       "      <td>ES</td>\n",
       "      <td>5</td>\n",
       "      <td>ES21</td>\n",
       "      <td>1</td>\n",
       "      <td>1</td>\n",
       "      <td>1</td>\n",
       "      <td>2817.80555</td>\n",
       "      <td>1</td>\n",
       "      <td>3</td>\n",
       "      <td>1</td>\n",
       "    </tr>\n",
       "  </tbody>\n",
       "</table>\n",
       "</div>"
      ],
      "text/plain": [
       "   DB010 DB020  DB030 DB040  DB040_F DB060  DB060_F       DB090  DB090_F  \\\n",
       "0   2004    ES      1  ES21        1     1        1   997.96215        1   \n",
       "1   2004    ES      2  ES21        1     1        1  1001.89779        1   \n",
       "2   2004    ES      3  ES21        1     1        1  1105.30224        1   \n",
       "3   2004    ES      4  ES21        1     1        1   319.55250        1   \n",
       "4   2004    ES      5  ES21        1     1        1  2817.80555        1   \n",
       "\n",
       "   DB100  DB100_F  \n",
       "0      3        1  \n",
       "1      3        1  \n",
       "2      3        1  \n",
       "3      3        1  \n",
       "4      3        1  "
      ]
     },
     "execution_count": 11,
     "metadata": {},
     "output_type": "execute_result"
    }
   ],
   "source": [
    "print(df_D.shape)\n",
    "df_D.head()"
   ]
  },
  {
   "cell_type": "code",
   "execution_count": 53,
   "metadata": {
    "scrolled": true
   },
   "outputs": [
    {
     "name": "stderr",
     "output_type": "stream",
     "text": [
      "/home/mariacarrasco/anaconda3/lib/python3.7/site-packages/pandas/core/frame.py:4133: SettingWithCopyWarning: \n",
      "A value is trying to be set on a copy of a slice from a DataFrame\n",
      "\n",
      "See the caveats in the documentation: https://pandas.pydata.org/pandas-docs/stable/user_guide/indexing.html#returning-a-view-versus-a-copy\n",
      "  errors=errors,\n"
     ]
    },
    {
     "name": "stdout",
     "output_type": "stream",
     "text": [
      "(196498, 5)\n"
     ]
    },
    {
     "name": "stderr",
     "output_type": "stream",
     "text": [
      "/home/mariacarrasco/anaconda3/lib/python3.7/site-packages/ipykernel_launcher.py:12: SettingWithCopyWarning: \n",
      "A value is trying to be set on a copy of a slice from a DataFrame.\n",
      "Try using .loc[row_indexer,col_indexer] = value instead\n",
      "\n",
      "See the caveats in the documentation: https://pandas.pydata.org/pandas-docs/stable/user_guide/indexing.html#returning-a-view-versus-a-copy\n",
      "  if sys.path[0] == '':\n",
      "/home/mariacarrasco/anaconda3/lib/python3.7/site-packages/ipykernel_launcher.py:21: SettingWithCopyWarning: \n",
      "A value is trying to be set on a copy of a slice from a DataFrame.\n",
      "Try using .loc[row_indexer,col_indexer] = value instead\n",
      "\n",
      "See the caveats in the documentation: https://pandas.pydata.org/pandas-docs/stable/user_guide/indexing.html#returning-a-view-versus-a-copy\n",
      "/home/mariacarrasco/anaconda3/lib/python3.7/site-packages/ipykernel_launcher.py:25: SettingWithCopyWarning: \n",
      "A value is trying to be set on a copy of a slice from a DataFrame.\n",
      "Try using .loc[row_indexer,col_indexer] = value instead\n",
      "\n",
      "See the caveats in the documentation: https://pandas.pydata.org/pandas-docs/stable/user_guide/indexing.html#returning-a-view-versus-a-copy\n"
     ]
    },
    {
     "data": {
      "text/html": [
       "<div>\n",
       "<style scoped>\n",
       "    .dataframe tbody tr th:only-of-type {\n",
       "        vertical-align: middle;\n",
       "    }\n",
       "\n",
       "    .dataframe tbody tr th {\n",
       "        vertical-align: top;\n",
       "    }\n",
       "\n",
       "    .dataframe thead th {\n",
       "        text-align: right;\n",
       "    }\n",
       "</style>\n",
       "<table border=\"1\" class=\"dataframe\">\n",
       "  <thead>\n",
       "    <tr style=\"text-align: right;\">\n",
       "      <th></th>\n",
       "      <th>Year</th>\n",
       "      <th>HHId</th>\n",
       "      <th>Region</th>\n",
       "      <th>Habitat</th>\n",
       "      <th>Year_HHid</th>\n",
       "    </tr>\n",
       "  </thead>\n",
       "  <tbody>\n",
       "    <tr>\n",
       "      <th>0</th>\n",
       "      <td>2004</td>\n",
       "      <td>1</td>\n",
       "      <td>País Vasco</td>\n",
       "      <td>Small</td>\n",
       "      <td>2004_1</td>\n",
       "    </tr>\n",
       "    <tr>\n",
       "      <th>1</th>\n",
       "      <td>2004</td>\n",
       "      <td>2</td>\n",
       "      <td>País Vasco</td>\n",
       "      <td>Small</td>\n",
       "      <td>2004_2</td>\n",
       "    </tr>\n",
       "    <tr>\n",
       "      <th>2</th>\n",
       "      <td>2004</td>\n",
       "      <td>3</td>\n",
       "      <td>País Vasco</td>\n",
       "      <td>Small</td>\n",
       "      <td>2004_3</td>\n",
       "    </tr>\n",
       "    <tr>\n",
       "      <th>3</th>\n",
       "      <td>2004</td>\n",
       "      <td>4</td>\n",
       "      <td>País Vasco</td>\n",
       "      <td>Small</td>\n",
       "      <td>2004_4</td>\n",
       "    </tr>\n",
       "    <tr>\n",
       "      <th>4</th>\n",
       "      <td>2004</td>\n",
       "      <td>5</td>\n",
       "      <td>País Vasco</td>\n",
       "      <td>Small</td>\n",
       "      <td>2004_5</td>\n",
       "    </tr>\n",
       "  </tbody>\n",
       "</table>\n",
       "</div>"
      ],
      "text/plain": [
       "   Year  HHId      Region Habitat Year_HHid\n",
       "0  2004     1  País Vasco   Small    2004_1\n",
       "1  2004     2  País Vasco   Small    2004_2\n",
       "2  2004     3  País Vasco   Small    2004_3\n",
       "3  2004     4  País Vasco   Small    2004_4\n",
       "4  2004     5  País Vasco   Small    2004_5"
      ]
     },
     "execution_count": 53,
     "metadata": {},
     "output_type": "execute_result"
    }
   ],
   "source": [
    "# Selección de variables\n",
    "dfD_varlist = ['DB010','DB030','DB040','DB100']\n",
    "\n",
    "# Filtrado de columnas \n",
    "df_D1 = df_D[dfD_varlist]\n",
    "\n",
    "# Cambio de nombre de las variables\n",
    "df_D1.rename(columns = {'DB030':'HHId','DB010': 'Year','DB040': 'Region',\\\n",
    "                             'DB100': 'Habitat'}, inplace = True)\n",
    "\n",
    "# Creación de un ID año + ID del hogar para evitar duplicaciones entre los ids de distintos años\n",
    "df_D1['Year_HHid'] = df_D1['Year'].astype(str) + '_' + df_D1['HHId'].astype(str)\n",
    "\n",
    "# Cambio de códigos de CCAA por definición de la categoría\n",
    "\n",
    "df_D1['Region'] = df_D1['Region'].map({'ES11':'Galicia','ES12':'Principado de Asturias','ES13':'Cantabria','ES21':'País Vasco',\n",
    "                     'ES22':'Comunidad Foral de Navarra','ES23':'La Rioja','ES24':'Aragón','ES30':'Comunidad de Madrid',\n",
    "                     'ES24':'Castilla y León','ES30':'Comunidad de Madrid','ES41':'Castilla y León','ES42':'Castilla-La Mancha',\n",
    "                     'ES43':'Extremadura','ES51':'Cataluña','ES52':'Comunidad Valenciana','ES53':'Illes Balears',\n",
    "                     'ES61':'Andalucía','ES62':'Región de Murcia','ES63':'Ciudad Autónoma de Ceuta',\n",
    "                     'ES64':'Ciudad Autónoma de Melilla','ES70':'Canarias','ESZZ':'Extra-Regio'})\n",
    "\n",
    "\n",
    "# Cambio de códigos para el tamaño del hábitat por definición de la categoría\n",
    "df_D1['Habitat']= df_D1['Habitat'].map({1: 'Big', 2 : 'Medium', 3 : 'Small' }) \n",
    "\n",
    "# Tamaño del dataframe una vez aplicados los cambios\n",
    "print(df_D1.shape)\n",
    "df_D1.head()"
   ]
  }
 ],
 "metadata": {
  "kernelspec": {
   "display_name": "Python 3",
   "language": "python",
   "name": "python3"
  },
  "language_info": {
   "codemirror_mode": {
    "name": "ipython",
    "version": 3
   },
   "file_extension": ".py",
   "mimetype": "text/x-python",
   "name": "python",
   "nbconvert_exporter": "python",
   "pygments_lexer": "ipython3",
   "version": "3.7.4"
  }
 },
 "nbformat": 4,
 "nbformat_minor": 2
}
